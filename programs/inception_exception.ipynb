{
 "cells": [
  {
   "cell_type": "code",
   "execution_count": 1,
   "metadata": {},
   "outputs": [
    {
     "name": "stderr",
     "output_type": "stream",
     "text": [
      "Using TensorFlow backend.\n"
     ]
    }
   ],
   "source": [
    "import pandas as pd\n",
    "#from keras.preprocessing import image\n",
    "from matplotlib import pyplot\n",
    "from matplotlib.pyplot import imshow\n",
    "import split_data as sd\n",
    "import basic_model as n\n",
    "import numpy as np\n",
    "from sklearn.metrics import confusion_matrix\n",
    "#import Network as net\n",
    "import vectorised as v\n",
    "from random import randint\n",
    "import tensorflow as tf\n",
    "config = tf.ConfigProto()\n",
    "config.gpu_options.allow_growth = True\n",
    "session = tf.Session(config=config)\n",
    "from keras.backend.tensorflow_backend import set_session\n",
    "set_session(tf.Session(config=config))\n",
    "import keras\n",
    "from keras.preprocessing import image\n",
    "from keras.preprocessing.image import ImageDataGenerator\n",
    "config=tf.ConfigProto()\n",
    "config.gpu_options.allow_growth=True"
   ]
  },
  {
   "cell_type": "code",
   "execution_count": 2,
   "metadata": {},
   "outputs": [
    {
     "name": "stdout",
     "output_type": "stream",
     "text": [
      "                                 id             breed\n",
      "0  000bec180eb18c7604dcecc8fe0dba07       boston_bull\n",
      "1  001513dfcb2ffafc82cccf4d8bbaba97             dingo\n",
      "2  001cdf01b096e06d78e9e5112d419397          pekinese\n",
      "3  00214f311d5d2247d5dfe4fe24b2303d          bluetick\n",
      "4  0021f9ceb3235effd7fcde7f7538ed62  golden_retriever\n"
     ]
    }
   ],
   "source": [
    "data=pd.read_csv('/home/snehao/dog_breed/Image_Classification/labels.csv')\n",
    "print(data.head())\n",
    "targets_series = pd.Series(data['breed'])\n",
    "one_hot = pd.get_dummies(targets_series, sparse = True)\n",
    "one_hot_labels = np.asarray(one_hot)"
   ]
  },
  {
   "cell_type": "code",
   "execution_count": 3,
   "metadata": {},
   "outputs": [
    {
     "name": "stdout",
     "output_type": "stream",
     "text": [
      "(1022, 2)\n",
      "(1022, 120)\n",
      "(1023, 2)\n",
      "(1023, 120)\n"
     ]
    }
   ],
   "source": [
    "x_train,x_test,y_train,y_test=sd.split_data(data,one_hot_labels,.20)\n",
    "#y_test1=x_test['breed'].values\n",
    "#print(x_train.nlargest(5,x_train.groupby(['breed']).size()))\n",
    "x_val,x_test,y_val,y_test=sd.split_data(x_test,y_test,.50)\n",
    "#print(x_train.groupby(['breed']).size().sort_values())\n",
    "print(x_val.shape)\n",
    "print(y_val.shape)\n",
    "print(x_test.shape)\n",
    "print(y_test.shape)"
   ]
  },
  {
   "cell_type": "code",
   "execution_count": 4,
   "metadata": {},
   "outputs": [
    {
     "name": "stdout",
     "output_type": "stream",
     "text": [
      "x_shape (8177, 224, 224, 3)\n",
      "y_shape (8177, 120)\n"
     ]
    }
   ],
   "source": [
    "x=[]\n",
    "y=[]\n",
    "#for i in range(100):\n",
    "for i in range(x_train.shape[0]):\n",
    "    img = image.load_img('/home/snehao/dog_breed/train/'+x_train.iloc[i][0]+'.jpg',target_size=(224,224,3))\n",
    "    arr=image.img_to_array(img)\n",
    "    x.append(arr/255)\n",
    "    y.append(y_train[i])\n",
    "x=np.array(x)\n",
    "y=np.array(y)\n",
    "print('x_shape',x.shape)\n",
    "print('y_shape',y.shape)"
   ]
  },
  {
   "cell_type": "code",
   "execution_count": 5,
   "metadata": {},
   "outputs": [
    {
     "name": "stdout",
     "output_type": "stream",
     "text": [
      "y_shape (1022, 120)\n",
      "x_shape (1022, 224, 224, 3)\n"
     ]
    }
   ],
   "source": [
    "x_val_images=[]\n",
    "#for i in range(100):\n",
    "for i in range(x_val.shape[0]): \n",
    "    img = image.load_img('/home/snehao/dog_breed/train/'+x_val.iloc[i][0]+'.jpg',target_size=(224,224,3))\n",
    "    arr=image.img_to_array(img)\n",
    "    x_val_images.append(arr/255)\n",
    "    \n",
    "x_val_images=np.array(x_val_images)\n",
    "print('y_shape',y_val.shape)\n",
    "print('x_shape',x_val_images.shape)\n"
   ]
  },
  {
   "cell_type": "code",
   "execution_count": 6,
   "metadata": {},
   "outputs": [
    {
     "name": "stdout",
     "output_type": "stream",
     "text": [
      "y_shape (1023, 120)\n",
      "x_shape (1023, 224, 224, 3)\n"
     ]
    }
   ],
   "source": [
    "x_test_images=[]\n",
    "#for i in range(100):\n",
    "for i in range(x_test.shape[0]): \n",
    "    img = image.load_img('/home/snehao/dog_breed/train/'+x_test.iloc[i][0]+'.jpg',target_size=(224,224,3))\n",
    "    arr=image.img_to_array(img)\n",
    "    x_test_images.append(arr/255)\n",
    "    \n",
    "x_test_images=np.array(x_test_images)\n",
    "print('y_shape',y_test.shape)\n",
    "print('x_shape',x_test_images.shape)"
   ]
  },
  {
   "cell_type": "code",
   "execution_count": 7,
   "metadata": {
    "collapsed": true
   },
   "outputs": [],
   "source": [
    "files=!ls {\"/home/snehao/dog_breed/Image_Classification/\"}test\n",
    "i=0\n",
    "x_predict=[]\n",
    "for i in range(len(files)):\n",
    "    img1=image.load_img(f'{\"/home/snehao/dog_breed/Image_Classification/\"}test/{files[i]}',target_size=(224,224,3))\n",
    "    arr=image.img_to_array(img1)\n",
    "    x_predict.append(arr/255)\n",
    "x_predict=np.array(x_predict)"
   ]
  },
  {
   "cell_type": "code",
   "execution_count": 8,
   "metadata": {},
   "outputs": [],
   "source": [
    "from keras.layers import Concatenate,Add,BatchNormalization,Input,Dropout,Dense,Activation,Flatten,MaxPooling2D,Conv2D,ZeroPadding2D\n",
    "from keras.models import Model,Sequential\n",
    "from keras.applications.inception_v3 import InceptionV3\n",
    "from keras.applications.xception import Xception\n",
    "from keras.applications.vgg16 import VGG16\n",
    "from keras.applications.vgg19 import VGG19\n",
    "from keras.applications.resnet50 import ResNet50\n",
    "base_model = InceptionV3(input_shape=(224,224,3),weights='imagenet', include_top=False,pooling='avg')\n",
    "base_model1 = Xception(input_shape=(224,224,3),weights='imagenet', include_top=False,pooling='avg')\n",
    "#base_model2 = VGG16(input_shape=(224,224,3),weights='imagenet', include_top=False,pooling='avg')\n",
    "#base_model3 = VGG19(input_shape=(224,224,3),weights='imagenet', include_top=False,pooling='avg')\n",
    "#base_model4 = ResNet50(input_shape=(224,224,3),weights='imagenet', include_top=False,pooling='avg')\n"
   ]
  },
  {
   "cell_type": "code",
   "execution_count": 9,
   "metadata": {},
   "outputs": [],
   "source": [
    "ipred=base_model.predict(x)\n",
    "xpred=base_model1.predict(x)\n",
    "#v16pred=base_model2.predict(x)\n",
    "#v19pred=base_model3.predict(x)\n",
    "#rpred=base_model4.predict(x)"
   ]
  },
  {
   "cell_type": "code",
   "execution_count": 10,
   "metadata": {},
   "outputs": [
    {
     "name": "stdout",
     "output_type": "stream",
     "text": [
      "(8177, 2048) (8177, 2048)\n"
     ]
    }
   ],
   "source": [
    "print(ipred.shape,xpred.shape)"
   ]
  },
  {
   "cell_type": "code",
   "execution_count": 11,
   "metadata": {
    "collapsed": true
   },
   "outputs": [],
   "source": [
    "final=np.concatenate((ipred,xpred),axis=1)"
   ]
  },
  {
   "cell_type": "code",
   "execution_count": 12,
   "metadata": {},
   "outputs": [
    {
     "name": "stdout",
     "output_type": "stream",
     "text": [
      "(8177, 4096)\n"
     ]
    }
   ],
   "source": [
    "print(final.shape)"
   ]
  },
  {
   "cell_type": "code",
   "execution_count": 13,
   "metadata": {
    "collapsed": true
   },
   "outputs": [],
   "source": [
    "ifpred=base_model.predict(np.flip(x,axis=2))\n",
    "xfpred=base_model1.predict(np.flip(x,axis=2))\n",
    "#vf16pred=base_model2.predict(np.flip(x,axis=2))\n",
    "#vf19pred=base_model3.predict(np.flip(x,axis=2))\n",
    "#rfpred=base_model4.predict(np.flip(x,axis=2))"
   ]
  },
  {
   "cell_type": "code",
   "execution_count": 14,
   "metadata": {},
   "outputs": [
    {
     "name": "stdout",
     "output_type": "stream",
     "text": [
      "(8177, 2048) (8177, 2048)\n"
     ]
    }
   ],
   "source": [
    "print(ifpred.shape,xfpred.shape)"
   ]
  },
  {
   "cell_type": "code",
   "execution_count": 15,
   "metadata": {
    "collapsed": true
   },
   "outputs": [],
   "source": [
    "finalf=np.concatenate((ifpred,xfpred),axis=1)"
   ]
  },
  {
   "cell_type": "code",
   "execution_count": 16,
   "metadata": {
    "collapsed": true
   },
   "outputs": [],
   "source": [
    "ivpred=base_model.predict(x_val_images)\n",
    "xvpred=base_model1.predict(x_val_images)\n",
    "#vv16pred=base_model2.predict(x_val_images)\n",
    "#vv19pred=base_model3.predict(x_val_images)\n",
    "#rvpred=base_model4.predict(x_val_images)"
   ]
  },
  {
   "cell_type": "code",
   "execution_count": 17,
   "metadata": {},
   "outputs": [
    {
     "name": "stdout",
     "output_type": "stream",
     "text": [
      "(1022, 2048) (1022, 2048)\n"
     ]
    }
   ],
   "source": [
    "print(ivpred.shape,xvpred.shape)"
   ]
  },
  {
   "cell_type": "code",
   "execution_count": 18,
   "metadata": {
    "collapsed": true
   },
   "outputs": [],
   "source": [
    "finalv=np.concatenate((ivpred,xvpred),axis=1)"
   ]
  },
  {
   "cell_type": "code",
   "execution_count": 19,
   "metadata": {},
   "outputs": [
    {
     "data": {
      "text/plain": [
       "(1022, 4096)"
      ]
     },
     "execution_count": 19,
     "metadata": {},
     "output_type": "execute_result"
    }
   ],
   "source": [
    "finalv.shape"
   ]
  },
  {
   "cell_type": "code",
   "execution_count": 20,
   "metadata": {
    "collapsed": true
   },
   "outputs": [],
   "source": [
    "ivfpred=base_model.predict(np.flip(x_val_images,axis=2))\n",
    "xvfpred=base_model1.predict(np.flip(x_val_images,axis=2))\n",
    "#vvf16pred=base_model2.predict(np.flip(x_val_images,axis=2))\n",
    "#vvf19pred=base_model1.predict(np.flip(x_val_images,axis=2))\n",
    "#rvfpred=base_model2.predict(np.flip(x_val_images,axis=2))\n",
    "finalvf=np.concatenate((ivfpred,xvfpred),axis=1)"
   ]
  },
  {
   "cell_type": "code",
   "execution_count": 21,
   "metadata": {
    "collapsed": true
   },
   "outputs": [],
   "source": [
    "import cv2"
   ]
  },
  {
   "cell_type": "code",
   "execution_count": 22,
   "metadata": {
    "collapsed": true
   },
   "outputs": [],
   "source": [
    "img=[]\n",
    "for i in range(x.shape[0]):\n",
    "    cropped_img = x[i][50:200, 50:200]\n",
    "    img.append(cv2.resize(cropped_img,(224,224)))\n",
    "img1=np.array(img)"
   ]
  },
  {
   "cell_type": "code",
   "execution_count": 23,
   "metadata": {},
   "outputs": [
    {
     "data": {
      "text/plain": [
       "(8177, 224, 224, 3)"
      ]
     },
     "execution_count": 23,
     "metadata": {},
     "output_type": "execute_result"
    }
   ],
   "source": [
    "img1.shape"
   ]
  },
  {
   "cell_type": "code",
   "execution_count": 24,
   "metadata": {
    "collapsed": true
   },
   "outputs": [],
   "source": [
    "imgv=[]\n",
    "for i in range(x_val_images.shape[0]):\n",
    "    cropped_img = x_val_images[i][50:200, 50:200]\n",
    "    imgv.append(cv2.resize(cropped_img,(224,224)))\n",
    "imgv1=np.array(imgv)"
   ]
  },
  {
   "cell_type": "code",
   "execution_count": 25,
   "metadata": {},
   "outputs": [
    {
     "data": {
      "text/plain": [
       "(1022, 224, 224, 3)"
      ]
     },
     "execution_count": 25,
     "metadata": {},
     "output_type": "execute_result"
    }
   ],
   "source": [
    "imgv1.shape"
   ]
  },
  {
   "cell_type": "code",
   "execution_count": 26,
   "metadata": {},
   "outputs": [],
   "source": [
    "imgt=[]\n",
    "for i in range(x_test_images.shape[0]):\n",
    "    cropped_img = x_test_images[i][50:200, 50:200]\n",
    "    imgt.append(cv2.resize(cropped_img,(224,224)))\n",
    "imgt=np.array(imgt)"
   ]
  },
  {
   "cell_type": "code",
   "execution_count": 27,
   "metadata": {
    "collapsed": true
   },
   "outputs": [],
   "source": [
    "imgp=[]\n",
    "for i in range(x_predict.shape[0]):\n",
    "    cropped_img = x_predict[i][50:200, 50:200]\n",
    "    imgp.append(cv2.resize(cropped_img,(224,224)))\n",
    "imgp=np.array(imgp)"
   ]
  },
  {
   "cell_type": "code",
   "execution_count": 28,
   "metadata": {},
   "outputs": [
    {
     "data": {
      "text/plain": [
       "(10357, 224, 224, 3)"
      ]
     },
     "execution_count": 28,
     "metadata": {},
     "output_type": "execute_result"
    }
   ],
   "source": [
    "imgp.shape"
   ]
  },
  {
   "cell_type": "code",
   "execution_count": 29,
   "metadata": {},
   "outputs": [
    {
     "data": {
      "text/plain": [
       "(1023, 4096)"
      ]
     },
     "execution_count": 29,
     "metadata": {},
     "output_type": "execute_result"
    }
   ],
   "source": [
    "itpred=base_model.predict(x_test_images)\n",
    "xtpred=base_model1.predict(x_test_images)\n",
    "#vt16pred=base_model2.predict(x_test_images)\n",
    "#vt19pred=base_model3.predict(x_test_images)\n",
    "#rtpred=base_model4.predict(x_test_images)\n",
    "finalt=np.concatenate((itpred,xtpred),axis=1)\n",
    "finalt.shape"
   ]
  },
  {
   "cell_type": "code",
   "execution_count": 43,
   "metadata": {},
   "outputs": [
    {
     "name": "stdout",
     "output_type": "stream",
     "text": [
      "_________________________________________________________________\n",
      "Layer (type)                 Output Shape              Param #   \n",
      "=================================================================\n",
      "input_6 (InputLayer)         (None, 4096)              0         \n",
      "_________________________________________________________________\n",
      "dense_4 (Dense)              (None, 120)               491640    \n",
      "=================================================================\n",
      "Total params: 491,640\n",
      "Trainable params: 491,640\n",
      "Non-trainable params: 0\n",
      "_________________________________________________________________\n",
      "None\n"
     ]
    }
   ],
   "source": [
    "from keras import optimizers \n",
    "import keras.regularizers as regularizers \n",
    "input_shape=Input((4096,)) \n",
    "\n",
    "x1=Dense(120, activation='softmax')(input_shape) \n",
    "model=Model(inputs=input_shape,outputs=x1) \n",
    "print(model.summary()) \n",
    "#sgd=optimizers.SGD(lr=0.0001, momentum=0.0, decay=0.0, nesterov=False) \n",
    "model.compile(loss='categorical_crossentropy', optimizer='sgd', metrics=['accuracy'])\n"
   ]
  },
  {
   "cell_type": "code",
   "execution_count": 33,
   "metadata": {},
   "outputs": [
    {
     "name": "stdout",
     "output_type": "stream",
     "text": [
      "Train on 8177 samples, validate on 1022 samples\n",
      "Epoch 1/100\n",
      "8177/8177 [==============================] - 0s - loss: 4.1342 - acc: 0.1817 - val_loss: 3.2750 - val_acc: 0.4217\n",
      "Epoch 2/100\n",
      "8177/8177 [==============================] - 0s - loss: 2.6340 - acc: 0.5948 - val_loss: 2.1467 - val_acc: 0.6712\n",
      "Epoch 3/100\n",
      "8177/8177 [==============================] - 0s - loss: 1.7504 - acc: 0.7351 - val_loss: 1.5410 - val_acc: 0.7407\n",
      "Epoch 4/100\n",
      "8177/8177 [==============================] - 0s - loss: 1.2942 - acc: 0.7793 - val_loss: 1.2305 - val_acc: 0.7671\n",
      "Epoch 5/100\n",
      "8177/8177 [==============================] - 0s - loss: 1.0533 - acc: 0.7997 - val_loss: 1.0612 - val_acc: 0.7847\n",
      "Epoch 6/100\n",
      "8177/8177 [==============================] - 0s - loss: 0.9121 - acc: 0.8136 - val_loss: 0.9560 - val_acc: 0.7896\n",
      "Epoch 7/100\n",
      "8177/8177 [==============================] - 0s - loss: 0.8188 - acc: 0.8222 - val_loss: 0.8891 - val_acc: 0.7935\n",
      "Epoch 8/100\n",
      "8177/8177 [==============================] - 0s - loss: 0.7543 - acc: 0.8296 - val_loss: 0.8404 - val_acc: 0.7975\n",
      "Epoch 9/100\n",
      "8177/8177 [==============================] - 0s - loss: 0.7051 - acc: 0.8371 - val_loss: 0.8060 - val_acc: 0.7975\n",
      "Epoch 10/100\n",
      "8177/8177 [==============================] - 0s - loss: 0.6664 - acc: 0.8407 - val_loss: 0.7750 - val_acc: 0.8033\n",
      "Epoch 11/100\n",
      "8177/8177 [==============================] - 0s - loss: 0.6351 - acc: 0.8447 - val_loss: 0.7533 - val_acc: 0.7994\n",
      "Epoch 12/100\n",
      "8177/8177 [==============================] - 0s - loss: 0.6080 - acc: 0.8476 - val_loss: 0.7351 - val_acc: 0.7984\n",
      "Epoch 13/100\n",
      "8177/8177 [==============================] - 0s - loss: 0.5851 - acc: 0.8541 - val_loss: 0.7221 - val_acc: 0.8033\n",
      "Epoch 14/100\n",
      "8177/8177 [==============================] - 0s - loss: 0.5651 - acc: 0.8564 - val_loss: 0.7110 - val_acc: 0.8043\n",
      "Epoch 15/100\n",
      "8177/8177 [==============================] - 0s - loss: 0.5468 - acc: 0.8600 - val_loss: 0.7007 - val_acc: 0.8023\n",
      "Epoch 16/100\n",
      "8177/8177 [==============================] - 0s - loss: 0.5305 - acc: 0.8640 - val_loss: 0.6927 - val_acc: 0.8063\n",
      "Epoch 17/100\n",
      "8177/8177 [==============================] - 0s - loss: 0.5157 - acc: 0.8683 - val_loss: 0.6824 - val_acc: 0.8112\n",
      "Epoch 18/100\n",
      "8177/8177 [==============================] - 0s - loss: 0.5025 - acc: 0.8701 - val_loss: 0.6771 - val_acc: 0.8043\n",
      "Epoch 19/100\n",
      "8177/8177 [==============================] - 0s - loss: 0.4895 - acc: 0.8729 - val_loss: 0.6734 - val_acc: 0.80820.86\n",
      "Epoch 20/100\n",
      "8177/8177 [==============================] - 0s - loss: 0.4783 - acc: 0.8768 - val_loss: 0.6654 - val_acc: 0.8092\n",
      "Epoch 21/100\n",
      "8177/8177 [==============================] - 0s - loss: 0.4670 - acc: 0.8795 - val_loss: 0.6618 - val_acc: 0.8112\n",
      "Epoch 22/100\n",
      "8177/8177 [==============================] - 0s - loss: 0.4567 - acc: 0.8821 - val_loss: 0.6568 - val_acc: 0.8121\n",
      "Epoch 23/100\n",
      "8177/8177 [==============================] - 0s - loss: 0.4470 - acc: 0.8833 - val_loss: 0.6550 - val_acc: 0.8072\n",
      "Epoch 24/100\n",
      "8177/8177 [==============================] - 0s - loss: 0.4377 - acc: 0.8865 - val_loss: 0.6511 - val_acc: 0.8112\n",
      "Epoch 25/100\n",
      "8177/8177 [==============================] - 0s - loss: 0.4291 - acc: 0.8882 - val_loss: 0.6491 - val_acc: 0.8082\n",
      "Epoch 26/100\n",
      "8177/8177 [==============================] - 0s - loss: 0.4207 - acc: 0.8913 - val_loss: 0.6463 - val_acc: 0.8072\n",
      "Epoch 27/100\n",
      "8177/8177 [==============================] - 0s - loss: 0.4122 - acc: 0.8942 - val_loss: 0.6432 - val_acc: 0.8082\n",
      "Epoch 28/100\n",
      "8177/8177 [==============================] - 0s - loss: 0.4051 - acc: 0.8956 - val_loss: 0.6408 - val_acc: 0.8112\n",
      "Epoch 29/100\n",
      "8177/8177 [==============================] - 0s - loss: 0.3976 - acc: 0.8987 - val_loss: 0.6406 - val_acc: 0.8112\n",
      "Epoch 30/100\n",
      "8177/8177 [==============================] - 0s - loss: 0.3904 - acc: 0.9017 - val_loss: 0.6377 - val_acc: 0.8053\n",
      "Epoch 31/100\n",
      "8177/8177 [==============================] - 0s - loss: 0.3839 - acc: 0.9020 - val_loss: 0.6369 - val_acc: 0.8102\n",
      "Epoch 32/100\n",
      "8177/8177 [==============================] - 0s - loss: 0.3774 - acc: 0.9047 - val_loss: 0.6353 - val_acc: 0.8112\n",
      "Epoch 33/100\n",
      "8177/8177 [==============================] - 0s - loss: 0.3711 - acc: 0.9053 - val_loss: 0.6324 - val_acc: 0.8082\n",
      "Epoch 34/100\n",
      "8177/8177 [==============================] - 0s - loss: 0.3649 - acc: 0.9082 - val_loss: 0.6326 - val_acc: 0.8112\n",
      "Epoch 35/100\n",
      "8177/8177 [==============================] - 0s - loss: 0.3590 - acc: 0.9086 - val_loss: 0.6313 - val_acc: 0.8121\n",
      "Epoch 36/100\n",
      "8177/8177 [==============================] - 0s - loss: 0.3531 - acc: 0.9117 - val_loss: 0.6300 - val_acc: 0.8082\n",
      "Epoch 37/100\n",
      "8177/8177 [==============================] - 0s - loss: 0.3478 - acc: 0.9132 - val_loss: 0.6296 - val_acc: 0.8102\n",
      "Epoch 38/100\n",
      "8177/8177 [==============================] - 0s - loss: 0.3423 - acc: 0.9137 - val_loss: 0.6296 - val_acc: 0.8072\n",
      "Epoch 39/100\n",
      "8177/8177 [==============================] - 0s - loss: 0.3370 - acc: 0.9173 - val_loss: 0.6270 - val_acc: 0.8053\n",
      "Epoch 40/100\n",
      "8177/8177 [==============================] - 0s - loss: 0.3322 - acc: 0.9181 - val_loss: 0.6259 - val_acc: 0.8082\n",
      "Epoch 41/100\n",
      "8177/8177 [==============================] - 0s - loss: 0.3271 - acc: 0.9187 - val_loss: 0.6265 - val_acc: 0.8072\n",
      "Epoch 42/100\n",
      "8177/8177 [==============================] - 0s - loss: 0.3222 - acc: 0.9208 - val_loss: 0.6265 - val_acc: 0.8072\n",
      "Epoch 43/100\n",
      "8177/8177 [==============================] - 0s - loss: 0.3178 - acc: 0.9210 - val_loss: 0.6255 - val_acc: 0.8121\n",
      "Epoch 44/100\n",
      "8177/8177 [==============================] - 0s - loss: 0.3135 - acc: 0.9230 - val_loss: 0.6243 - val_acc: 0.8092\n",
      "Epoch 45/100\n",
      "8177/8177 [==============================] - 0s - loss: 0.3090 - acc: 0.9243 - val_loss: 0.6236 - val_acc: 0.8102\n",
      "Epoch 46/100\n",
      "8177/8177 [==============================] - 0s - loss: 0.3045 - acc: 0.9266 - val_loss: 0.6235 - val_acc: 0.8053\n",
      "Epoch 47/100\n",
      "8177/8177 [==============================] - 0s - loss: 0.3005 - acc: 0.9278 - val_loss: 0.6241 - val_acc: 0.8072\n",
      "Epoch 48/100\n",
      "8177/8177 [==============================] - 0s - loss: 0.2962 - acc: 0.9296 - val_loss: 0.6246 - val_acc: 0.8082\n",
      "Epoch 49/100\n",
      "8177/8177 [==============================] - 0s - loss: 0.2924 - acc: 0.9303 - val_loss: 0.6236 - val_acc: 0.8063\n",
      "Epoch 50/100\n",
      "8177/8177 [==============================] - 0s - loss: 0.2886 - acc: 0.9298 - val_loss: 0.6238 - val_acc: 0.8072\n",
      "Epoch 51/100\n",
      "8177/8177 [==============================] - 0s - loss: 0.2849 - acc: 0.9320 - val_loss: 0.6232 - val_acc: 0.8063\n",
      "Epoch 52/100\n",
      "8177/8177 [==============================] - 0s - loss: 0.2811 - acc: 0.9340 - val_loss: 0.6219 - val_acc: 0.8092\n",
      "Epoch 53/100\n",
      "8177/8177 [==============================] - 0s - loss: 0.2773 - acc: 0.9341 - val_loss: 0.6212 - val_acc: 0.8082\n",
      "Epoch 54/100\n",
      "8177/8177 [==============================] - 0s - loss: 0.2738 - acc: 0.9357 - val_loss: 0.6204 - val_acc: 0.8092\n",
      "Epoch 55/100\n",
      "8177/8177 [==============================] - 0s - loss: 0.2702 - acc: 0.9374 - val_loss: 0.6224 - val_acc: 0.8092\n",
      "Epoch 56/100\n",
      "8177/8177 [==============================] - 0s - loss: 0.2669 - acc: 0.9384 - val_loss: 0.6217 - val_acc: 0.8102\n",
      "Epoch 57/100\n",
      "8177/8177 [==============================] - 0s - loss: 0.2638 - acc: 0.9400 - val_loss: 0.6217 - val_acc: 0.8043\n",
      "Epoch 58/100\n",
      "8177/8177 [==============================] - 0s - loss: 0.2606 - acc: 0.9411 - val_loss: 0.6222 - val_acc: 0.8004\n",
      "Epoch 59/100\n",
      "8177/8177 [==============================] - 0s - loss: 0.2574 - acc: 0.9415 - val_loss: 0.6207 - val_acc: 0.8033\n",
      "Epoch 60/100\n",
      "8177/8177 [==============================] - 0s - loss: 0.2545 - acc: 0.9426 - val_loss: 0.6216 - val_acc: 0.8014\n",
      "Epoch 61/100\n",
      "8177/8177 [==============================] - 0s - loss: 0.2512 - acc: 0.9434 - val_loss: 0.6221 - val_acc: 0.8102\n",
      "Epoch 62/100\n",
      "8177/8177 [==============================] - 0s - loss: 0.2482 - acc: 0.9440 - val_loss: 0.6215 - val_acc: 0.8072\n",
      "Epoch 63/100\n",
      "8177/8177 [==============================] - 0s - loss: 0.2456 - acc: 0.9463 - val_loss: 0.6213 - val_acc: 0.8082\n",
      "Epoch 64/100\n",
      "8177/8177 [==============================] - 0s - loss: 0.2425 - acc: 0.9466 - val_loss: 0.6230 - val_acc: 0.8033\n",
      "Epoch 65/100\n"
     ]
    },
    {
     "name": "stdout",
     "output_type": "stream",
     "text": [
      "8177/8177 [==============================] - 0s - loss: 0.2396 - acc: 0.9488 - val_loss: 0.6217 - val_acc: 0.8072\n",
      "Epoch 66/100\n",
      "8177/8177 [==============================] - 0s - loss: 0.2372 - acc: 0.9490 - val_loss: 0.6204 - val_acc: 0.8092\n",
      "Epoch 67/100\n",
      "8177/8177 [==============================] - 0s - loss: 0.2344 - acc: 0.9499 - val_loss: 0.6207 - val_acc: 0.8043\n",
      "Epoch 68/100\n",
      "8177/8177 [==============================] - 0s - loss: 0.2318 - acc: 0.9506 - val_loss: 0.6215 - val_acc: 0.8072\n",
      "Epoch 69/100\n",
      "8177/8177 [==============================] - 0s - loss: 0.2292 - acc: 0.9521 - val_loss: 0.6223 - val_acc: 0.8053\n",
      "Epoch 70/100\n",
      "8177/8177 [==============================] - 0s - loss: 0.2266 - acc: 0.9535 - val_loss: 0.6226 - val_acc: 0.8072\n",
      "Epoch 71/100\n",
      "8177/8177 [==============================] - 0s - loss: 0.2242 - acc: 0.9544 - val_loss: 0.6227 - val_acc: 0.8063\n",
      "Epoch 72/100\n",
      "8177/8177 [==============================] - 0s - loss: 0.2218 - acc: 0.9551 - val_loss: 0.6221 - val_acc: 0.8082\n",
      "Epoch 73/100\n",
      "8177/8177 [==============================] - 0s - loss: 0.2195 - acc: 0.9555 - val_loss: 0.6215 - val_acc: 0.8023\n",
      "Epoch 74/100\n",
      "8177/8177 [==============================] - 0s - loss: 0.2171 - acc: 0.9572 - val_loss: 0.6222 - val_acc: 0.8053\n",
      "Epoch 75/100\n",
      "8177/8177 [==============================] - 0s - loss: 0.2148 - acc: 0.9576 - val_loss: 0.6213 - val_acc: 0.8082\n",
      "Epoch 76/100\n",
      "8177/8177 [==============================] - 0s - loss: 0.2127 - acc: 0.9581 - val_loss: 0.6219 - val_acc: 0.8072\n",
      "Epoch 77/100\n",
      "8177/8177 [==============================] - 0s - loss: 0.2103 - acc: 0.9589 - val_loss: 0.6233 - val_acc: 0.8063\n",
      "Epoch 78/100\n",
      "8177/8177 [==============================] - 0s - loss: 0.2082 - acc: 0.9594 - val_loss: 0.6220 - val_acc: 0.8053\n",
      "Epoch 79/100\n",
      "8177/8177 [==============================] - 0s - loss: 0.2061 - acc: 0.9604 - val_loss: 0.6225 - val_acc: 0.8112\n",
      "Epoch 80/100\n",
      "8177/8177 [==============================] - 0s - loss: 0.2039 - acc: 0.9601 - val_loss: 0.6236 - val_acc: 0.8092\n",
      "Epoch 81/100\n",
      "8177/8177 [==============================] - 0s - loss: 0.2019 - acc: 0.9620 - val_loss: 0.6237 - val_acc: 0.8053\n",
      "Epoch 82/100\n",
      "8177/8177 [==============================] - 0s - loss: 0.1999 - acc: 0.9621 - val_loss: 0.6235 - val_acc: 0.8082\n",
      "Epoch 83/100\n",
      "8177/8177 [==============================] - 0s - loss: 0.1979 - acc: 0.9629 - val_loss: 0.6236 - val_acc: 0.8112\n",
      "Epoch 84/100\n",
      "8177/8177 [==============================] - 0s - loss: 0.1960 - acc: 0.9633 - val_loss: 0.6243 - val_acc: 0.8072\n",
      "Epoch 85/100\n",
      "8177/8177 [==============================] - 0s - loss: 0.1941 - acc: 0.9632 - val_loss: 0.6238 - val_acc: 0.8063\n",
      "Epoch 86/100\n",
      "8177/8177 [==============================] - 0s - loss: 0.1922 - acc: 0.9643 - val_loss: 0.6232 - val_acc: 0.8082\n",
      "Epoch 87/100\n",
      "8177/8177 [==============================] - 0s - loss: 0.1904 - acc: 0.9644 - val_loss: 0.6245 - val_acc: 0.8043\n",
      "Epoch 88/100\n",
      "8177/8177 [==============================] - 0s - loss: 0.1885 - acc: 0.9654 - val_loss: 0.6255 - val_acc: 0.8043\n",
      "Epoch 89/100\n",
      "8177/8177 [==============================] - 0s - loss: 0.1868 - acc: 0.9656 - val_loss: 0.6241 - val_acc: 0.8082\n",
      "Epoch 90/100\n",
      "8177/8177 [==============================] - 0s - loss: 0.1849 - acc: 0.9661 - val_loss: 0.6241 - val_acc: 0.8053\n",
      "Epoch 91/100\n",
      "8177/8177 [==============================] - 0s - loss: 0.1833 - acc: 0.9672 - val_loss: 0.6246 - val_acc: 0.8072\n",
      "Epoch 92/100\n",
      "8177/8177 [==============================] - 0s - loss: 0.1816 - acc: 0.9671 - val_loss: 0.6255 - val_acc: 0.8043\n",
      "Epoch 93/100\n",
      "8177/8177 [==============================] - 0s - loss: 0.1798 - acc: 0.9678 - val_loss: 0.6256 - val_acc: 0.8072\n",
      "Epoch 94/100\n",
      "8177/8177 [==============================] - ETA: 0s - loss: 0.1788 - acc: 0.967 - 0s - loss: 0.1783 - acc: 0.9678 - val_loss: 0.6260 - val_acc: 0.8072\n",
      "Epoch 95/100\n",
      "8177/8177 [==============================] - 0s - loss: 0.1767 - acc: 0.9691 - val_loss: 0.6253 - val_acc: 0.8033\n",
      "Epoch 96/100\n",
      "8177/8177 [==============================] - 0s - loss: 0.1751 - acc: 0.9686 - val_loss: 0.6253 - val_acc: 0.8053\n",
      "Epoch 97/100\n",
      "8177/8177 [==============================] - 0s - loss: 0.1734 - acc: 0.9694 - val_loss: 0.6262 - val_acc: 0.8072\n",
      "Epoch 98/100\n",
      "8177/8177 [==============================] - 0s - loss: 0.1720 - acc: 0.9697 - val_loss: 0.6261 - val_acc: 0.8063\n",
      "Epoch 99/100\n",
      "8177/8177 [==============================] - 0s - loss: 0.1705 - acc: 0.9697 - val_loss: 0.6266 - val_acc: 0.8053\n",
      "Epoch 100/100\n",
      "8177/8177 [==============================] - 0s - loss: 0.1690 - acc: 0.9703 - val_loss: 0.6275 - val_acc: 0.8043\n"
     ]
    },
    {
     "data": {
      "text/plain": [
       "<keras.callbacks.History at 0x7f4ea5926ac8>"
      ]
     },
     "execution_count": 33,
     "metadata": {},
     "output_type": "execute_result"
    }
   ],
   "source": [
    "model.fit(final,y,epochs=100,validation_data=(finalv,y_val),batch_size=150)"
   ]
  },
  {
   "cell_type": "code",
   "execution_count": null,
   "metadata": {},
   "outputs": [],
   "source": [
    "result=model.evaluate(x=finalt,y=y_test)"
   ]
  },
  {
   "cell_type": "code",
   "execution_count": null,
   "metadata": {},
   "outputs": [],
   "source": [
    "result"
   ]
  },
  {
   "cell_type": "code",
   "execution_count": null,
   "metadata": {
    "collapsed": true
   },
   "outputs": [],
   "source": [
    "model.save_weights('original1.h5')\n"
   ]
  },
  {
   "cell_type": "code",
   "execution_count": 34,
   "metadata": {},
   "outputs": [
    {
     "data": {
      "text/plain": [
       "(10357, 4096)"
      ]
     },
     "execution_count": 34,
     "metadata": {},
     "output_type": "execute_result"
    }
   ],
   "source": [
    "ippred=base_model.predict(x_predict)\n",
    "xppred=base_model1.predict(x_predict)\n",
    "#vp16pred=base_model2.predict(x_predict)\n",
    "#vp19pred=base_model3.predict(x_predict)\n",
    "#rppred=base_model4.predict(x_predict)\n",
    "finalp=np.concatenate((ippred,xppred),axis=1)\n",
    "finalp.shape"
   ]
  },
  {
   "cell_type": "code",
   "execution_count": 35,
   "metadata": {
    "collapsed": true
   },
   "outputs": [],
   "source": [
    "predo=model.predict(finalp)"
   ]
  },
  {
   "cell_type": "code",
   "execution_count": 37,
   "metadata": {},
   "outputs": [
    {
     "name": "stdout",
     "output_type": "stream",
     "text": [
      "Train on 8177 samples, validate on 1022 samples\n",
      "Epoch 1/100\n",
      "8177/8177 [==============================] - 0s - loss: 3.8069 - acc: 0.2671 - val_loss: 2.6903 - val_acc: 0.5636\n",
      "Epoch 2/100\n",
      "8177/8177 [==============================] - 0s - loss: 1.9975 - acc: 0.6907 - val_loss: 1.5676 - val_acc: 0.7211\n",
      "Epoch 3/100\n",
      "8177/8177 [==============================] - 0s - loss: 1.2555 - acc: 0.7738 - val_loss: 1.1524 - val_acc: 0.7573\n",
      "Epoch 4/100\n",
      "8177/8177 [==============================] - 0s - loss: 0.9614 - acc: 0.8045 - val_loss: 0.9759 - val_acc: 0.7769\n",
      "Epoch 5/100\n",
      "8177/8177 [==============================] - 0s - loss: 0.8156 - acc: 0.8184 - val_loss: 0.8876 - val_acc: 0.7838\n",
      "Epoch 6/100\n",
      "8177/8177 [==============================] - 0s - loss: 0.7296 - acc: 0.8288 - val_loss: 0.8260 - val_acc: 0.7916\n",
      "Epoch 7/100\n",
      "8177/8177 [==============================] - 0s - loss: 0.6693 - acc: 0.8387 - val_loss: 0.7872 - val_acc: 0.7906\n",
      "Epoch 8/100\n",
      "8177/8177 [==============================] - 0s - loss: 0.6250 - acc: 0.8444 - val_loss: 0.7609 - val_acc: 0.7935\n",
      "Epoch 9/100\n",
      "8177/8177 [==============================] - 0s - loss: 0.5897 - acc: 0.8504 - val_loss: 0.7420 - val_acc: 0.7916\n",
      "Epoch 10/100\n",
      "8177/8177 [==============================] - 0s - loss: 0.5606 - acc: 0.8557 - val_loss: 0.7272 - val_acc: 0.8004\n",
      "Epoch 11/100\n",
      "8177/8177 [==============================] - 0s - loss: 0.5361 - acc: 0.8624 - val_loss: 0.7133 - val_acc: 0.8004\n",
      "Epoch 12/100\n",
      "8177/8177 [==============================] - 0s - loss: 0.5146 - acc: 0.8657 - val_loss: 0.7048 - val_acc: 0.8004\n",
      "Epoch 13/100\n",
      "8177/8177 [==============================] - 0s - loss: 0.4948 - acc: 0.8716 - val_loss: 0.7011 - val_acc: 0.7955\n",
      "Epoch 14/100\n",
      "8177/8177 [==============================] - 0s - loss: 0.4778 - acc: 0.8756 - val_loss: 0.6913 - val_acc: 0.7926\n",
      "Epoch 15/100\n",
      "8177/8177 [==============================] - 0s - loss: 0.4616 - acc: 0.8804 - val_loss: 0.6874 - val_acc: 0.7935\n",
      "Epoch 16/100\n",
      "8177/8177 [==============================] - 0s - loss: 0.4479 - acc: 0.8832 - val_loss: 0.6821 - val_acc: 0.7984\n",
      "Epoch 17/100\n",
      "8177/8177 [==============================] - 0s - loss: 0.4346 - acc: 0.8863 - val_loss: 0.6773 - val_acc: 0.7955\n",
      "Epoch 18/100\n",
      "8177/8177 [==============================] - 0s - loss: 0.4223 - acc: 0.8898 - val_loss: 0.6741 - val_acc: 0.7994\n",
      "Epoch 19/100\n",
      "8177/8177 [==============================] - 0s - loss: 0.4104 - acc: 0.8938 - val_loss: 0.6703 - val_acc: 0.8004\n",
      "Epoch 20/100\n",
      "8177/8177 [==============================] - 0s - loss: 0.3993 - acc: 0.8970 - val_loss: 0.6698 - val_acc: 0.8004\n",
      "Epoch 21/100\n",
      "8177/8177 [==============================] - 0s - loss: 0.3891 - acc: 0.8991 - val_loss: 0.6638 - val_acc: 0.7984\n",
      "Epoch 22/100\n",
      "8177/8177 [==============================] - 0s - loss: 0.3791 - acc: 0.9030 - val_loss: 0.6644 - val_acc: 0.8053\n",
      "Epoch 23/100\n",
      "8177/8177 [==============================] - 0s - loss: 0.3694 - acc: 0.9053 - val_loss: 0.6612 - val_acc: 0.8053\n",
      "Epoch 24/100\n",
      "8177/8177 [==============================] - 0s - loss: 0.3611 - acc: 0.9090 - val_loss: 0.6617 - val_acc: 0.8053\n",
      "Epoch 25/100\n",
      "8177/8177 [==============================] - 0s - loss: 0.3525 - acc: 0.9112 - val_loss: 0.6612 - val_acc: 0.8053\n",
      "Epoch 26/100\n",
      "8177/8177 [==============================] - 0s - loss: 0.3446 - acc: 0.9129 - val_loss: 0.6582 - val_acc: 0.8033\n",
      "Epoch 27/100\n",
      "8177/8177 [==============================] - 0s - loss: 0.3370 - acc: 0.9154 - val_loss: 0.6612 - val_acc: 0.8033\n",
      "Epoch 28/100\n",
      "8177/8177 [==============================] - 0s - loss: 0.3296 - acc: 0.9182 - val_loss: 0.6608 - val_acc: 0.8023\n",
      "Epoch 29/100\n",
      "8177/8177 [==============================] - 0s - loss: 0.3223 - acc: 0.9215 - val_loss: 0.6585 - val_acc: 0.8014\n",
      "Epoch 30/100\n",
      "8177/8177 [==============================] - 0s - loss: 0.3156 - acc: 0.9219 - val_loss: 0.6556 - val_acc: 0.8023\n",
      "Epoch 31/100\n",
      "8177/8177 [==============================] - 0s - loss: 0.3088 - acc: 0.9250 - val_loss: 0.6585 - val_acc: 0.8004\n",
      "Epoch 32/100\n",
      "8177/8177 [==============================] - 0s - loss: 0.3026 - acc: 0.9277 - val_loss: 0.6580 - val_acc: 0.7975\n",
      "Epoch 33/100\n",
      "8177/8177 [==============================] - 0s - loss: 0.2966 - acc: 0.9281 - val_loss: 0.6542 - val_acc: 0.8033\n",
      "Epoch 34/100\n",
      "8177/8177 [==============================] - 0s - loss: 0.2904 - acc: 0.9307 - val_loss: 0.6555 - val_acc: 0.7994\n",
      "Epoch 35/100\n",
      "8177/8177 [==============================] - 0s - loss: 0.2852 - acc: 0.9330 - val_loss: 0.6537 - val_acc: 0.8043\n",
      "Epoch 36/100\n",
      "8177/8177 [==============================] - 0s - loss: 0.2795 - acc: 0.9370 - val_loss: 0.6542 - val_acc: 0.8033\n",
      "Epoch 37/100\n",
      "8177/8177 [==============================] - 0s - loss: 0.2744 - acc: 0.9358 - val_loss: 0.6544 - val_acc: 0.8033\n",
      "Epoch 38/100\n",
      "8177/8177 [==============================] - 0s - loss: 0.2693 - acc: 0.9406 - val_loss: 0.6571 - val_acc: 0.8033\n",
      "Epoch 39/100\n",
      "8177/8177 [==============================] - 0s - loss: 0.2644 - acc: 0.9414 - val_loss: 0.6550 - val_acc: 0.8023\n",
      "Epoch 40/100\n",
      "8177/8177 [==============================] - 0s - loss: 0.2594 - acc: 0.9420 - val_loss: 0.6537 - val_acc: 0.7994\n",
      "Epoch 41/100\n",
      "8177/8177 [==============================] - 0s - loss: 0.2546 - acc: 0.9436 - val_loss: 0.6540 - val_acc: 0.8033\n",
      "Epoch 42/100\n",
      "8177/8177 [==============================] - 0s - loss: 0.2504 - acc: 0.9439 - val_loss: 0.6560 - val_acc: 0.7984\n",
      "Epoch 43/100\n",
      "8177/8177 [==============================] - 0s - loss: 0.2460 - acc: 0.9461 - val_loss: 0.6553 - val_acc: 0.7935\n",
      "Epoch 44/100\n",
      "8177/8177 [==============================] - 0s - loss: 0.2416 - acc: 0.9483 - val_loss: 0.6549 - val_acc: 0.7984\n",
      "Epoch 45/100\n",
      "8177/8177 [==============================] - 0s - loss: 0.2379 - acc: 0.9485 - val_loss: 0.6555 - val_acc: 0.7965\n",
      "Epoch 46/100\n",
      "8177/8177 [==============================] - 0s - loss: 0.2336 - acc: 0.9505 - val_loss: 0.6550 - val_acc: 0.7965\n",
      "Epoch 47/100\n",
      "8177/8177 [==============================] - 0s - loss: 0.2297 - acc: 0.9500 - val_loss: 0.6552 - val_acc: 0.7994\n",
      "Epoch 48/100\n",
      "8177/8177 [==============================] - 0s - loss: 0.2260 - acc: 0.9522 - val_loss: 0.6567 - val_acc: 0.7984\n",
      "Epoch 49/100\n",
      "8177/8177 [==============================] - 0s - loss: 0.2223 - acc: 0.9550 - val_loss: 0.6570 - val_acc: 0.7955\n",
      "Epoch 50/100\n",
      "8177/8177 [==============================] - 0s - loss: 0.2187 - acc: 0.9544 - val_loss: 0.6586 - val_acc: 0.7994\n",
      "Epoch 51/100\n",
      "8177/8177 [==============================] - 0s - loss: 0.2154 - acc: 0.9549 - val_loss: 0.6563 - val_acc: 0.7965\n",
      "Epoch 52/100\n",
      "8177/8177 [==============================] - 0s - loss: 0.2119 - acc: 0.9570 - val_loss: 0.6577 - val_acc: 0.7945\n",
      "Epoch 53/100\n",
      "8177/8177 [==============================] - 0s - loss: 0.2085 - acc: 0.9574 - val_loss: 0.6587 - val_acc: 0.7945\n",
      "Epoch 54/100\n",
      "8177/8177 [==============================] - 0s - loss: 0.2054 - acc: 0.9598 - val_loss: 0.6585 - val_acc: 0.7955\n",
      "Epoch 55/100\n",
      "8177/8177 [==============================] - 0s - loss: 0.2024 - acc: 0.9607 - val_loss: 0.6600 - val_acc: 0.7935\n",
      "Epoch 56/100\n",
      "8177/8177 [==============================] - 0s - loss: 0.1995 - acc: 0.9618 - val_loss: 0.6587 - val_acc: 0.7965\n",
      "Epoch 57/100\n",
      "8177/8177 [==============================] - 0s - loss: 0.1964 - acc: 0.9625 - val_loss: 0.6588 - val_acc: 0.7965\n",
      "Epoch 58/100\n",
      "8177/8177 [==============================] - 0s - loss: 0.1936 - acc: 0.9638 - val_loss: 0.6606 - val_acc: 0.7945\n",
      "Epoch 59/100\n",
      "8177/8177 [==============================] - 0s - loss: 0.1908 - acc: 0.9645 - val_loss: 0.6603 - val_acc: 0.7916\n",
      "Epoch 60/100\n",
      "8177/8177 [==============================] - 0s - loss: 0.1882 - acc: 0.9651 - val_loss: 0.6596 - val_acc: 0.7975\n",
      "Epoch 61/100\n",
      "8177/8177 [==============================] - 0s - loss: 0.1856 - acc: 0.9654 - val_loss: 0.6599 - val_acc: 0.7916\n",
      "Epoch 62/100\n",
      "8177/8177 [==============================] - 0s - loss: 0.1826 - acc: 0.9676 - val_loss: 0.6615 - val_acc: 0.7945\n",
      "Epoch 63/100\n",
      "8177/8177 [==============================] - 0s - loss: 0.1804 - acc: 0.9680 - val_loss: 0.6618 - val_acc: 0.7955\n",
      "Epoch 64/100\n",
      "8177/8177 [==============================] - 0s - loss: 0.1777 - acc: 0.9687 - val_loss: 0.6609 - val_acc: 0.7935\n",
      "Epoch 65/100\n"
     ]
    },
    {
     "name": "stdout",
     "output_type": "stream",
     "text": [
      "8177/8177 [==============================] - 0s - loss: 0.1755 - acc: 0.9687 - val_loss: 0.6631 - val_acc: 0.7955\n",
      "Epoch 66/100\n",
      "8177/8177 [==============================] - 0s - loss: 0.1730 - acc: 0.9691 - val_loss: 0.6636 - val_acc: 0.7955\n",
      "Epoch 67/100\n",
      "8177/8177 [==============================] - 0s - loss: 0.1709 - acc: 0.9710 - val_loss: 0.6627 - val_acc: 0.7926\n",
      "Epoch 68/100\n",
      "8177/8177 [==============================] - 0s - loss: 0.1687 - acc: 0.9711 - val_loss: 0.6624 - val_acc: 0.7935\n",
      "Epoch 69/100\n",
      "8177/8177 [==============================] - 0s - loss: 0.1664 - acc: 0.9715 - val_loss: 0.6656 - val_acc: 0.7916\n",
      "Epoch 70/100\n",
      "8177/8177 [==============================] - 0s - loss: 0.1643 - acc: 0.9731 - val_loss: 0.6642 - val_acc: 0.7916\n",
      "Epoch 71/100\n",
      "8177/8177 [==============================] - 0s - loss: 0.1622 - acc: 0.9724 - val_loss: 0.6647 - val_acc: 0.7935\n",
      "Epoch 72/100\n",
      "8177/8177 [==============================] - 0s - loss: 0.1602 - acc: 0.9740 - val_loss: 0.6652 - val_acc: 0.7945\n",
      "Epoch 73/100\n",
      "8177/8177 [==============================] - 0s - loss: 0.1581 - acc: 0.9741 - val_loss: 0.6650 - val_acc: 0.7945\n",
      "Epoch 74/100\n",
      "8177/8177 [==============================] - 0s - loss: 0.1563 - acc: 0.9744 - val_loss: 0.6647 - val_acc: 0.7975\n",
      "Epoch 75/100\n",
      "8177/8177 [==============================] - 0s - loss: 0.1543 - acc: 0.9749 - val_loss: 0.6650 - val_acc: 0.7935\n",
      "Epoch 76/100\n",
      "8177/8177 [==============================] - 0s - loss: 0.1524 - acc: 0.9752 - val_loss: 0.6660 - val_acc: 0.7896\n",
      "Epoch 77/100\n",
      "8177/8177 [==============================] - 0s - loss: 0.1505 - acc: 0.9766 - val_loss: 0.6675 - val_acc: 0.7916\n",
      "Epoch 78/100\n",
      "8177/8177 [==============================] - 0s - loss: 0.1489 - acc: 0.9766 - val_loss: 0.6676 - val_acc: 0.7945\n",
      "Epoch 79/100\n",
      "8177/8177 [==============================] - 0s - loss: 0.1471 - acc: 0.9770 - val_loss: 0.6691 - val_acc: 0.7896\n",
      "Epoch 80/100\n",
      "8177/8177 [==============================] - 0s - loss: 0.1453 - acc: 0.9781 - val_loss: 0.6690 - val_acc: 0.7935\n",
      "Epoch 81/100\n",
      "8177/8177 [==============================] - 0s - loss: 0.1437 - acc: 0.9780 - val_loss: 0.6692 - val_acc: 0.7945\n",
      "Epoch 82/100\n",
      "8177/8177 [==============================] - 0s - loss: 0.1420 - acc: 0.9784 - val_loss: 0.6678 - val_acc: 0.7916\n",
      "Epoch 83/100\n",
      "8177/8177 [==============================] - 0s - loss: 0.1404 - acc: 0.9793 - val_loss: 0.6692 - val_acc: 0.7916\n",
      "Epoch 84/100\n",
      "8177/8177 [==============================] - 0s - loss: 0.1391 - acc: 0.9796 - val_loss: 0.6705 - val_acc: 0.7906\n",
      "Epoch 85/100\n",
      "8177/8177 [==============================] - 0s - loss: 0.1374 - acc: 0.9795 - val_loss: 0.6704 - val_acc: 0.7886\n",
      "Epoch 86/100\n",
      "8177/8177 [==============================] - 0s - loss: 0.1358 - acc: 0.9804 - val_loss: 0.6704 - val_acc: 0.7896\n",
      "Epoch 87/100\n",
      "8177/8177 [==============================] - 0s - loss: 0.1343 - acc: 0.9812 - val_loss: 0.6702 - val_acc: 0.7896\n",
      "Epoch 88/100\n",
      "8177/8177 [==============================] - 0s - loss: 0.1328 - acc: 0.9809 - val_loss: 0.6702 - val_acc: 0.7935\n",
      "Epoch 89/100\n",
      "8177/8177 [==============================] - 0s - loss: 0.1315 - acc: 0.9819 - val_loss: 0.6713 - val_acc: 0.7926\n",
      "Epoch 90/100\n",
      "8177/8177 [==============================] - 0s - loss: 0.1300 - acc: 0.9817 - val_loss: 0.6714 - val_acc: 0.7896\n",
      "Epoch 91/100\n",
      "8177/8177 [==============================] - 0s - loss: 0.1288 - acc: 0.9825 - val_loss: 0.6722 - val_acc: 0.7906\n",
      "Epoch 92/100\n",
      "8177/8177 [==============================] - 0s - loss: 0.1274 - acc: 0.9824 - val_loss: 0.6710 - val_acc: 0.7877\n",
      "Epoch 93/100\n",
      "8177/8177 [==============================] - 0s - loss: 0.1261 - acc: 0.9831 - val_loss: 0.6716 - val_acc: 0.7916\n",
      "Epoch 94/100\n",
      "8177/8177 [==============================] - 0s - loss: 0.1248 - acc: 0.9823 - val_loss: 0.6722 - val_acc: 0.7935\n",
      "Epoch 95/100\n",
      "8177/8177 [==============================] - 0s - loss: 0.1235 - acc: 0.9836 - val_loss: 0.6737 - val_acc: 0.7926\n",
      "Epoch 96/100\n",
      "8177/8177 [==============================] - 0s - loss: 0.1222 - acc: 0.9832 - val_loss: 0.6743 - val_acc: 0.7896\n",
      "Epoch 97/100\n",
      "8177/8177 [==============================] - 0s - loss: 0.1209 - acc: 0.9835 - val_loss: 0.6763 - val_acc: 0.7935\n",
      "Epoch 98/100\n",
      "8177/8177 [==============================] - 0s - loss: 0.1198 - acc: 0.9850 - val_loss: 0.6746 - val_acc: 0.7906\n",
      "Epoch 99/100\n",
      "8177/8177 [==============================] - 0s - loss: 0.1185 - acc: 0.9850 - val_loss: 0.6746 - val_acc: 0.7935\n",
      "Epoch 100/100\n",
      "8177/8177 [==============================] - 0s - loss: 0.1175 - acc: 0.9841 - val_loss: 0.6750 - val_acc: 0.7916\n"
     ]
    },
    {
     "data": {
      "text/plain": [
       "<keras.callbacks.History at 0x7f4e913207f0>"
      ]
     },
     "execution_count": 37,
     "metadata": {},
     "output_type": "execute_result"
    }
   ],
   "source": [
    "model.fit(finalf,y,validation_data=(finalvf,y_val),epochs=100,batch_size=100)"
   ]
  },
  {
   "cell_type": "code",
   "execution_count": null,
   "metadata": {
    "collapsed": true
   },
   "outputs": [],
   "source": [
    "model.save_weights('flip1.h5')"
   ]
  },
  {
   "cell_type": "code",
   "execution_count": 38,
   "metadata": {
    "collapsed": true
   },
   "outputs": [],
   "source": [
    "ifppred=base_model.predict(np.flip(x_predict,axis=2))\n",
    "xfppred=base_model1.predict(np.flip(x_predict,axis=2))\n",
    "#vfp16pred=base_model2.predict(np.flip(x_predict,axis=2))\n",
    "#vfp19pred=base_model3.predict(np.flip(x_predict,axis=2))\n",
    "#rfppred=base_model4.predict(np.flip(x_predict,axis=2))"
   ]
  },
  {
   "cell_type": "code",
   "execution_count": 39,
   "metadata": {},
   "outputs": [],
   "source": [
    "predf=model.predict(np.concatenate((ifppred,xfppred),axis=1))"
   ]
  },
  {
   "cell_type": "code",
   "execution_count": 40,
   "metadata": {},
   "outputs": [
    {
     "data": {
      "text/plain": [
       "(8177, 4096)"
      ]
     },
     "execution_count": 40,
     "metadata": {},
     "output_type": "execute_result"
    }
   ],
   "source": [
    "icpred=base_model.predict(img1)\n",
    "xcpred=base_model1.predict(img1)\n",
    "#vc16pred=base_model2.predict(img1)\n",
    "#vc19pred=base_model3.predict(img1)\n",
    "#rcpred=base_model4.predict(img1)\n",
    "finalc=np.concatenate((icpred,xcpred),axis=1)\n",
    "finalc.shape"
   ]
  },
  {
   "cell_type": "code",
   "execution_count": 41,
   "metadata": {},
   "outputs": [
    {
     "data": {
      "text/plain": [
       "(1022, 4096)"
      ]
     },
     "execution_count": 41,
     "metadata": {},
     "output_type": "execute_result"
    }
   ],
   "source": [
    "icvpred=base_model.predict(imgv1)\n",
    "xcvpred=base_model1.predict(imgv1)\n",
    "#vcv16pred=base_model2.predict(imgv1)\n",
    "#vcv19pred=base_model3.predict(imgv1)\n",
    "#rcvpred=base_model4.predict(imgv1)\n",
    "finalcv=np.concatenate((icvpred,xcvpred),axis=1)\n",
    "finalcv.shape"
   ]
  },
  {
   "cell_type": "code",
   "execution_count": 42,
   "metadata": {},
   "outputs": [
    {
     "data": {
      "text/plain": [
       "(10357, 4096)"
      ]
     },
     "execution_count": 42,
     "metadata": {},
     "output_type": "execute_result"
    }
   ],
   "source": [
    "icppred=base_model.predict(imgp)\n",
    "xcppred=base_model1.predict(imgp)\n",
    "#vcp16pred=base_model2.predict(imgp)\n",
    "#vcp19pred=base_model1.predict(imgp)\n",
    "#rcppred=base_model2.predict(imgp)\n",
    "finalct=np.concatenate((icppred,xcppred),axis=1)\n",
    "finalct.shape"
   ]
  },
  {
   "cell_type": "code",
   "execution_count": 44,
   "metadata": {},
   "outputs": [
    {
     "name": "stdout",
     "output_type": "stream",
     "text": [
      "Train on 8177 samples, validate on 1022 samples\n",
      "Epoch 1/100\n",
      "8177/8177 [==============================] - 0s - loss: 3.8885 - acc: 0.2492 - val_loss: 2.8667 - val_acc: 0.5450\n",
      "Epoch 2/100\n",
      "8177/8177 [==============================] - 0s - loss: 2.1666 - acc: 0.6748 - val_loss: 1.7230 - val_acc: 0.7035\n",
      "Epoch 3/100\n",
      "8177/8177 [==============================] - 0s - loss: 1.3731 - acc: 0.7700 - val_loss: 1.2453 - val_acc: 0.7476\n",
      "Epoch 4/100\n",
      "8177/8177 [==============================] - 0s - loss: 1.0350 - acc: 0.8013 - val_loss: 1.0263 - val_acc: 0.7691\n",
      "Epoch 5/100\n",
      "8177/8177 [==============================] - 0s - loss: 0.8658 - acc: 0.8196 - val_loss: 0.9104 - val_acc: 0.7740\n",
      "Epoch 6/100\n",
      "8177/8177 [==============================] - 0s - loss: 0.7648 - acc: 0.8342 - val_loss: 0.8385 - val_acc: 0.7808\n",
      "Epoch 7/100\n",
      "8177/8177 [==============================] - 0s - loss: 0.6964 - acc: 0.8444 - val_loss: 0.7963 - val_acc: 0.7896\n",
      "Epoch 8/100\n",
      "8177/8177 [==============================] - 0s - loss: 0.6464 - acc: 0.8496 - val_loss: 0.7586 - val_acc: 0.7955\n",
      "Epoch 9/100\n",
      "8177/8177 [==============================] - 0s - loss: 0.6076 - acc: 0.8553 - val_loss: 0.7307 - val_acc: 0.7994\n",
      "Epoch 10/100\n",
      "8177/8177 [==============================] - 0s - loss: 0.5755 - acc: 0.8622 - val_loss: 0.7131 - val_acc: 0.7984\n",
      "Epoch 11/100\n",
      "8177/8177 [==============================] - 0s - loss: 0.5490 - acc: 0.8657 - val_loss: 0.6933 - val_acc: 0.7994\n",
      "Epoch 12/100\n",
      "8177/8177 [==============================] - 0s - loss: 0.5261 - acc: 0.8701 - val_loss: 0.6834 - val_acc: 0.8004\n",
      "Epoch 13/100\n",
      "8177/8177 [==============================] - 0s - loss: 0.5056 - acc: 0.8746 - val_loss: 0.6711 - val_acc: 0.8014\n",
      "Epoch 14/100\n",
      "8177/8177 [==============================] - 0s - loss: 0.4880 - acc: 0.8797 - val_loss: 0.6606 - val_acc: 0.8014\n",
      "Epoch 15/100\n",
      "8177/8177 [==============================] - 0s - loss: 0.4714 - acc: 0.8820 - val_loss: 0.6536 - val_acc: 0.8092\n",
      "Epoch 16/100\n",
      "8177/8177 [==============================] - 0s - loss: 0.4571 - acc: 0.8850 - val_loss: 0.6484 - val_acc: 0.8033\n",
      "Epoch 17/100\n",
      "8177/8177 [==============================] - 0s - loss: 0.4434 - acc: 0.8886 - val_loss: 0.6406 - val_acc: 0.8033\n",
      "Epoch 18/100\n",
      "8177/8177 [==============================] - 0s - loss: 0.4309 - acc: 0.8929 - val_loss: 0.6356 - val_acc: 0.8023\n",
      "Epoch 19/100\n",
      "8177/8177 [==============================] - 0s - loss: 0.4189 - acc: 0.8954 - val_loss: 0.6297 - val_acc: 0.8072\n",
      "Epoch 20/100\n",
      "8177/8177 [==============================] - 0s - loss: 0.4085 - acc: 0.8967 - val_loss: 0.6266 - val_acc: 0.8063\n",
      "Epoch 21/100\n",
      "8177/8177 [==============================] - 0s - loss: 0.3979 - acc: 0.9016 - val_loss: 0.6217 - val_acc: 0.8072\n",
      "Epoch 22/100\n",
      "8177/8177 [==============================] - 0s - loss: 0.3884 - acc: 0.9041 - val_loss: 0.6197 - val_acc: 0.8082\n",
      "Epoch 23/100\n",
      "8177/8177 [==============================] - 0s - loss: 0.3793 - acc: 0.9071 - val_loss: 0.6155 - val_acc: 0.8112\n",
      "Epoch 24/100\n",
      "8177/8177 [==============================] - 0s - loss: 0.3704 - acc: 0.9073 - val_loss: 0.6142 - val_acc: 0.8082\n",
      "Epoch 25/100\n",
      "8177/8177 [==============================] - 0s - loss: 0.3618 - acc: 0.9116 - val_loss: 0.6131 - val_acc: 0.8112\n",
      "Epoch 26/100\n",
      "8177/8177 [==============================] - 0s - loss: 0.3542 - acc: 0.9127 - val_loss: 0.6099 - val_acc: 0.8082\n",
      "Epoch 27/100\n",
      "8177/8177 [==============================] - 0s - loss: 0.3463 - acc: 0.9159 - val_loss: 0.6070 - val_acc: 0.8102\n",
      "Epoch 28/100\n",
      "8177/8177 [==============================] - 0s - loss: 0.3394 - acc: 0.9176 - val_loss: 0.6048 - val_acc: 0.8131\n",
      "Epoch 29/100\n",
      "8177/8177 [==============================] - 0s - loss: 0.3323 - acc: 0.9208 - val_loss: 0.6016 - val_acc: 0.8092\n",
      "Epoch 30/100\n",
      "8177/8177 [==============================] - 0s - loss: 0.3257 - acc: 0.9232 - val_loss: 0.6022 - val_acc: 0.8121\n",
      "Epoch 31/100\n",
      "8177/8177 [==============================] - 0s - loss: 0.3195 - acc: 0.9255 - val_loss: 0.6012 - val_acc: 0.8053\n",
      "Epoch 32/100\n",
      "8177/8177 [==============================] - 0s - loss: 0.3130 - acc: 0.9281 - val_loss: 0.5995 - val_acc: 0.8102\n",
      "Epoch 33/100\n",
      "8177/8177 [==============================] - 0s - loss: 0.3072 - acc: 0.9298 - val_loss: 0.5984 - val_acc: 0.8092\n",
      "Epoch 34/100\n",
      "8177/8177 [==============================] - 0s - loss: 0.3015 - acc: 0.9309 - val_loss: 0.5984 - val_acc: 0.8092\n",
      "Epoch 35/100\n",
      "8177/8177 [==============================] - 0s - loss: 0.2961 - acc: 0.9337 - val_loss: 0.5957 - val_acc: 0.8121\n",
      "Epoch 36/100\n",
      "8177/8177 [==============================] - 0s - loss: 0.2907 - acc: 0.9351 - val_loss: 0.5957 - val_acc: 0.8112\n",
      "Epoch 37/100\n",
      "8177/8177 [==============================] - 0s - loss: 0.2854 - acc: 0.9368 - val_loss: 0.5940 - val_acc: 0.8141\n",
      "Epoch 38/100\n",
      "8177/8177 [==============================] - 0s - loss: 0.2805 - acc: 0.9401 - val_loss: 0.5932 - val_acc: 0.8151\n",
      "Epoch 39/100\n",
      "8177/8177 [==============================] - 0s - loss: 0.2756 - acc: 0.9401 - val_loss: 0.5940 - val_acc: 0.8112\n",
      "Epoch 40/100\n",
      "8177/8177 [==============================] - 0s - loss: 0.2707 - acc: 0.9425 - val_loss: 0.5924 - val_acc: 0.8102\n",
      "Epoch 41/100\n",
      "8177/8177 [==============================] - 0s - loss: 0.2661 - acc: 0.9437 - val_loss: 0.5916 - val_acc: 0.8121\n",
      "Epoch 42/100\n",
      "8177/8177 [==============================] - 0s - loss: 0.2620 - acc: 0.9463 - val_loss: 0.5909 - val_acc: 0.8151\n",
      "Epoch 43/100\n",
      "8177/8177 [==============================] - 0s - loss: 0.2577 - acc: 0.9480 - val_loss: 0.5907 - val_acc: 0.8121\n",
      "Epoch 44/100\n",
      "8177/8177 [==============================] - 0s - loss: 0.2533 - acc: 0.9488 - val_loss: 0.5903 - val_acc: 0.8121\n",
      "Epoch 45/100\n",
      "8177/8177 [==============================] - 0s - loss: 0.2492 - acc: 0.9485 - val_loss: 0.5903 - val_acc: 0.8131\n",
      "Epoch 46/100\n",
      "8177/8177 [==============================] - 0s - loss: 0.2452 - acc: 0.9501 - val_loss: 0.5893 - val_acc: 0.8180\n",
      "Epoch 47/100\n",
      "8177/8177 [==============================] - 0s - loss: 0.2415 - acc: 0.9511 - val_loss: 0.5895 - val_acc: 0.8151\n",
      "Epoch 48/100\n",
      "8177/8177 [==============================] - 0s - loss: 0.2378 - acc: 0.9521 - val_loss: 0.5883 - val_acc: 0.8170\n",
      "Epoch 49/100\n",
      "8177/8177 [==============================] - 0s - loss: 0.2340 - acc: 0.9529 - val_loss: 0.5895 - val_acc: 0.8112\n",
      "Epoch 50/100\n",
      "8177/8177 [==============================] - 0s - loss: 0.2306 - acc: 0.9541 - val_loss: 0.5899 - val_acc: 0.8121\n",
      "Epoch 51/100\n",
      "8177/8177 [==============================] - 0s - loss: 0.2272 - acc: 0.9560 - val_loss: 0.5875 - val_acc: 0.8141\n",
      "Epoch 52/100\n",
      "8177/8177 [==============================] - 0s - loss: 0.2237 - acc: 0.9570 - val_loss: 0.5879 - val_acc: 0.8151\n",
      "Epoch 53/100\n",
      "8177/8177 [==============================] - 0s - loss: 0.2205 - acc: 0.9587 - val_loss: 0.5863 - val_acc: 0.8141\n",
      "Epoch 54/100\n",
      "8177/8177 [==============================] - 0s - loss: 0.2175 - acc: 0.9584 - val_loss: 0.5864 - val_acc: 0.8160\n",
      "Epoch 55/100\n",
      "8177/8177 [==============================] - 0s - loss: 0.2141 - acc: 0.9587 - val_loss: 0.5858 - val_acc: 0.8180\n",
      "Epoch 56/100\n",
      "8177/8177 [==============================] - 0s - loss: 0.2112 - acc: 0.9601 - val_loss: 0.5861 - val_acc: 0.8151\n",
      "Epoch 57/100\n",
      "8177/8177 [==============================] - 0s - loss: 0.2083 - acc: 0.9609 - val_loss: 0.5861 - val_acc: 0.8190\n",
      "Epoch 58/100\n",
      "8177/8177 [==============================] - 0s - loss: 0.2055 - acc: 0.9629 - val_loss: 0.5855 - val_acc: 0.8200\n",
      "Epoch 59/100\n",
      "8177/8177 [==============================] - 0s - loss: 0.2025 - acc: 0.9632 - val_loss: 0.5869 - val_acc: 0.8151\n",
      "Epoch 60/100\n",
      "8177/8177 [==============================] - 0s - loss: 0.1997 - acc: 0.9647 - val_loss: 0.5850 - val_acc: 0.8170\n",
      "Epoch 61/100\n",
      "8177/8177 [==============================] - 0s - loss: 0.1971 - acc: 0.9650 - val_loss: 0.5864 - val_acc: 0.8180\n",
      "Epoch 62/100\n",
      "8177/8177 [==============================] - 0s - loss: 0.1947 - acc: 0.9659 - val_loss: 0.5860 - val_acc: 0.8180\n",
      "Epoch 63/100\n",
      "8177/8177 [==============================] - 0s - loss: 0.1918 - acc: 0.9670 - val_loss: 0.5864 - val_acc: 0.8190\n",
      "Epoch 64/100\n",
      "8177/8177 [==============================] - 0s - loss: 0.1895 - acc: 0.9688 - val_loss: 0.5852 - val_acc: 0.8200\n",
      "Epoch 65/100\n"
     ]
    },
    {
     "name": "stdout",
     "output_type": "stream",
     "text": [
      "8177/8177 [==============================] - 0s - loss: 0.1870 - acc: 0.9676 - val_loss: 0.5859 - val_acc: 0.8170\n",
      "Epoch 66/100\n",
      "8177/8177 [==============================] - 0s - loss: 0.1845 - acc: 0.9692 - val_loss: 0.5867 - val_acc: 0.8190\n",
      "Epoch 67/100\n",
      "8177/8177 [==============================] - 0s - loss: 0.1824 - acc: 0.9700 - val_loss: 0.5858 - val_acc: 0.8180\n",
      "Epoch 68/100\n",
      "8177/8177 [==============================] - 0s - loss: 0.1801 - acc: 0.9709 - val_loss: 0.5857 - val_acc: 0.8190\n",
      "Epoch 69/100\n",
      "8177/8177 [==============================] - 0s - loss: 0.1777 - acc: 0.9710 - val_loss: 0.5858 - val_acc: 0.8190\n",
      "Epoch 70/100\n",
      "8177/8177 [==============================] - 0s - loss: 0.1755 - acc: 0.9710 - val_loss: 0.5855 - val_acc: 0.8229\n",
      "Epoch 71/100\n",
      "8177/8177 [==============================] - 0s - loss: 0.1734 - acc: 0.9725 - val_loss: 0.5858 - val_acc: 0.8209\n",
      "Epoch 72/100\n",
      "8177/8177 [==============================] - 0s - loss: 0.1712 - acc: 0.9726 - val_loss: 0.5859 - val_acc: 0.8160\n",
      "Epoch 73/100\n",
      "8177/8177 [==============================] - 0s - loss: 0.1693 - acc: 0.9726 - val_loss: 0.5849 - val_acc: 0.8209\n",
      "Epoch 74/100\n",
      "8177/8177 [==============================] - 0s - loss: 0.1673 - acc: 0.9744 - val_loss: 0.5861 - val_acc: 0.8200\n",
      "Epoch 75/100\n",
      "8177/8177 [==============================] - 0s - loss: 0.1653 - acc: 0.9743 - val_loss: 0.5856 - val_acc: 0.8200\n",
      "Epoch 76/100\n",
      "8177/8177 [==============================] - 0s - loss: 0.1634 - acc: 0.9749 - val_loss: 0.5852 - val_acc: 0.8209\n",
      "Epoch 77/100\n",
      "8177/8177 [==============================] - 0s - loss: 0.1614 - acc: 0.9758 - val_loss: 0.5856 - val_acc: 0.8180\n",
      "Epoch 78/100\n",
      "8177/8177 [==============================] - 0s - loss: 0.1596 - acc: 0.9752 - val_loss: 0.5863 - val_acc: 0.8160\n",
      "Epoch 79/100\n",
      "8177/8177 [==============================] - 0s - loss: 0.1578 - acc: 0.9770 - val_loss: 0.5856 - val_acc: 0.8170\n",
      "Epoch 80/100\n",
      "8177/8177 [==============================] - 0s - loss: 0.1560 - acc: 0.9769 - val_loss: 0.5858 - val_acc: 0.8180\n",
      "Epoch 81/100\n",
      "8177/8177 [==============================] - 0s - loss: 0.1542 - acc: 0.9771 - val_loss: 0.5857 - val_acc: 0.8160\n",
      "Epoch 82/100\n",
      "8177/8177 [==============================] - 0s - loss: 0.1525 - acc: 0.9782 - val_loss: 0.5850 - val_acc: 0.8180\n",
      "Epoch 83/100\n",
      "8177/8177 [==============================] - 0s - loss: 0.1508 - acc: 0.9784 - val_loss: 0.5869 - val_acc: 0.8170\n",
      "Epoch 84/100\n",
      "8177/8177 [==============================] - 0s - loss: 0.1492 - acc: 0.9788 - val_loss: 0.5865 - val_acc: 0.8151\n",
      "Epoch 85/100\n",
      "8177/8177 [==============================] - 0s - loss: 0.1475 - acc: 0.9801 - val_loss: 0.5865 - val_acc: 0.8190\n",
      "Epoch 86/100\n",
      "8177/8177 [==============================] - 0s - loss: 0.1461 - acc: 0.9797 - val_loss: 0.5863 - val_acc: 0.8190\n",
      "Epoch 87/100\n",
      "8177/8177 [==============================] - 0s - loss: 0.1445 - acc: 0.9802 - val_loss: 0.5861 - val_acc: 0.8200\n",
      "Epoch 88/100\n",
      "8177/8177 [==============================] - 0s - loss: 0.1429 - acc: 0.9809 - val_loss: 0.5870 - val_acc: 0.8180\n",
      "Epoch 89/100\n",
      "8177/8177 [==============================] - 0s - loss: 0.1414 - acc: 0.9808 - val_loss: 0.5866 - val_acc: 0.8190\n",
      "Epoch 90/100\n",
      "8177/8177 [==============================] - 0s - loss: 0.1399 - acc: 0.9815 - val_loss: 0.5871 - val_acc: 0.8170\n",
      "Epoch 91/100\n",
      "8177/8177 [==============================] - 0s - loss: 0.1386 - acc: 0.9821 - val_loss: 0.5872 - val_acc: 0.8160\n",
      "Epoch 92/100\n",
      "8177/8177 [==============================] - 0s - loss: 0.1371 - acc: 0.9826 - val_loss: 0.5873 - val_acc: 0.8160\n",
      "Epoch 93/100\n",
      "8177/8177 [==============================] - 0s - loss: 0.1357 - acc: 0.9823 - val_loss: 0.5872 - val_acc: 0.8190\n",
      "Epoch 94/100\n",
      "8177/8177 [==============================] - 0s - loss: 0.1343 - acc: 0.9832 - val_loss: 0.5863 - val_acc: 0.8151\n",
      "Epoch 95/100\n",
      "8177/8177 [==============================] - 0s - loss: 0.1331 - acc: 0.9835 - val_loss: 0.5871 - val_acc: 0.8170\n",
      "Epoch 96/100\n",
      "8177/8177 [==============================] - 0s - loss: 0.1316 - acc: 0.9837 - val_loss: 0.5883 - val_acc: 0.8180\n",
      "Epoch 97/100\n",
      "8177/8177 [==============================] - 0s - loss: 0.1304 - acc: 0.9840 - val_loss: 0.5872 - val_acc: 0.8170\n",
      "Epoch 98/100\n",
      "8177/8177 [==============================] - 0s - loss: 0.1292 - acc: 0.9847 - val_loss: 0.5874 - val_acc: 0.8170\n",
      "Epoch 99/100\n",
      "8177/8177 [==============================] - 0s - loss: 0.1279 - acc: 0.9854 - val_loss: 0.5882 - val_acc: 0.8160\n",
      "Epoch 100/100\n",
      "8177/8177 [==============================] - 0s - loss: 0.1266 - acc: 0.9853 - val_loss: 0.5881 - val_acc: 0.8170\n"
     ]
    },
    {
     "data": {
      "text/plain": [
       "<keras.callbacks.History at 0x7f4e62c31e48>"
      ]
     },
     "execution_count": 44,
     "metadata": {},
     "output_type": "execute_result"
    }
   ],
   "source": [
    "model.fit(finalc,y,validation_data=(finalcv,y_val),epochs=100,batch_size=100)"
   ]
  },
  {
   "cell_type": "code",
   "execution_count": null,
   "metadata": {
    "collapsed": true
   },
   "outputs": [],
   "source": [
    "model.save_weights('zoom1.h5')"
   ]
  },
  {
   "cell_type": "code",
   "execution_count": 45,
   "metadata": {
    "collapsed": true
   },
   "outputs": [],
   "source": [
    "predc=model.predict(finalct)"
   ]
  },
  {
   "cell_type": "code",
   "execution_count": 46,
   "metadata": {
    "collapsed": true
   },
   "outputs": [],
   "source": [
    "final_predic=(predo+predf+predc)/3"
   ]
  },
  {
   "cell_type": "code",
   "execution_count": null,
   "metadata": {
    "collapsed": true
   },
   "outputs": [],
   "source": [
    "np.savetxt('3_models.csv',final_predic,fmt='%f',delimiter=',')"
   ]
  },
  {
   "cell_type": "code",
   "execution_count": null,
   "metadata": {
    "collapsed": true
   },
   "outputs": [],
   "source": []
  }
 ],
 "metadata": {
  "kernelspec": {
   "display_name": "Python 3",
   "language": "python",
   "name": "python3"
  },
  "language_info": {
   "codemirror_mode": {
    "name": "ipython",
    "version": 3
   },
   "file_extension": ".py",
   "mimetype": "text/x-python",
   "name": "python",
   "nbconvert_exporter": "python",
   "pygments_lexer": "ipython3",
   "version": "3.6.3"
  }
 },
 "nbformat": 4,
 "nbformat_minor": 2
}
