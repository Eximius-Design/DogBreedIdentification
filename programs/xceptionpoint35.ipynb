{
 "cells": [
  {
   "cell_type": "code",
   "execution_count": 1,
   "metadata": {},
   "outputs": [
    {
     "name": "stderr",
     "output_type": "stream",
     "text": [
      "Using TensorFlow backend.\n"
     ]
    }
   ],
   "source": [
    "import pandas as pd\n",
    "#from keras.preprocessing import image\n",
    "from matplotlib import pyplot\n",
    "from matplotlib.pyplot import imshow\n",
    "import split_data as sd\n",
    "import basic_model as n\n",
    "import numpy as np\n",
    "from sklearn.metrics import confusion_matrix\n",
    "#import Network as net\n",
    "import vectorised as v\n",
    "from random import randint\n",
    "import tensorflow as tf\n",
    "config = tf.ConfigProto()\n",
    "config.gpu_options.allow_growth = True\n",
    "session = tf.Session(config=config)\n",
    "from keras.backend.tensorflow_backend import set_session\n",
    "set_session(tf.Session(config=config))\n",
    "import keras\n",
    "from keras.preprocessing import image\n",
    "from keras.preprocessing.image import ImageDataGenerator\n",
    "config=tf.ConfigProto()\n",
    "config.gpu_options.allow_growth=True"
   ]
  },
  {
   "cell_type": "code",
   "execution_count": 2,
   "metadata": {},
   "outputs": [
    {
     "name": "stdout",
     "output_type": "stream",
     "text": [
      "                                 id             breed\n",
      "0  000bec180eb18c7604dcecc8fe0dba07       boston_bull\n",
      "1  001513dfcb2ffafc82cccf4d8bbaba97             dingo\n",
      "2  001cdf01b096e06d78e9e5112d419397          pekinese\n",
      "3  00214f311d5d2247d5dfe4fe24b2303d          bluetick\n",
      "4  0021f9ceb3235effd7fcde7f7538ed62  golden_retriever\n"
     ]
    }
   ],
   "source": [
    "data=pd.read_csv('/home/snehao/dog_breed/Image_Classification/labels.csv')\n",
    "print(data.head())\n",
    "targets_series = pd.Series(data['breed'])\n",
    "one_hot = pd.get_dummies(targets_series, sparse = True)\n",
    "one_hot_labels = np.asarray(one_hot)"
   ]
  },
  {
   "cell_type": "code",
   "execution_count": 3,
   "metadata": {},
   "outputs": [
    {
     "name": "stdout",
     "output_type": "stream",
     "text": [
      "(9199, 2)\n",
      "(9199, 120)\n",
      "(1023, 2)\n",
      "(1023, 120)\n"
     ]
    }
   ],
   "source": [
    "x_train,x_test,y_train,y_test=sd.split_data(data,one_hot_labels,.10)\n",
    "#y_test1=x_test['breed'].values\n",
    "#print(x_train.nlargest(5,x_train.groupby(['breed']).size()))\n",
    "#x_val,x_test,y_val,y_test=sd.split_data(x_test,y_test,.50)\n",
    "#print(x_train.groupby(['breed']).size().sort_values())\n",
    "print(x_train.shape)\n",
    "print(y_train.shape)\n",
    "print(x_test.shape)\n",
    "print(y_test.shape)"
   ]
  },
  {
   "cell_type": "code",
   "execution_count": 4,
   "metadata": {},
   "outputs": [
    {
     "name": "stdout",
     "output_type": "stream",
     "text": [
      "x_shape (9199, 300, 300, 3)\n",
      "y_shape (9199, 120)\n"
     ]
    }
   ],
   "source": [
    "x=[]\n",
    "y=[]\n",
    "#for i in range(100):\n",
    "for i in range(x_train.shape[0]):\n",
    "    img = image.load_img('/home/snehao/dog_breed/train/'+x_train.iloc[i][0]+'.jpg',target_size=(300,300,3))\n",
    "    arr=image.img_to_array(img)\n",
    "    x.append(arr/255)\n",
    "    y.append(y_train[i])\n",
    "x=np.array(x)\n",
    "y=np.array(y)\n",
    "print('x_shape',x.shape)\n",
    "print('y_shape',y.shape)"
   ]
  },
  {
   "cell_type": "code",
   "execution_count": null,
   "metadata": {
    "collapsed": true
   },
   "outputs": [],
   "source": [
    "np.save(\"xceptiontrainx.npy\",x)\n",
    "np.save(\"xceptiontrainy.npy\",y)"
   ]
  },
  {
   "cell_type": "code",
   "execution_count": 5,
   "metadata": {},
   "outputs": [
    {
     "name": "stdout",
     "output_type": "stream",
     "text": [
      "y_shape (1023, 120)\n",
      "x_shape (1023, 300, 300, 3)\n"
     ]
    }
   ],
   "source": [
    "import cv2\n",
    "x_val_images=[]\n",
    "y_val1=[]\n",
    "#for i in range(100):\n",
    "for i in range(x_test.shape[0]): \n",
    "    \n",
    "    img = image.load_img('/home/snehao/dog_breed/train/'+x_test.iloc[i][0]+'.jpg',target_size=(300,300,3))\n",
    "    arr=image.img_to_array(img)\n",
    "    x_val_images.append(arr/255)\n",
    "    y_val1.append(y_test[i])\n",
    "x_val_images=np.array(x_val_images)\n",
    "y_val1=np.array(y_val1)\n",
    "print('y_shape',y_val1.shape)\n",
    "print('x_shape',x_val_images.shape)\n"
   ]
  },
  {
   "cell_type": "code",
   "execution_count": null,
   "metadata": {
    "collapsed": true
   },
   "outputs": [],
   "source": [
    "np.save(\"xceptionvalx.npy\",x_val_images)\n",
    "np.save(\"xceptionvaly.npy\",y_val1)"
   ]
  },
  {
   "cell_type": "code",
   "execution_count": 6,
   "metadata": {},
   "outputs": [],
   "source": [
    "from keras.layers import Concatenate,Add,BatchNormalization,Input,Dropout,Dense,Activation,Flatten,MaxPooling2D,Conv2D,ZeroPadding2D\n",
    "from keras.models import Model,Sequential\n",
    "from keras.applications.xception import Xception\n",
    "base_model = Xception(input_shape=(300,300,3),weights='imagenet', include_top=False,pooling='avg')"
   ]
  },
  {
   "cell_type": "code",
   "execution_count": 7,
   "metadata": {
    "collapsed": true
   },
   "outputs": [],
   "source": [
    "callback=keras.callbacks.TensorBoard(log_dir='Graphs_x', histogram_freq=0,  \n",
    "          write_graph=True, write_images=True)"
   ]
  },
  {
   "cell_type": "code",
   "execution_count": 8,
   "metadata": {
    "collapsed": true
   },
   "outputs": [],
   "source": [
    "featuresx=base_model.predict(x)"
   ]
  },
  {
   "cell_type": "code",
   "execution_count": 9,
   "metadata": {
    "collapsed": true
   },
   "outputs": [],
   "source": [
    "features_val=base_model.predict(x_val_images)\n"
   ]
  },
  {
   "cell_type": "code",
   "execution_count": 10,
   "metadata": {},
   "outputs": [
    {
     "data": {
      "text/plain": [
       "(9199, 2048)"
      ]
     },
     "execution_count": 10,
     "metadata": {},
     "output_type": "execute_result"
    }
   ],
   "source": [
    "featuresx.shape"
   ]
  },
  {
   "cell_type": "code",
   "execution_count": null,
   "metadata": {
    "collapsed": true
   },
   "outputs": [],
   "source": [
    "#featuresxf=base_model.predict(np.flip(x,axis=2))\n",
    "#features_valf=base_model.predict(np.flip(x_val_images,axis=2))"
   ]
  },
  {
   "cell_type": "code",
   "execution_count": 22,
   "metadata": {},
   "outputs": [
    {
     "name": "stdout",
     "output_type": "stream",
     "text": [
      "_________________________________________________________________\n",
      "Layer (type)                 Output Shape              Param #   \n",
      "=================================================================\n",
      "input_4 (InputLayer)         (None, 2048)              0         \n",
      "_________________________________________________________________\n",
      "dense_5 (Dense)              (None, 1024)              2098176   \n",
      "_________________________________________________________________\n",
      "dense_6 (Dense)              (None, 120)               123000    \n",
      "=================================================================\n",
      "Total params: 2,221,176\n",
      "Trainable params: 2,221,176\n",
      "Non-trainable params: 0\n",
      "_________________________________________________________________\n",
      "None\n"
     ]
    }
   ],
   "source": [
    "from keras import optimizers\n",
    "input_shape=Input((2048,)) \n",
    "x1=Dense(1024, activation='relu')(input_shape) \n",
    "#x1=Dropout(0.4)(x1) \n",
    "#x1=Dense(512, activation='relu')(x1) \n",
    "#x1=Dropout(0.2)(x1) \n",
    "x1=Dense(120, activation='softmax')(x1) \n",
    "model=Model(inputs=input_shape,outputs=x1) \n",
    "print(model.summary()) \n",
    "\n",
    "\n"
   ]
  },
  {
   "cell_type": "code",
   "execution_count": 23,
   "metadata": {},
   "outputs": [],
   "source": [
    "sgd=optimizers.SGD(momentum=0.0, decay=0.0, nesterov=False) \n",
    "model.compile(loss='categorical_crossentropy', optimizer=sgd, metrics=['accuracy'])"
   ]
  },
  {
   "cell_type": "code",
   "execution_count": 24,
   "metadata": {
    "scrolled": true
   },
   "outputs": [
    {
     "name": "stdout",
     "output_type": "stream",
     "text": [
      "Train on 9199 samples, validate on 1023 samples\n",
      "Epoch 1/250\n",
      "9199/9199 [==============================] - 0s 32us/step - loss: 4.7157 - acc: 0.0377 - val_loss: 4.6338 - val_acc: 0.0890\n",
      "Epoch 2/250\n",
      "9199/9199 [==============================] - 0s 24us/step - loss: 4.5551 - acc: 0.1427 - val_loss: 4.4768 - val_acc: 0.2287\n",
      "Epoch 3/250\n",
      "9199/9199 [==============================] - 0s 24us/step - loss: 4.3906 - acc: 0.3197 - val_loss: 4.3127 - val_acc: 0.4047\n",
      "Epoch 4/250\n",
      "9199/9199 [==============================] - 0s 24us/step - loss: 4.2168 - acc: 0.4778 - val_loss: 4.1365 - val_acc: 0.5239\n",
      "Epoch 5/250\n",
      "9199/9199 [==============================] - 0s 24us/step - loss: 4.0306 - acc: 0.5810 - val_loss: 3.9478 - val_acc: 0.6002\n",
      "Epoch 6/250\n",
      "9199/9199 [==============================] - 0s 25us/step - loss: 3.8310 - acc: 0.6514 - val_loss: 3.7441 - val_acc: 0.6549\n",
      "Epoch 7/250\n",
      "9199/9199 [==============================] - 0s 25us/step - loss: 3.6180 - acc: 0.6978 - val_loss: 3.5281 - val_acc: 0.6911\n",
      "Epoch 8/250\n",
      "9199/9199 [==============================] - 0s 25us/step - loss: 3.3938 - acc: 0.7337 - val_loss: 3.3016 - val_acc: 0.7107\n",
      "Epoch 9/250\n",
      "9199/9199 [==============================] - 0s 24us/step - loss: 3.1606 - acc: 0.7538 - val_loss: 3.0684 - val_acc: 0.7302\n",
      "Epoch 10/250\n",
      "9199/9199 [==============================] - 0s 24us/step - loss: 2.9230 - acc: 0.7720 - val_loss: 2.8320 - val_acc: 0.7449\n",
      "Epoch 11/250\n",
      "9199/9199 [==============================] - 0s 23us/step - loss: 2.6855 - acc: 0.7855 - val_loss: 2.5987 - val_acc: 0.7654\n",
      "Epoch 12/250\n",
      "9199/9199 [==============================] - 0s 23us/step - loss: 2.4532 - acc: 0.7980 - val_loss: 2.3721 - val_acc: 0.7820\n",
      "Epoch 13/250\n",
      "9199/9199 [==============================] - 0s 24us/step - loss: 2.2307 - acc: 0.8113 - val_loss: 2.1584 - val_acc: 0.8006\n",
      "Epoch 14/250\n",
      "9199/9199 [==============================] - 0s 23us/step - loss: 2.0225 - acc: 0.8238 - val_loss: 1.9586 - val_acc: 0.8123\n",
      "Epoch 15/250\n",
      "9199/9199 [==============================] - 0s 25us/step - loss: 1.8316 - acc: 0.8328 - val_loss: 1.7769 - val_acc: 0.8211\n",
      "Epoch 16/250\n",
      "9199/9199 [==============================] - 0s 24us/step - loss: 1.6590 - acc: 0.8426 - val_loss: 1.6149 - val_acc: 0.8358\n",
      "Epoch 17/250\n",
      "9199/9199 [==============================] - 0s 23us/step - loss: 1.5061 - acc: 0.8518 - val_loss: 1.4723 - val_acc: 0.8465\n",
      "Epoch 18/250\n",
      "9199/9199 [==============================] - 0s 23us/step - loss: 1.3720 - acc: 0.8595 - val_loss: 1.3467 - val_acc: 0.8495\n",
      "Epoch 19/250\n",
      "9199/9199 [==============================] - 0s 24us/step - loss: 1.2556 - acc: 0.8652 - val_loss: 1.2378 - val_acc: 0.8563\n",
      "Epoch 20/250\n",
      "9199/9199 [==============================] - 0s 23us/step - loss: 1.1548 - acc: 0.8690 - val_loss: 1.1423 - val_acc: 0.8602\n",
      "Epoch 21/250\n",
      "9199/9199 [==============================] - 0s 23us/step - loss: 1.0681 - acc: 0.8746 - val_loss: 1.0613 - val_acc: 0.8651\n",
      "Epoch 22/250\n",
      "9199/9199 [==============================] - 0s 23us/step - loss: 0.9935 - acc: 0.8764 - val_loss: 0.9908 - val_acc: 0.8710\n",
      "Epoch 23/250\n",
      "9199/9199 [==============================] - 0s 24us/step - loss: 0.9292 - acc: 0.8809 - val_loss: 0.9304 - val_acc: 0.8719\n",
      "Epoch 24/250\n",
      "9199/9199 [==============================] - 0s 24us/step - loss: 0.8737 - acc: 0.8814 - val_loss: 0.8786 - val_acc: 0.8719\n",
      "Epoch 25/250\n",
      "9199/9199 [==============================] - 0s 24us/step - loss: 0.8255 - acc: 0.8837 - val_loss: 0.8339 - val_acc: 0.8749\n",
      "Epoch 26/250\n",
      "9199/9199 [==============================] - 0s 24us/step - loss: 0.7834 - acc: 0.8859 - val_loss: 0.7938 - val_acc: 0.8739\n",
      "Epoch 27/250\n",
      "9199/9199 [==============================] - 0s 23us/step - loss: 0.7465 - acc: 0.8881 - val_loss: 0.7587 - val_acc: 0.8759\n",
      "Epoch 28/250\n",
      "9199/9199 [==============================] - 0s 23us/step - loss: 0.7141 - acc: 0.8898 - val_loss: 0.7280 - val_acc: 0.8739\n",
      "Epoch 29/250\n",
      "9199/9199 [==============================] - 0s 23us/step - loss: 0.6851 - acc: 0.8909 - val_loss: 0.7014 - val_acc: 0.8739\n",
      "Epoch 30/250\n",
      "9199/9199 [==============================] - 0s 23us/step - loss: 0.6595 - acc: 0.8927 - val_loss: 0.6768 - val_acc: 0.8729\n",
      "Epoch 31/250\n",
      "9199/9199 [==============================] - 0s 23us/step - loss: 0.6364 - acc: 0.8938 - val_loss: 0.6553 - val_acc: 0.8690\n",
      "Epoch 32/250\n",
      "9199/9199 [==============================] - 0s 23us/step - loss: 0.6156 - acc: 0.8949 - val_loss: 0.6359 - val_acc: 0.8729\n",
      "Epoch 33/250\n",
      "9199/9199 [==============================] - 0s 24us/step - loss: 0.5970 - acc: 0.8963 - val_loss: 0.6177 - val_acc: 0.8719\n",
      "Epoch 34/250\n",
      "9199/9199 [==============================] - 0s 23us/step - loss: 0.5799 - acc: 0.8972 - val_loss: 0.6019 - val_acc: 0.8690\n",
      "Epoch 35/250\n",
      "9199/9199 [==============================] - 0s 24us/step - loss: 0.5644 - acc: 0.8972 - val_loss: 0.5879 - val_acc: 0.8719\n",
      "Epoch 36/250\n",
      "9199/9199 [==============================] - 0s 23us/step - loss: 0.5503 - acc: 0.8980 - val_loss: 0.5751 - val_acc: 0.8729\n",
      "Epoch 37/250\n",
      "9199/9199 [==============================] - 0s 23us/step - loss: 0.5371 - acc: 0.8992 - val_loss: 0.5617 - val_acc: 0.8749\n",
      "Epoch 38/250\n",
      "9199/9199 [==============================] - 0s 24us/step - loss: 0.5250 - acc: 0.8990 - val_loss: 0.5505 - val_acc: 0.8759\n",
      "Epoch 39/250\n",
      "9199/9199 [==============================] - 0s 24us/step - loss: 0.5138 - acc: 0.9008 - val_loss: 0.5404 - val_acc: 0.8749\n",
      "Epoch 40/250\n",
      "9199/9199 [==============================] - 0s 24us/step - loss: 0.5034 - acc: 0.9015 - val_loss: 0.5314 - val_acc: 0.8749\n",
      "Epoch 41/250\n",
      "9199/9199 [==============================] - 0s 24us/step - loss: 0.4938 - acc: 0.9014 - val_loss: 0.5227 - val_acc: 0.8749\n",
      "Epoch 42/250\n",
      "9199/9199 [==============================] - 0s 23us/step - loss: 0.4848 - acc: 0.9022 - val_loss: 0.5137 - val_acc: 0.8739\n",
      "Epoch 43/250\n",
      "9199/9199 [==============================] - 0s 23us/step - loss: 0.4763 - acc: 0.9036 - val_loss: 0.5060 - val_acc: 0.8759\n",
      "Epoch 44/250\n",
      "9199/9199 [==============================] - 0s 24us/step - loss: 0.4683 - acc: 0.9039 - val_loss: 0.4988 - val_acc: 0.8749\n",
      "Epoch 45/250\n",
      "9199/9199 [==============================] - 0s 24us/step - loss: 0.4609 - acc: 0.9043 - val_loss: 0.4925 - val_acc: 0.8749\n",
      "Epoch 46/250\n",
      "9199/9199 [==============================] - 0s 23us/step - loss: 0.4540 - acc: 0.9047 - val_loss: 0.4862 - val_acc: 0.8749\n",
      "Epoch 47/250\n",
      "9199/9199 [==============================] - 0s 23us/step - loss: 0.4471 - acc: 0.9058 - val_loss: 0.4809 - val_acc: 0.8788\n",
      "Epoch 48/250\n",
      "9199/9199 [==============================] - 0s 23us/step - loss: 0.4409 - acc: 0.9064 - val_loss: 0.4745 - val_acc: 0.8778\n",
      "Epoch 49/250\n",
      "9199/9199 [==============================] - 0s 23us/step - loss: 0.4350 - acc: 0.9065 - val_loss: 0.4689 - val_acc: 0.8778\n",
      "Epoch 50/250\n",
      "9199/9199 [==============================] - 0s 23us/step - loss: 0.4292 - acc: 0.9069 - val_loss: 0.4638 - val_acc: 0.8788\n",
      "Epoch 51/250\n",
      "9199/9199 [==============================] - 0s 23us/step - loss: 0.4238 - acc: 0.9089 - val_loss: 0.4606 - val_acc: 0.8778\n",
      "Epoch 52/250\n",
      "9199/9199 [==============================] - 0s 23us/step - loss: 0.4186 - acc: 0.9096 - val_loss: 0.4561 - val_acc: 0.8798\n",
      "Epoch 53/250\n",
      "9199/9199 [==============================] - 0s 24us/step - loss: 0.4138 - acc: 0.9088 - val_loss: 0.4525 - val_acc: 0.8768\n",
      "Epoch 54/250\n",
      "9199/9199 [==============================] - 0s 23us/step - loss: 0.4090 - acc: 0.9086 - val_loss: 0.4471 - val_acc: 0.8807\n",
      "Epoch 55/250\n",
      "9199/9199 [==============================] - 0s 24us/step - loss: 0.4046 - acc: 0.9105 - val_loss: 0.4434 - val_acc: 0.8817\n",
      "Epoch 56/250\n",
      "9199/9199 [==============================] - 0s 23us/step - loss: 0.4003 - acc: 0.9102 - val_loss: 0.4396 - val_acc: 0.8827\n",
      "Epoch 57/250\n",
      "9199/9199 [==============================] - 0s 24us/step - loss: 0.3960 - acc: 0.9123 - val_loss: 0.4361 - val_acc: 0.8798\n",
      "Epoch 58/250\n",
      "9199/9199 [==============================] - 0s 23us/step - loss: 0.3920 - acc: 0.9117 - val_loss: 0.4333 - val_acc: 0.8847\n",
      "Epoch 59/250\n",
      "9199/9199 [==============================] - 0s 24us/step - loss: 0.3882 - acc: 0.9117 - val_loss: 0.4300 - val_acc: 0.8827\n",
      "Epoch 60/250\n"
     ]
    },
    {
     "name": "stdout",
     "output_type": "stream",
     "text": [
      "9199/9199 [==============================] - 0s 25us/step - loss: 0.3846 - acc: 0.9135 - val_loss: 0.4268 - val_acc: 0.8847\n",
      "Epoch 61/250\n",
      "9199/9199 [==============================] - 0s 24us/step - loss: 0.3810 - acc: 0.9133 - val_loss: 0.4240 - val_acc: 0.8847\n",
      "Epoch 62/250\n",
      "9199/9199 [==============================] - 0s 23us/step - loss: 0.3776 - acc: 0.9128 - val_loss: 0.4210 - val_acc: 0.8847\n",
      "Epoch 63/250\n",
      "9199/9199 [==============================] - 0s 24us/step - loss: 0.3742 - acc: 0.9140 - val_loss: 0.4184 - val_acc: 0.8817\n",
      "Epoch 64/250\n",
      "9199/9199 [==============================] - 0s 23us/step - loss: 0.3710 - acc: 0.9128 - val_loss: 0.4165 - val_acc: 0.8856\n",
      "Epoch 65/250\n",
      "9199/9199 [==============================] - 0s 24us/step - loss: 0.3679 - acc: 0.9143 - val_loss: 0.4140 - val_acc: 0.8837\n",
      "Epoch 66/250\n",
      "9199/9199 [==============================] - 0s 24us/step - loss: 0.3650 - acc: 0.9146 - val_loss: 0.4110 - val_acc: 0.8847\n",
      "Epoch 67/250\n",
      "9199/9199 [==============================] - 0s 23us/step - loss: 0.3620 - acc: 0.9137 - val_loss: 0.4088 - val_acc: 0.8837\n",
      "Epoch 68/250\n",
      "9199/9199 [==============================] - 0s 23us/step - loss: 0.3592 - acc: 0.9154 - val_loss: 0.4071 - val_acc: 0.8827\n",
      "Epoch 69/250\n",
      "9199/9199 [==============================] - 0s 24us/step - loss: 0.3564 - acc: 0.9152 - val_loss: 0.4053 - val_acc: 0.8837\n",
      "Epoch 70/250\n",
      "9199/9199 [==============================] - 0s 24us/step - loss: 0.3539 - acc: 0.9160 - val_loss: 0.4026 - val_acc: 0.8837\n",
      "Epoch 71/250\n",
      "9199/9199 [==============================] - 0s 24us/step - loss: 0.3512 - acc: 0.9152 - val_loss: 0.4005 - val_acc: 0.8827\n",
      "Epoch 72/250\n",
      "9199/9199 [==============================] - 0s 24us/step - loss: 0.3487 - acc: 0.9164 - val_loss: 0.3991 - val_acc: 0.8847\n",
      "Epoch 73/250\n",
      "9199/9199 [==============================] - 0s 24us/step - loss: 0.3463 - acc: 0.9162 - val_loss: 0.3961 - val_acc: 0.8847\n",
      "Epoch 74/250\n",
      "9199/9199 [==============================] - 0s 24us/step - loss: 0.3438 - acc: 0.9174 - val_loss: 0.3957 - val_acc: 0.8827\n",
      "Epoch 75/250\n",
      "9199/9199 [==============================] - 0s 25us/step - loss: 0.3415 - acc: 0.9176 - val_loss: 0.3943 - val_acc: 0.8837\n",
      "Epoch 76/250\n",
      "9199/9199 [==============================] - 0s 24us/step - loss: 0.3392 - acc: 0.9164 - val_loss: 0.3926 - val_acc: 0.8847\n",
      "Epoch 77/250\n",
      "9199/9199 [==============================] - 0s 24us/step - loss: 0.3371 - acc: 0.9180 - val_loss: 0.3910 - val_acc: 0.8837\n",
      "Epoch 78/250\n",
      "9199/9199 [==============================] - 0s 24us/step - loss: 0.3348 - acc: 0.9183 - val_loss: 0.3885 - val_acc: 0.8847\n",
      "Epoch 79/250\n",
      "9199/9199 [==============================] - 0s 24us/step - loss: 0.3328 - acc: 0.9192 - val_loss: 0.3873 - val_acc: 0.8827\n",
      "Epoch 80/250\n",
      "9199/9199 [==============================] - 0s 24us/step - loss: 0.3306 - acc: 0.9185 - val_loss: 0.3856 - val_acc: 0.8856\n",
      "Epoch 81/250\n",
      "9199/9199 [==============================] - 0s 23us/step - loss: 0.3287 - acc: 0.9199 - val_loss: 0.3840 - val_acc: 0.8827\n",
      "Epoch 82/250\n",
      "9199/9199 [==============================] - 0s 25us/step - loss: 0.3267 - acc: 0.9197 - val_loss: 0.3831 - val_acc: 0.8856\n",
      "Epoch 83/250\n",
      "9199/9199 [==============================] - 0s 26us/step - loss: 0.3248 - acc: 0.9197 - val_loss: 0.3816 - val_acc: 0.8837\n",
      "Epoch 84/250\n",
      "9199/9199 [==============================] - 0s 26us/step - loss: 0.3229 - acc: 0.9197 - val_loss: 0.3808 - val_acc: 0.8866\n",
      "Epoch 85/250\n",
      "9199/9199 [==============================] - 0s 25us/step - loss: 0.3210 - acc: 0.9212 - val_loss: 0.3798 - val_acc: 0.8837\n",
      "Epoch 86/250\n",
      "9199/9199 [==============================] - 0s 24us/step - loss: 0.3192 - acc: 0.9208 - val_loss: 0.3778 - val_acc: 0.8837\n",
      "Epoch 87/250\n",
      "9199/9199 [==============================] - 0s 24us/step - loss: 0.3174 - acc: 0.9216 - val_loss: 0.3769 - val_acc: 0.8847\n",
      "Epoch 88/250\n",
      "9199/9199 [==============================] - 0s 23us/step - loss: 0.3157 - acc: 0.9214 - val_loss: 0.3761 - val_acc: 0.8837\n",
      "Epoch 89/250\n",
      "9199/9199 [==============================] - 0s 24us/step - loss: 0.3141 - acc: 0.9216 - val_loss: 0.3751 - val_acc: 0.8876\n",
      "Epoch 90/250\n",
      "9199/9199 [==============================] - 0s 24us/step - loss: 0.3123 - acc: 0.9218 - val_loss: 0.3737 - val_acc: 0.8876\n",
      "Epoch 91/250\n",
      "9199/9199 [==============================] - 0s 24us/step - loss: 0.3107 - acc: 0.9223 - val_loss: 0.3723 - val_acc: 0.8837\n",
      "Epoch 92/250\n",
      "9199/9199 [==============================] - 0s 24us/step - loss: 0.3092 - acc: 0.9227 - val_loss: 0.3715 - val_acc: 0.8847\n",
      "Epoch 93/250\n",
      "9199/9199 [==============================] - 0s 24us/step - loss: 0.3074 - acc: 0.9228 - val_loss: 0.3710 - val_acc: 0.8866\n",
      "Epoch 94/250\n",
      "9199/9199 [==============================] - 0s 24us/step - loss: 0.3059 - acc: 0.9233 - val_loss: 0.3693 - val_acc: 0.8866\n",
      "Epoch 95/250\n",
      "9199/9199 [==============================] - 0s 24us/step - loss: 0.3044 - acc: 0.9224 - val_loss: 0.3678 - val_acc: 0.8866\n",
      "Epoch 96/250\n",
      "9199/9199 [==============================] - 0s 24us/step - loss: 0.3028 - acc: 0.9237 - val_loss: 0.3667 - val_acc: 0.8876\n",
      "Epoch 97/250\n",
      "9199/9199 [==============================] - 0s 23us/step - loss: 0.3015 - acc: 0.9233 - val_loss: 0.3664 - val_acc: 0.8895\n",
      "Epoch 98/250\n",
      "9199/9199 [==============================] - 0s 23us/step - loss: 0.3000 - acc: 0.9240 - val_loss: 0.3650 - val_acc: 0.8876\n",
      "Epoch 99/250\n",
      "9199/9199 [==============================] - 0s 23us/step - loss: 0.2986 - acc: 0.9241 - val_loss: 0.3639 - val_acc: 0.8886\n",
      "Epoch 100/250\n",
      "9199/9199 [==============================] - 0s 24us/step - loss: 0.2971 - acc: 0.9242 - val_loss: 0.3640 - val_acc: 0.8876\n",
      "Epoch 101/250\n",
      "9199/9199 [==============================] - 0s 24us/step - loss: 0.2958 - acc: 0.9240 - val_loss: 0.3630 - val_acc: 0.8856\n",
      "Epoch 102/250\n",
      "9199/9199 [==============================] - 0s 23us/step - loss: 0.2943 - acc: 0.9233 - val_loss: 0.3612 - val_acc: 0.8866\n",
      "Epoch 103/250\n",
      "9199/9199 [==============================] - 0s 24us/step - loss: 0.2930 - acc: 0.9252 - val_loss: 0.3618 - val_acc: 0.8856\n",
      "Epoch 104/250\n",
      "9199/9199 [==============================] - 0s 23us/step - loss: 0.2916 - acc: 0.9250 - val_loss: 0.3605 - val_acc: 0.8876\n",
      "Epoch 105/250\n",
      "9199/9199 [==============================] - 0s 24us/step - loss: 0.2904 - acc: 0.9251 - val_loss: 0.3603 - val_acc: 0.8856\n",
      "Epoch 106/250\n",
      "9199/9199 [==============================] - 0s 24us/step - loss: 0.2891 - acc: 0.9256 - val_loss: 0.3587 - val_acc: 0.8856\n",
      "Epoch 107/250\n",
      "9199/9199 [==============================] - 0s 25us/step - loss: 0.2879 - acc: 0.9256 - val_loss: 0.3582 - val_acc: 0.8866\n",
      "Epoch 108/250\n",
      "9199/9199 [==============================] - 0s 23us/step - loss: 0.2866 - acc: 0.9262 - val_loss: 0.3577 - val_acc: 0.8876\n",
      "Epoch 109/250\n",
      "9199/9199 [==============================] - 0s 23us/step - loss: 0.2853 - acc: 0.9256 - val_loss: 0.3570 - val_acc: 0.8886\n",
      "Epoch 110/250\n",
      "9199/9199 [==============================] - 0s 24us/step - loss: 0.2842 - acc: 0.9262 - val_loss: 0.3573 - val_acc: 0.8866\n",
      "Epoch 111/250\n",
      "9199/9199 [==============================] - 0s 24us/step - loss: 0.2829 - acc: 0.9265 - val_loss: 0.3563 - val_acc: 0.8856\n",
      "Epoch 112/250\n",
      "9199/9199 [==============================] - 0s 23us/step - loss: 0.2818 - acc: 0.9261 - val_loss: 0.3557 - val_acc: 0.8856\n",
      "Epoch 113/250\n",
      "9199/9199 [==============================] - 0s 24us/step - loss: 0.2806 - acc: 0.9262 - val_loss: 0.3549 - val_acc: 0.8876\n",
      "Epoch 114/250\n",
      "9199/9199 [==============================] - 0s 23us/step - loss: 0.2794 - acc: 0.9274 - val_loss: 0.3544 - val_acc: 0.8856\n",
      "Epoch 115/250\n",
      "9199/9199 [==============================] - 0s 23us/step - loss: 0.2783 - acc: 0.9268 - val_loss: 0.3543 - val_acc: 0.8866\n",
      "Epoch 116/250\n",
      "9199/9199 [==============================] - 0s 23us/step - loss: 0.2773 - acc: 0.9271 - val_loss: 0.3533 - val_acc: 0.8876\n",
      "Epoch 117/250\n",
      "9199/9199 [==============================] - 0s 23us/step - loss: 0.2760 - acc: 0.9280 - val_loss: 0.3523 - val_acc: 0.8866\n",
      "Epoch 118/250\n",
      "9199/9199 [==============================] - 0s 23us/step - loss: 0.2750 - acc: 0.9275 - val_loss: 0.3519 - val_acc: 0.8866\n",
      "Epoch 119/250\n",
      "9199/9199 [==============================] - 0s 22us/step - loss: 0.2738 - acc: 0.9281 - val_loss: 0.3513 - val_acc: 0.8876\n"
     ]
    },
    {
     "name": "stdout",
     "output_type": "stream",
     "text": [
      "Epoch 120/250\n",
      "9199/9199 [==============================] - 0s 23us/step - loss: 0.2729 - acc: 0.9280 - val_loss: 0.3502 - val_acc: 0.8886\n",
      "Epoch 121/250\n",
      "9199/9199 [==============================] - 0s 24us/step - loss: 0.2718 - acc: 0.9288 - val_loss: 0.3495 - val_acc: 0.8886\n",
      "Epoch 122/250\n",
      "9199/9199 [==============================] - 0s 23us/step - loss: 0.2706 - acc: 0.9283 - val_loss: 0.3502 - val_acc: 0.8895\n",
      "Epoch 123/250\n",
      "9199/9199 [==============================] - 0s 23us/step - loss: 0.2697 - acc: 0.9288 - val_loss: 0.3492 - val_acc: 0.8876\n",
      "Epoch 124/250\n",
      "9199/9199 [==============================] - 0s 24us/step - loss: 0.2687 - acc: 0.9293 - val_loss: 0.3485 - val_acc: 0.8895\n",
      "Epoch 125/250\n",
      "9199/9199 [==============================] - 0s 23us/step - loss: 0.2676 - acc: 0.9298 - val_loss: 0.3483 - val_acc: 0.8876\n",
      "Epoch 126/250\n",
      "9199/9199 [==============================] - 0s 23us/step - loss: 0.2667 - acc: 0.9289 - val_loss: 0.3471 - val_acc: 0.8847\n",
      "Epoch 127/250\n",
      "9199/9199 [==============================] - 0s 23us/step - loss: 0.2656 - acc: 0.9294 - val_loss: 0.3472 - val_acc: 0.8856\n",
      "Epoch 128/250\n",
      "9199/9199 [==============================] - 0s 24us/step - loss: 0.2647 - acc: 0.9301 - val_loss: 0.3468 - val_acc: 0.8866\n",
      "Epoch 129/250\n",
      "9199/9199 [==============================] - 0s 24us/step - loss: 0.2637 - acc: 0.9294 - val_loss: 0.3469 - val_acc: 0.8876\n",
      "Epoch 130/250\n",
      "9199/9199 [==============================] - 0s 25us/step - loss: 0.2627 - acc: 0.9305 - val_loss: 0.3465 - val_acc: 0.8866\n",
      "Epoch 131/250\n",
      "9199/9199 [==============================] - 0s 26us/step - loss: 0.2618 - acc: 0.9313 - val_loss: 0.3458 - val_acc: 0.8866\n",
      "Epoch 132/250\n",
      "9199/9199 [==============================] - 0s 24us/step - loss: 0.2609 - acc: 0.9304 - val_loss: 0.3446 - val_acc: 0.8895\n",
      "Epoch 133/250\n",
      "9199/9199 [==============================] - 0s 23us/step - loss: 0.2600 - acc: 0.9313 - val_loss: 0.3444 - val_acc: 0.8866\n",
      "Epoch 134/250\n",
      "9199/9199 [==============================] - 0s 24us/step - loss: 0.2590 - acc: 0.9310 - val_loss: 0.3437 - val_acc: 0.8876\n",
      "Epoch 135/250\n",
      "9199/9199 [==============================] - 0s 24us/step - loss: 0.2581 - acc: 0.9309 - val_loss: 0.3436 - val_acc: 0.8876\n",
      "Epoch 136/250\n",
      "9199/9199 [==============================] - 0s 24us/step - loss: 0.2572 - acc: 0.9317 - val_loss: 0.3435 - val_acc: 0.8876\n",
      "Epoch 137/250\n",
      "9199/9199 [==============================] - 0s 23us/step - loss: 0.2563 - acc: 0.9314 - val_loss: 0.3436 - val_acc: 0.8866\n",
      "Epoch 138/250\n",
      "9199/9199 [==============================] - 0s 23us/step - loss: 0.2554 - acc: 0.9317 - val_loss: 0.3430 - val_acc: 0.8886\n",
      "Epoch 139/250\n",
      "9199/9199 [==============================] - 0s 23us/step - loss: 0.2545 - acc: 0.9324 - val_loss: 0.3423 - val_acc: 0.8886\n",
      "Epoch 140/250\n",
      "9199/9199 [==============================] - 0s 23us/step - loss: 0.2537 - acc: 0.9326 - val_loss: 0.3425 - val_acc: 0.8866\n",
      "Epoch 141/250\n",
      "9199/9199 [==============================] - 0s 23us/step - loss: 0.2528 - acc: 0.9314 - val_loss: 0.3405 - val_acc: 0.8866\n",
      "Epoch 142/250\n",
      "9199/9199 [==============================] - 0s 24us/step - loss: 0.2519 - acc: 0.9337 - val_loss: 0.3406 - val_acc: 0.8895\n",
      "Epoch 143/250\n",
      "9199/9199 [==============================] - 0s 23us/step - loss: 0.2511 - acc: 0.9334 - val_loss: 0.3406 - val_acc: 0.8886\n",
      "Epoch 144/250\n",
      "9199/9199 [==============================] - 0s 23us/step - loss: 0.2502 - acc: 0.9328 - val_loss: 0.3397 - val_acc: 0.8876\n",
      "Epoch 145/250\n",
      "9199/9199 [==============================] - 0s 24us/step - loss: 0.2495 - acc: 0.9334 - val_loss: 0.3396 - val_acc: 0.8886\n",
      "Epoch 146/250\n",
      "9199/9199 [==============================] - 0s 24us/step - loss: 0.2486 - acc: 0.9336 - val_loss: 0.3392 - val_acc: 0.8886\n",
      "Epoch 147/250\n",
      "9199/9199 [==============================] - 0s 23us/step - loss: 0.2478 - acc: 0.9337 - val_loss: 0.3388 - val_acc: 0.8876\n",
      "Epoch 148/250\n",
      "9199/9199 [==============================] - 0s 23us/step - loss: 0.2470 - acc: 0.9330 - val_loss: 0.3387 - val_acc: 0.8886\n",
      "Epoch 149/250\n",
      "9199/9199 [==============================] - 0s 23us/step - loss: 0.2462 - acc: 0.9347 - val_loss: 0.3383 - val_acc: 0.8876\n",
      "Epoch 150/250\n",
      "9199/9199 [==============================] - 0s 23us/step - loss: 0.2454 - acc: 0.9335 - val_loss: 0.3382 - val_acc: 0.8895\n",
      "Epoch 151/250\n",
      "9199/9199 [==============================] - 0s 24us/step - loss: 0.2446 - acc: 0.9340 - val_loss: 0.3378 - val_acc: 0.8886\n",
      "Epoch 152/250\n",
      "9199/9199 [==============================] - 0s 23us/step - loss: 0.2439 - acc: 0.9344 - val_loss: 0.3377 - val_acc: 0.8895\n",
      "Epoch 153/250\n",
      "9199/9199 [==============================] - 0s 24us/step - loss: 0.2430 - acc: 0.9341 - val_loss: 0.3372 - val_acc: 0.8886\n",
      "Epoch 154/250\n",
      "9199/9199 [==============================] - 0s 23us/step - loss: 0.2423 - acc: 0.9348 - val_loss: 0.3375 - val_acc: 0.8886\n",
      "Epoch 155/250\n",
      "9199/9199 [==============================] - 0s 23us/step - loss: 0.2415 - acc: 0.9344 - val_loss: 0.3365 - val_acc: 0.8905\n",
      "Epoch 156/250\n",
      "9199/9199 [==============================] - 0s 23us/step - loss: 0.2409 - acc: 0.9359 - val_loss: 0.3364 - val_acc: 0.8886\n",
      "Epoch 157/250\n",
      "9199/9199 [==============================] - 0s 23us/step - loss: 0.2400 - acc: 0.9350 - val_loss: 0.3365 - val_acc: 0.8876\n",
      "Epoch 158/250\n",
      "9199/9199 [==============================] - 0s 23us/step - loss: 0.2393 - acc: 0.9360 - val_loss: 0.3365 - val_acc: 0.8886\n",
      "Epoch 159/250\n",
      "9199/9199 [==============================] - 0s 22us/step - loss: 0.2386 - acc: 0.9355 - val_loss: 0.3360 - val_acc: 0.8886\n",
      "Epoch 160/250\n",
      "9199/9199 [==============================] - 0s 23us/step - loss: 0.2378 - acc: 0.9355 - val_loss: 0.3365 - val_acc: 0.8895\n",
      "Epoch 161/250\n",
      "9199/9199 [==============================] - 0s 23us/step - loss: 0.2371 - acc: 0.9361 - val_loss: 0.3355 - val_acc: 0.8886\n",
      "Epoch 162/250\n",
      "9199/9199 [==============================] - 0s 23us/step - loss: 0.2364 - acc: 0.9363 - val_loss: 0.3351 - val_acc: 0.8886\n",
      "Epoch 163/250\n",
      "9199/9199 [==============================] - 0s 23us/step - loss: 0.2356 - acc: 0.9368 - val_loss: 0.3351 - val_acc: 0.8886\n",
      "Epoch 164/250\n",
      "9199/9199 [==============================] - 0s 23us/step - loss: 0.2349 - acc: 0.9364 - val_loss: 0.3349 - val_acc: 0.8886\n",
      "Epoch 165/250\n",
      "9199/9199 [==============================] - 0s 25us/step - loss: 0.2342 - acc: 0.9369 - val_loss: 0.3349 - val_acc: 0.8876\n",
      "Epoch 166/250\n",
      "9199/9199 [==============================] - 0s 24us/step - loss: 0.2335 - acc: 0.9371 - val_loss: 0.3351 - val_acc: 0.8895\n",
      "Epoch 167/250\n",
      "9199/9199 [==============================] - 0s 24us/step - loss: 0.2329 - acc: 0.9375 - val_loss: 0.3352 - val_acc: 0.8866\n",
      "Epoch 168/250\n",
      "9199/9199 [==============================] - 0s 24us/step - loss: 0.2321 - acc: 0.9380 - val_loss: 0.3345 - val_acc: 0.8895\n",
      "Epoch 169/250\n",
      "9199/9199 [==============================] - 0s 25us/step - loss: 0.2315 - acc: 0.9378 - val_loss: 0.3339 - val_acc: 0.8886\n",
      "Epoch 170/250\n",
      "9199/9199 [==============================] - 0s 23us/step - loss: 0.2308 - acc: 0.9388 - val_loss: 0.3334 - val_acc: 0.8876\n",
      "Epoch 171/250\n",
      "9199/9199 [==============================] - 0s 23us/step - loss: 0.2301 - acc: 0.9381 - val_loss: 0.3331 - val_acc: 0.8886\n",
      "Epoch 172/250\n",
      "9199/9199 [==============================] - 0s 24us/step - loss: 0.2295 - acc: 0.9390 - val_loss: 0.3324 - val_acc: 0.8895\n",
      "Epoch 173/250\n",
      "9199/9199 [==============================] - 0s 23us/step - loss: 0.2287 - acc: 0.9385 - val_loss: 0.3325 - val_acc: 0.8895\n",
      "Epoch 174/250\n",
      "9199/9199 [==============================] - 0s 25us/step - loss: 0.2281 - acc: 0.9385 - val_loss: 0.3312 - val_acc: 0.8905\n",
      "Epoch 175/250\n",
      "9199/9199 [==============================] - 0s 24us/step - loss: 0.2274 - acc: 0.9394 - val_loss: 0.3312 - val_acc: 0.8905\n",
      "Epoch 176/250\n",
      "9199/9199 [==============================] - 0s 23us/step - loss: 0.2268 - acc: 0.9386 - val_loss: 0.3298 - val_acc: 0.8895\n",
      "Epoch 177/250\n",
      "9199/9199 [==============================] - 0s 23us/step - loss: 0.2262 - acc: 0.9389 - val_loss: 0.3311 - val_acc: 0.8895\n",
      "Epoch 178/250\n",
      "9199/9199 [==============================] - 0s 23us/step - loss: 0.2255 - acc: 0.9396 - val_loss: 0.3310 - val_acc: 0.8886\n",
      "Epoch 179/250\n"
     ]
    },
    {
     "name": "stdout",
     "output_type": "stream",
     "text": [
      "9199/9199 [==============================] - 0s 24us/step - loss: 0.2249 - acc: 0.9398 - val_loss: 0.3318 - val_acc: 0.8876\n",
      "Epoch 180/250\n",
      "9199/9199 [==============================] - 0s 23us/step - loss: 0.2243 - acc: 0.9398 - val_loss: 0.3303 - val_acc: 0.8886\n",
      "Epoch 181/250\n",
      "9199/9199 [==============================] - 0s 23us/step - loss: 0.2235 - acc: 0.9398 - val_loss: 0.3308 - val_acc: 0.8886\n",
      "Epoch 182/250\n",
      "9199/9199 [==============================] - 0s 24us/step - loss: 0.2230 - acc: 0.9402 - val_loss: 0.3307 - val_acc: 0.8886\n",
      "Epoch 183/250\n",
      "9199/9199 [==============================] - 0s 23us/step - loss: 0.2223 - acc: 0.9400 - val_loss: 0.3299 - val_acc: 0.8876\n",
      "Epoch 184/250\n",
      "9199/9199 [==============================] - 0s 23us/step - loss: 0.2217 - acc: 0.9399 - val_loss: 0.3299 - val_acc: 0.8905\n",
      "Epoch 185/250\n",
      "9199/9199 [==============================] - 0s 23us/step - loss: 0.2212 - acc: 0.9404 - val_loss: 0.3298 - val_acc: 0.8895\n",
      "Epoch 186/250\n",
      "9199/9199 [==============================] - 0s 23us/step - loss: 0.2204 - acc: 0.9410 - val_loss: 0.3295 - val_acc: 0.8886\n",
      "Epoch 187/250\n",
      "9199/9199 [==============================] - 0s 23us/step - loss: 0.2199 - acc: 0.9409 - val_loss: 0.3299 - val_acc: 0.8876\n",
      "Epoch 188/250\n",
      "9199/9199 [==============================] - 0s 23us/step - loss: 0.2193 - acc: 0.9398 - val_loss: 0.3299 - val_acc: 0.8886\n",
      "Epoch 189/250\n",
      "9199/9199 [==============================] - 0s 23us/step - loss: 0.2187 - acc: 0.9412 - val_loss: 0.3293 - val_acc: 0.8886\n",
      "Epoch 190/250\n",
      "9199/9199 [==============================] - 0s 23us/step - loss: 0.2181 - acc: 0.9410 - val_loss: 0.3295 - val_acc: 0.8895\n",
      "Epoch 191/250\n",
      "9199/9199 [==============================] - 0s 23us/step - loss: 0.2175 - acc: 0.9417 - val_loss: 0.3296 - val_acc: 0.8886\n",
      "Epoch 192/250\n",
      "9199/9199 [==============================] - 0s 23us/step - loss: 0.2169 - acc: 0.9412 - val_loss: 0.3288 - val_acc: 0.8886\n",
      "Epoch 193/250\n",
      "9199/9199 [==============================] - 0s 24us/step - loss: 0.2163 - acc: 0.9414 - val_loss: 0.3290 - val_acc: 0.8886\n",
      "Epoch 194/250\n",
      "9199/9199 [==============================] - 0s 23us/step - loss: 0.2157 - acc: 0.9422 - val_loss: 0.3297 - val_acc: 0.8895\n",
      "Epoch 195/250\n",
      "9199/9199 [==============================] - 0s 24us/step - loss: 0.2152 - acc: 0.9416 - val_loss: 0.3288 - val_acc: 0.8905\n",
      "Epoch 196/250\n",
      "9199/9199 [==============================] - 0s 24us/step - loss: 0.2147 - acc: 0.9418 - val_loss: 0.3281 - val_acc: 0.8905\n",
      "Epoch 197/250\n",
      "9199/9199 [==============================] - 0s 23us/step - loss: 0.2141 - acc: 0.9422 - val_loss: 0.3281 - val_acc: 0.8905\n",
      "Epoch 198/250\n",
      "9199/9199 [==============================] - 0s 23us/step - loss: 0.2135 - acc: 0.9427 - val_loss: 0.3275 - val_acc: 0.8905\n",
      "Epoch 199/250\n",
      "9199/9199 [==============================] - 0s 23us/step - loss: 0.2129 - acc: 0.9425 - val_loss: 0.3278 - val_acc: 0.8886\n",
      "Epoch 200/250\n",
      "9199/9199 [==============================] - 0s 23us/step - loss: 0.2123 - acc: 0.9426 - val_loss: 0.3279 - val_acc: 0.8915\n",
      "Epoch 201/250\n",
      "9199/9199 [==============================] - 0s 24us/step - loss: 0.2118 - acc: 0.9429 - val_loss: 0.3279 - val_acc: 0.8905\n",
      "Epoch 202/250\n",
      "9199/9199 [==============================] - 0s 24us/step - loss: 0.2112 - acc: 0.9426 - val_loss: 0.3271 - val_acc: 0.8905\n",
      "Epoch 203/250\n",
      "9199/9199 [==============================] - 0s 24us/step - loss: 0.2106 - acc: 0.9436 - val_loss: 0.3269 - val_acc: 0.8915\n",
      "Epoch 204/250\n",
      "9199/9199 [==============================] - 0s 24us/step - loss: 0.2101 - acc: 0.9436 - val_loss: 0.3263 - val_acc: 0.8915\n",
      "Epoch 205/250\n",
      "9199/9199 [==============================] - 0s 23us/step - loss: 0.2096 - acc: 0.9427 - val_loss: 0.3256 - val_acc: 0.8905\n",
      "Epoch 206/250\n",
      "9199/9199 [==============================] - 0s 23us/step - loss: 0.2090 - acc: 0.9428 - val_loss: 0.3260 - val_acc: 0.8935\n",
      "Epoch 207/250\n",
      "9199/9199 [==============================] - 0s 23us/step - loss: 0.2085 - acc: 0.9429 - val_loss: 0.3271 - val_acc: 0.8944\n",
      "Epoch 208/250\n",
      "9199/9199 [==============================] - 0s 23us/step - loss: 0.2080 - acc: 0.9441 - val_loss: 0.3262 - val_acc: 0.8915\n",
      "Epoch 209/250\n",
      "9199/9199 [==============================] - 0s 24us/step - loss: 0.2075 - acc: 0.9452 - val_loss: 0.3261 - val_acc: 0.8915\n",
      "Epoch 210/250\n",
      "9199/9199 [==============================] - 0s 23us/step - loss: 0.2069 - acc: 0.9438 - val_loss: 0.3251 - val_acc: 0.8915\n",
      "Epoch 211/250\n",
      "9199/9199 [==============================] - 0s 23us/step - loss: 0.2064 - acc: 0.9445 - val_loss: 0.3251 - val_acc: 0.8915\n",
      "Epoch 212/250\n",
      "9199/9199 [==============================] - 0s 23us/step - loss: 0.2058 - acc: 0.9442 - val_loss: 0.3252 - val_acc: 0.8935\n",
      "Epoch 213/250\n",
      "9199/9199 [==============================] - 0s 23us/step - loss: 0.2053 - acc: 0.9438 - val_loss: 0.3258 - val_acc: 0.8915\n",
      "Epoch 214/250\n",
      "9199/9199 [==============================] - 0s 24us/step - loss: 0.2048 - acc: 0.9446 - val_loss: 0.3268 - val_acc: 0.8915\n",
      "Epoch 215/250\n",
      "9199/9199 [==============================] - 0s 24us/step - loss: 0.2043 - acc: 0.9441 - val_loss: 0.3255 - val_acc: 0.8915\n",
      "Epoch 216/250\n",
      "9199/9199 [==============================] - 0s 24us/step - loss: 0.2038 - acc: 0.9452 - val_loss: 0.3255 - val_acc: 0.8905\n",
      "Epoch 217/250\n",
      "9199/9199 [==============================] - 0s 23us/step - loss: 0.2032 - acc: 0.9452 - val_loss: 0.3260 - val_acc: 0.8905\n",
      "Epoch 218/250\n",
      "9199/9199 [==============================] - 0s 23us/step - loss: 0.2027 - acc: 0.9447 - val_loss: 0.3251 - val_acc: 0.8915\n",
      "Epoch 219/250\n",
      "9199/9199 [==============================] - 0s 24us/step - loss: 0.2022 - acc: 0.9456 - val_loss: 0.3250 - val_acc: 0.8915\n",
      "Epoch 220/250\n",
      "9199/9199 [==============================] - 0s 25us/step - loss: 0.2017 - acc: 0.9464 - val_loss: 0.3244 - val_acc: 0.8925\n",
      "Epoch 221/250\n",
      "9199/9199 [==============================] - 0s 26us/step - loss: 0.2012 - acc: 0.9464 - val_loss: 0.3254 - val_acc: 0.8895\n",
      "Epoch 222/250\n",
      "9199/9199 [==============================] - 0s 25us/step - loss: 0.2007 - acc: 0.9449 - val_loss: 0.3238 - val_acc: 0.8944\n",
      "Epoch 223/250\n",
      "9199/9199 [==============================] - 0s 24us/step - loss: 0.2002 - acc: 0.9450 - val_loss: 0.3240 - val_acc: 0.8935\n",
      "Epoch 224/250\n",
      "9199/9199 [==============================] - 0s 24us/step - loss: 0.1998 - acc: 0.9464 - val_loss: 0.3243 - val_acc: 0.8925\n",
      "Epoch 225/250\n",
      "9199/9199 [==============================] - 0s 23us/step - loss: 0.1992 - acc: 0.9467 - val_loss: 0.3243 - val_acc: 0.8905\n",
      "Epoch 226/250\n",
      "9199/9199 [==============================] - 0s 23us/step - loss: 0.1987 - acc: 0.9466 - val_loss: 0.3246 - val_acc: 0.8925\n",
      "Epoch 227/250\n",
      "9199/9199 [==============================] - 0s 24us/step - loss: 0.1982 - acc: 0.9466 - val_loss: 0.3242 - val_acc: 0.8935\n",
      "Epoch 228/250\n",
      "9199/9199 [==============================] - 0s 24us/step - loss: 0.1978 - acc: 0.9464 - val_loss: 0.3240 - val_acc: 0.8925\n",
      "Epoch 229/250\n",
      "9199/9199 [==============================] - 0s 24us/step - loss: 0.1974 - acc: 0.9463 - val_loss: 0.3244 - val_acc: 0.8925\n",
      "Epoch 230/250\n",
      "9199/9199 [==============================] - 0s 23us/step - loss: 0.1968 - acc: 0.9472 - val_loss: 0.3244 - val_acc: 0.8925\n",
      "Epoch 231/250\n",
      "9199/9199 [==============================] - 0s 23us/step - loss: 0.1963 - acc: 0.9475 - val_loss: 0.3243 - val_acc: 0.8925\n",
      "Epoch 232/250\n",
      "9199/9199 [==============================] - 0s 24us/step - loss: 0.1958 - acc: 0.9483 - val_loss: 0.3241 - val_acc: 0.8925\n",
      "Epoch 233/250\n",
      "9199/9199 [==============================] - 0s 24us/step - loss: 0.1954 - acc: 0.9473 - val_loss: 0.3237 - val_acc: 0.8944\n",
      "Epoch 234/250\n",
      "9199/9199 [==============================] - 0s 24us/step - loss: 0.1949 - acc: 0.9477 - val_loss: 0.3241 - val_acc: 0.8944\n",
      "Epoch 235/250\n",
      "9199/9199 [==============================] - 0s 23us/step - loss: 0.1944 - acc: 0.9475 - val_loss: 0.3242 - val_acc: 0.8935\n",
      "Epoch 236/250\n",
      "9199/9199 [==============================] - 0s 24us/step - loss: 0.1940 - acc: 0.9477 - val_loss: 0.3241 - val_acc: 0.8925\n",
      "Epoch 237/250\n",
      "9199/9199 [==============================] - 0s 23us/step - loss: 0.1935 - acc: 0.9479 - val_loss: 0.3241 - val_acc: 0.8944\n",
      "Epoch 238/250\n"
     ]
    },
    {
     "name": "stdout",
     "output_type": "stream",
     "text": [
      "9199/9199 [==============================] - 0s 23us/step - loss: 0.1931 - acc: 0.9483 - val_loss: 0.3246 - val_acc: 0.8905\n",
      "Epoch 239/250\n",
      "9199/9199 [==============================] - 0s 23us/step - loss: 0.1926 - acc: 0.9479 - val_loss: 0.3238 - val_acc: 0.8925\n",
      "Epoch 240/250\n",
      "9199/9199 [==============================] - 0s 24us/step - loss: 0.1921 - acc: 0.9486 - val_loss: 0.3245 - val_acc: 0.8915\n",
      "Epoch 241/250\n",
      "9199/9199 [==============================] - 0s 24us/step - loss: 0.1917 - acc: 0.9492 - val_loss: 0.3233 - val_acc: 0.8915\n",
      "Epoch 242/250\n",
      "9199/9199 [==============================] - 0s 23us/step - loss: 0.1912 - acc: 0.9501 - val_loss: 0.3234 - val_acc: 0.8915\n",
      "Epoch 243/250\n",
      "9199/9199 [==============================] - 0s 24us/step - loss: 0.1908 - acc: 0.9490 - val_loss: 0.3230 - val_acc: 0.8925\n",
      "Epoch 244/250\n",
      "9199/9199 [==============================] - 0s 23us/step - loss: 0.1903 - acc: 0.9490 - val_loss: 0.3234 - val_acc: 0.8915\n",
      "Epoch 245/250\n",
      "9199/9199 [==============================] - 0s 22us/step - loss: 0.1899 - acc: 0.9500 - val_loss: 0.3222 - val_acc: 0.8925\n",
      "Epoch 246/250\n",
      "9199/9199 [==============================] - 0s 23us/step - loss: 0.1895 - acc: 0.9499 - val_loss: 0.3225 - val_acc: 0.8935\n",
      "Epoch 247/250\n",
      "9199/9199 [==============================] - 0s 23us/step - loss: 0.1890 - acc: 0.9499 - val_loss: 0.3226 - val_acc: 0.8915\n",
      "Epoch 248/250\n",
      "9199/9199 [==============================] - 0s 23us/step - loss: 0.1886 - acc: 0.9500 - val_loss: 0.3229 - val_acc: 0.8944\n",
      "Epoch 249/250\n",
      "9199/9199 [==============================] - 0s 23us/step - loss: 0.1880 - acc: 0.9502 - val_loss: 0.3221 - val_acc: 0.8925\n",
      "Epoch 250/250\n",
      "9199/9199 [==============================] - 0s 23us/step - loss: 0.1877 - acc: 0.9499 - val_loss: 0.3223 - val_acc: 0.8935\n"
     ]
    },
    {
     "data": {
      "text/plain": [
       "<keras.callbacks.History at 0x7f34207c12e8>"
      ]
     },
     "execution_count": 24,
     "metadata": {},
     "output_type": "execute_result"
    }
   ],
   "source": [
    "model.fit(featuresx,y,epochs=250,validation_data=(features_val,y_val1),batch_size=150,callbacks=[callback])"
   ]
  },
  {
   "cell_type": "code",
   "execution_count": null,
   "metadata": {
    "collapsed": true
   },
   "outputs": [],
   "source": [
    "model.save_weights('xceptiono.h5')\n"
   ]
  },
  {
   "cell_type": "code",
   "execution_count": null,
   "metadata": {},
   "outputs": [],
   "source": [
    "model.fit(featuresxf,y,epochs=100,validation_data=(features_valf,y_val1),batch_size=150)"
   ]
  },
  {
   "cell_type": "code",
   "execution_count": null,
   "metadata": {
    "collapsed": true
   },
   "outputs": [],
   "source": [
    "model.save_weights('xceptionf.h5')\n"
   ]
  },
  {
   "cell_type": "code",
   "execution_count": null,
   "metadata": {
    "collapsed": true
   },
   "outputs": [],
   "source": [
    "test=\"/home/snehao/dog_breed\""
   ]
  },
  {
   "cell_type": "code",
   "execution_count": null,
   "metadata": {
    "collapsed": true
   },
   "outputs": [],
   "source": [
    "files=!ls {\"/home/snehao/dog_breed/Image_Classification/\"}test\n",
    "i=0\n",
    "x_predict=[]\n",
    "for i in range(len(files)):\n",
    "    img1=image.load_img(f'{\"/home/snehao/dog_breed/Image_Classification/\"}test/{files[i]}',target_size=(300,300,3))\n",
    "    arr=image.img_to_array(img1)\n",
    "    x_predict.append(arr/255)\n",
    "x_predict=np.array(x_predict)"
   ]
  },
  {
   "cell_type": "code",
   "execution_count": null,
   "metadata": {
    "collapsed": true
   },
   "outputs": [],
   "source": [
    "features_test=base_model.predict(x_predict)"
   ]
  },
  {
   "cell_type": "code",
   "execution_count": null,
   "metadata": {},
   "outputs": [],
   "source": [
    "features_testf=base_model.predict(np.flip(x_predict,axis=2))"
   ]
  },
  {
   "cell_type": "code",
   "execution_count": null,
   "metadata": {},
   "outputs": [],
   "source": [
    "\n",
    "predics=model.predict(features_test)\n",
    "predicsf=model.predict(features_testf)\n",
    "final=(predics+predicsf)/2\n",
    "np.savetxt('xception_resultsf.csv',predics,fmt='%f',delimiter=',')\n",
    "\n"
   ]
  },
  {
   "cell_type": "code",
   "execution_count": null,
   "metadata": {
    "collapsed": true
   },
   "outputs": [],
   "source": []
  }
 ],
 "metadata": {
  "kernelspec": {
   "display_name": "Python 3",
   "language": "python",
   "name": "python3"
  },
  "language_info": {
   "codemirror_mode": {
    "name": "ipython",
    "version": 3
   },
   "file_extension": ".py",
   "mimetype": "text/x-python",
   "name": "python",
   "nbconvert_exporter": "python",
   "pygments_lexer": "ipython3",
   "version": "3.6.3"
  }
 },
 "nbformat": 4,
 "nbformat_minor": 2
}
