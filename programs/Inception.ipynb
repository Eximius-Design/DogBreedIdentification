{
 "cells": [
  {
   "cell_type": "code",
   "execution_count": 1,
   "metadata": {},
   "outputs": [
    {
     "name": "stderr",
     "output_type": "stream",
     "text": [
      "Using TensorFlow backend.\n"
     ]
    }
   ],
   "source": [
    "import pandas as pd\n",
    "#from keras.preprocessing import image\n",
    "from matplotlib import pyplot\n",
    "from matplotlib.pyplot import imshow\n",
    "import split_data as sd\n",
    "import basic_model as n\n",
    "import numpy as np\n",
    "from sklearn.metrics import confusion_matrix\n",
    "#import Network as net\n",
    "import vectorised as v\n",
    "from random import randint\n",
    "import tensorflow as tf\n",
    "config = tf.ConfigProto()\n",
    "config.gpu_options.allow_growth = True\n",
    "session = tf.Session(config=config)\n",
    "from keras.backend.tensorflow_backend import set_session\n",
    "set_session(tf.Session(config=config))\n",
    "import keras\n",
    "from keras.preprocessing import image\n",
    "from keras.preprocessing.image import ImageDataGenerator\n",
    "config=tf.ConfigProto()\n",
    "config.gpu_options.allow_growth=True"
   ]
  },
  {
   "cell_type": "code",
   "execution_count": 2,
   "metadata": {},
   "outputs": [
    {
     "name": "stdout",
     "output_type": "stream",
     "text": [
      "                                 id             breed\n",
      "0  000bec180eb18c7604dcecc8fe0dba07       boston_bull\n",
      "1  001513dfcb2ffafc82cccf4d8bbaba97             dingo\n",
      "2  001cdf01b096e06d78e9e5112d419397          pekinese\n",
      "3  00214f311d5d2247d5dfe4fe24b2303d          bluetick\n",
      "4  0021f9ceb3235effd7fcde7f7538ed62  golden_retriever\n"
     ]
    }
   ],
   "source": [
    "data=pd.read_csv('/home/snehao/dog_breed/Image_Classification/labels.csv')\n",
    "print(data.head())\n",
    "targets_series = pd.Series(data['breed'])\n",
    "one_hot = pd.get_dummies(targets_series, sparse = True)\n",
    "one_hot_labels = np.asarray(one_hot)"
   ]
  },
  {
   "cell_type": "code",
   "execution_count": 3,
   "metadata": {},
   "outputs": [
    {
     "name": "stdout",
     "output_type": "stream",
     "text": [
      "(9199, 2)\n",
      "(9199, 120)\n",
      "(1023, 2)\n",
      "(1023, 120)\n"
     ]
    }
   ],
   "source": [
    "x_train,x_test,y_train,y_test=sd.split_data(data,one_hot_labels,.10)\n",
    "\n",
    "print(x_train.shape)\n",
    "print(y_train.shape)\n",
    "print(x_test.shape)\n",
    "print(y_test.shape)"
   ]
  },
  {
   "cell_type": "code",
   "execution_count": 4,
   "metadata": {},
   "outputs": [
    {
     "name": "stdout",
     "output_type": "stream",
     "text": [
      "x_shape (9199, 300, 300, 3)\n",
      "y_shape (9199, 120)\n"
     ]
    }
   ],
   "source": [
    "x=[]\n",
    "y=[]\n",
    "#for i in range(100):\n",
    "for i in range(x_train.shape[0]):\n",
    "    img = image.load_img('/home/snehao/dog_breed/train/'+x_train.iloc[i][0]+'.jpg',target_size=(300,300,3),interpolation='bicubic')\n",
    "    arr=image.img_to_array(img)\n",
    "    x.append(arr/255)\n",
    "    y.append(y_train[i])\n",
    "x=np.array(x)\n",
    "y=np.array(y)\n",
    "print('x_shape',x.shape)\n",
    "print('y_shape',y.shape)"
   ]
  },
  {
   "cell_type": "code",
   "execution_count": 5,
   "metadata": {},
   "outputs": [
    {
     "name": "stdout",
     "output_type": "stream",
     "text": [
      "y_shape (1023, 120)\n",
      "x_shape (1023, 300, 300, 3)\n"
     ]
    }
   ],
   "source": [
    "import cv2\n",
    "x_val_images=[]\n",
    "y_val1=[]\n",
    "#for i in range(100):\n",
    "for i in range(x_test.shape[0]): \n",
    "    \n",
    "    img = image.load_img('/home/snehao/dog_breed/train/'+x_test.iloc[i][0]+'.jpg',target_size=(300,300,3),interpolation='bicubic')\n",
    "    arr=image.img_to_array(img)\n",
    "    x_val_images.append(arr/255)\n",
    "    y_val1.append(y_test[i])\n",
    "x_val_images=np.array(x_val_images)\n",
    "y_val1=np.array(y_val1)\n",
    "print('y_shape',y_val1.shape)\n",
    "print('x_shape',x_val_images.shape)\n"
   ]
  },
  {
   "cell_type": "code",
   "execution_count": 18,
   "metadata": {
    "collapsed": true
   },
   "outputs": [],
   "source": [
    "from keras.layers import Concatenate,Add,BatchNormalization,Input,Dropout,Dense,Activation,Flatten,MaxPooling2D,Conv2D,ZeroPadding2D\n",
    "from keras.models import Model,Sequential\n",
    "from keras.applications.inception_v3 import InceptionV3\n",
    "from keras.applications.xception import Xception\n",
    "#base_model = Xception(input_shape=(300,300,3),weights='imagenet', include_top=False,pooling='avg')\n",
    "base_model = InceptionV3(input_shape=(300,300,3),weights='imagenet', include_top=False,pooling='avg')"
   ]
  },
  {
   "cell_type": "code",
   "execution_count": null,
   "metadata": {
    "collapsed": true
   },
   "outputs": [],
   "source": [
    "'''import numpy as np\n",
    "xtrain=np.load('xceptiontrainx.npy')\n",
    "ytrain=np.load('xceptiontrainy.npy')'''"
   ]
  },
  {
   "cell_type": "code",
   "execution_count": null,
   "metadata": {
    "collapsed": true
   },
   "outputs": [],
   "source": [
    "'''xval=np.load('xceptionvalx.npy')\n",
    "yval=np.load('xceptionvaly.npy')'''"
   ]
  },
  {
   "cell_type": "code",
   "execution_count": 19,
   "metadata": {
    "collapsed": true
   },
   "outputs": [],
   "source": [
    "callback=keras.callbacks.TensorBoard(log_dir='inception_graph', histogram_freq=0,  \n",
    "          write_graph=True, write_images=True)"
   ]
  },
  {
   "cell_type": "code",
   "execution_count": 22,
   "metadata": {
    "collapsed": true
   },
   "outputs": [],
   "source": [
    "callback1=keras.callbacks.ModelCheckpoint('inceptionpoint31.h5', monitor='val_loss', verbose=0, save_best_only=True, save_weights_only=False, mode='auto', period=1)"
   ]
  },
  {
   "cell_type": "code",
   "execution_count": 7,
   "metadata": {
    "collapsed": true
   },
   "outputs": [],
   "source": [
    "featuresx=base_model.predict(x)"
   ]
  },
  {
   "cell_type": "code",
   "execution_count": 8,
   "metadata": {
    "collapsed": true
   },
   "outputs": [],
   "source": [
    "features_val=base_model.predict(x_val_images)\n"
   ]
  },
  {
   "cell_type": "code",
   "execution_count": 9,
   "metadata": {},
   "outputs": [
    {
     "data": {
      "text/plain": [
       "(9199, 2048)"
      ]
     },
     "execution_count": 9,
     "metadata": {},
     "output_type": "execute_result"
    }
   ],
   "source": [
    "featuresx.shape"
   ]
  },
  {
   "cell_type": "code",
   "execution_count": 23,
   "metadata": {},
   "outputs": [
    {
     "name": "stdout",
     "output_type": "stream",
     "text": [
      "_________________________________________________________________\n",
      "Layer (type)                 Output Shape              Param #   \n",
      "=================================================================\n",
      "input_5 (InputLayer)         (None, 2048)              0         \n",
      "_________________________________________________________________\n",
      "dense_5 (Dense)              (None, 1024)              2098176   \n",
      "_________________________________________________________________\n",
      "dense_6 (Dense)              (None, 120)               123000    \n",
      "=================================================================\n",
      "Total params: 2,221,176\n",
      "Trainable params: 2,221,176\n",
      "Non-trainable params: 0\n",
      "_________________________________________________________________\n",
      "None\n"
     ]
    }
   ],
   "source": [
    "from keras import optimizers\n",
    "input_shape=Input((2048,)) \n",
    "x1=Dense(1024, activation='relu')(input_shape) \n",
    "#x1=Dropout(0.4)(x1) \n",
    "#x1=Dense(512, activation='relu')(x1) \n",
    "#x1=Dropout(0.2)(x1) \n",
    "x1=Dense(120, activation='softmax')(x1) \n",
    "model=Model(inputs=input_shape,outputs=x1) \n",
    "print(model.summary()) \n",
    "\n",
    "\n"
   ]
  },
  {
   "cell_type": "code",
   "execution_count": 24,
   "metadata": {
    "collapsed": true
   },
   "outputs": [],
   "source": [
    "sgd=optimizers.SGD( momentum=0.0, decay=0.0, nesterov=False) \n",
    "model.compile(loss='categorical_crossentropy', optimizer=sgd, metrics=['accuracy'])"
   ]
  },
  {
   "cell_type": "code",
   "execution_count": 25,
   "metadata": {},
   "outputs": [
    {
     "name": "stdout",
     "output_type": "stream",
     "text": [
      "Train on 9199 samples, validate on 1023 samples\n",
      "Epoch 1/250\n",
      "9199/9199 [==============================] - 1s 115us/step - loss: 4.6564 - acc: 0.0535 - val_loss: 4.4128 - val_acc: 0.1574\n",
      "Epoch 2/250\n",
      "9199/9199 [==============================] - 1s 70us/step - loss: 4.1979 - acc: 0.3084 - val_loss: 3.9715 - val_acc: 0.4692\n",
      "Epoch 3/250\n",
      "9199/9199 [==============================] - 1s 72us/step - loss: 3.7276 - acc: 0.5572 - val_loss: 3.4921 - val_acc: 0.6403\n",
      "Epoch 4/250\n",
      "9199/9199 [==============================] - 1s 90us/step - loss: 3.2263 - acc: 0.6919 - val_loss: 2.9823 - val_acc: 0.7195\n",
      "Epoch 5/250\n",
      "9199/9199 [==============================] - 1s 89us/step - loss: 2.7165 - acc: 0.7650 - val_loss: 2.4801 - val_acc: 0.7693\n",
      "Epoch 6/250\n",
      "9199/9199 [==============================] - 1s 126us/step - loss: 2.2368 - acc: 0.8065 - val_loss: 2.0271 - val_acc: 0.8152\n",
      "Epoch 7/250\n",
      "9199/9199 [==============================] - 1s 130us/step - loss: 1.8199 - acc: 0.8439 - val_loss: 1.6525 - val_acc: 0.8407\n",
      "Epoch 8/250\n",
      "9199/9199 [==============================] - 1s 76us/step - loss: 1.4820 - acc: 0.8604 - val_loss: 1.3587 - val_acc: 0.8495\n",
      "Epoch 9/250\n",
      "9199/9199 [==============================] - 1s 84us/step - loss: 1.2234 - acc: 0.8710 - val_loss: 1.1385 - val_acc: 0.8622\n",
      "Epoch 10/250\n",
      "9199/9199 [==============================] - 1s 61us/step - loss: 1.0308 - acc: 0.8836 - val_loss: 0.9731 - val_acc: 0.8690\n",
      "Epoch 11/250\n",
      "9199/9199 [==============================] - 1s 63us/step - loss: 0.8886 - acc: 0.8872 - val_loss: 0.8564 - val_acc: 0.8739\n",
      "Epoch 12/250\n",
      "9199/9199 [==============================] - 1s 91us/step - loss: 0.7829 - acc: 0.8907 - val_loss: 0.7635 - val_acc: 0.8788\n",
      "Epoch 13/250\n",
      "9199/9199 [==============================] - 1s 78us/step - loss: 0.7029 - acc: 0.8953 - val_loss: 0.6947 - val_acc: 0.8837\n",
      "Epoch 14/250\n",
      "9199/9199 [==============================] - 0s 42us/step - loss: 0.6418 - acc: 0.8963 - val_loss: 0.6430 - val_acc: 0.8827\n",
      "Epoch 15/250\n",
      "9199/9199 [==============================] - 1s 91us/step - loss: 0.5929 - acc: 0.8981 - val_loss: 0.6008 - val_acc: 0.8856\n",
      "Epoch 16/250\n",
      "9199/9199 [==============================] - 1s 74us/step - loss: 0.5536 - acc: 0.9026 - val_loss: 0.5642 - val_acc: 0.8895\n",
      "Epoch 17/250\n",
      "9199/9199 [==============================] - 0s 45us/step - loss: 0.5214 - acc: 0.9028 - val_loss: 0.5373 - val_acc: 0.8905\n",
      "Epoch 18/250\n",
      "9199/9199 [==============================] - 1s 56us/step - loss: 0.4949 - acc: 0.9035 - val_loss: 0.5134 - val_acc: 0.8954\n",
      "Epoch 19/250\n",
      "9199/9199 [==============================] - 1s 55us/step - loss: 0.4718 - acc: 0.9065 - val_loss: 0.4944 - val_acc: 0.8915\n",
      "Epoch 20/250\n",
      "9199/9199 [==============================] - 1s 77us/step - loss: 0.4521 - acc: 0.9080 - val_loss: 0.4771 - val_acc: 0.8895\n",
      "Epoch 21/250\n",
      "9199/9199 [==============================] - 1s 75us/step - loss: 0.4347 - acc: 0.9092 - val_loss: 0.4654 - val_acc: 0.8935\n",
      "Epoch 22/250\n",
      "9199/9199 [==============================] - 0s 45us/step - loss: 0.4194 - acc: 0.9090 - val_loss: 0.4486 - val_acc: 0.8935\n",
      "Epoch 23/250\n",
      "9199/9199 [==============================] - 1s 58us/step - loss: 0.4063 - acc: 0.9115 - val_loss: 0.4416 - val_acc: 0.8925\n",
      "Epoch 24/250\n",
      "9199/9199 [==============================] - 1s 63us/step - loss: 0.3941 - acc: 0.9118 - val_loss: 0.4299 - val_acc: 0.8925\n",
      "Epoch 25/250\n",
      "9199/9199 [==============================] - 1s 66us/step - loss: 0.3834 - acc: 0.9138 - val_loss: 0.4225 - val_acc: 0.8964\n",
      "Epoch 26/250\n",
      "9199/9199 [==============================] - 1s 77us/step - loss: 0.3736 - acc: 0.9150 - val_loss: 0.4138 - val_acc: 0.8905\n",
      "Epoch 27/250\n",
      "9199/9199 [==============================] - 0s 32us/step - loss: 0.3643 - acc: 0.9172 - val_loss: 0.4067 - val_acc: 0.8954\n",
      "Epoch 28/250\n",
      "9199/9199 [==============================] - 1s 62us/step - loss: 0.3561 - acc: 0.9166 - val_loss: 0.4004 - val_acc: 0.8935\n",
      "Epoch 29/250\n",
      "9199/9199 [==============================] - 1s 62us/step - loss: 0.3484 - acc: 0.9169 - val_loss: 0.3957 - val_acc: 0.8974\n",
      "Epoch 30/250\n",
      "9199/9199 [==============================] - 1s 59us/step - loss: 0.3413 - acc: 0.9189 - val_loss: 0.3925 - val_acc: 0.8925\n",
      "Epoch 31/250\n",
      "9199/9199 [==============================] - 1s 66us/step - loss: 0.3346 - acc: 0.9209 - val_loss: 0.3845 - val_acc: 0.8944\n",
      "Epoch 32/250\n",
      "9199/9199 [==============================] - 0s 52us/step - loss: 0.3284 - acc: 0.9208 - val_loss: 0.3795 - val_acc: 0.8954\n",
      "Epoch 33/250\n",
      "9199/9199 [==============================] - 1s 93us/step - loss: 0.3227 - acc: 0.9225 - val_loss: 0.3759 - val_acc: 0.8954\n",
      "Epoch 34/250\n",
      "9199/9199 [==============================] - 0s 42us/step - loss: 0.3174 - acc: 0.9222 - val_loss: 0.3712 - val_acc: 0.8983\n",
      "Epoch 35/250\n",
      "9199/9199 [==============================] - 1s 77us/step - loss: 0.3123 - acc: 0.9229 - val_loss: 0.3695 - val_acc: 0.8983\n",
      "Epoch 36/250\n",
      "9199/9199 [==============================] - 1s 76us/step - loss: 0.3073 - acc: 0.9239 - val_loss: 0.3641 - val_acc: 0.8974\n",
      "Epoch 37/250\n",
      "9199/9199 [==============================] - 0s 52us/step - loss: 0.3027 - acc: 0.9241 - val_loss: 0.3637 - val_acc: 0.8974\n",
      "Epoch 38/250\n",
      "9199/9199 [==============================] - 1s 81us/step - loss: 0.2980 - acc: 0.9254 - val_loss: 0.3619 - val_acc: 0.8954\n",
      "Epoch 39/250\n",
      "9199/9199 [==============================] - 1s 62us/step - loss: 0.2939 - acc: 0.9264 - val_loss: 0.3581 - val_acc: 0.8974\n",
      "Epoch 40/250\n",
      "9199/9199 [==============================] - 1s 76us/step - loss: 0.2900 - acc: 0.9284 - val_loss: 0.3537 - val_acc: 0.8983\n",
      "Epoch 41/250\n",
      "9199/9199 [==============================] - 1s 62us/step - loss: 0.2863 - acc: 0.9265 - val_loss: 0.3509 - val_acc: 0.8974\n",
      "Epoch 42/250\n",
      "9199/9199 [==============================] - 1s 60us/step - loss: 0.2827 - acc: 0.9291 - val_loss: 0.3505 - val_acc: 0.8954\n",
      "Epoch 43/250\n",
      "9199/9199 [==============================] - 1s 74us/step - loss: 0.2791 - acc: 0.9290 - val_loss: 0.3492 - val_acc: 0.9003\n",
      "Epoch 44/250\n",
      "9199/9199 [==============================] - 0s 46us/step - loss: 0.2757 - acc: 0.9290 - val_loss: 0.3478 - val_acc: 0.8964\n",
      "Epoch 45/250\n",
      "9199/9199 [==============================] - 1s 62us/step - loss: 0.2723 - acc: 0.9299 - val_loss: 0.3449 - val_acc: 0.8974\n",
      "Epoch 46/250\n",
      "9199/9199 [==============================] - 1s 71us/step - loss: 0.2694 - acc: 0.9313 - val_loss: 0.3427 - val_acc: 0.8993\n",
      "Epoch 47/250\n",
      "9199/9199 [==============================] - 1s 69us/step - loss: 0.2662 - acc: 0.9313 - val_loss: 0.3409 - val_acc: 0.8983\n",
      "Epoch 48/250\n",
      "9199/9199 [==============================] - 1s 62us/step - loss: 0.2633 - acc: 0.9321 - val_loss: 0.3396 - val_acc: 0.8954\n",
      "Epoch 49/250\n",
      "9199/9199 [==============================] - 1s 63us/step - loss: 0.2603 - acc: 0.9330 - val_loss: 0.3375 - val_acc: 0.8935\n",
      "Epoch 50/250\n",
      "9199/9199 [==============================] - 1s 62us/step - loss: 0.2575 - acc: 0.9342 - val_loss: 0.3360 - val_acc: 0.9003\n",
      "Epoch 51/250\n",
      "9199/9199 [==============================] - 1s 80us/step - loss: 0.2549 - acc: 0.9339 - val_loss: 0.3355 - val_acc: 0.8964\n",
      "Epoch 52/250\n",
      "9199/9199 [==============================] - 0s 44us/step - loss: 0.2524 - acc: 0.9343 - val_loss: 0.3348 - val_acc: 0.9003\n",
      "Epoch 53/250\n",
      "9199/9199 [==============================] - 1s 83us/step - loss: 0.2499 - acc: 0.9360 - val_loss: 0.3320 - val_acc: 0.8954\n",
      "Epoch 54/250\n",
      "9199/9199 [==============================] - 1s 57us/step - loss: 0.2475 - acc: 0.9355 - val_loss: 0.3314 - val_acc: 0.9013\n",
      "Epoch 55/250\n",
      "9199/9199 [==============================] - 1s 60us/step - loss: 0.2450 - acc: 0.9361 - val_loss: 0.3291 - val_acc: 0.8983\n",
      "Epoch 56/250\n",
      "9199/9199 [==============================] - 1s 69us/step - loss: 0.2427 - acc: 0.9366 - val_loss: 0.3295 - val_acc: 0.8954\n",
      "Epoch 57/250\n",
      "9199/9199 [==============================] - 1s 84us/step - loss: 0.2405 - acc: 0.9360 - val_loss: 0.3271 - val_acc: 0.8964\n",
      "Epoch 58/250\n",
      "9199/9199 [==============================] - 1s 87us/step - loss: 0.2382 - acc: 0.9373 - val_loss: 0.3274 - val_acc: 0.8974\n",
      "Epoch 59/250\n",
      "9199/9199 [==============================] - 1s 103us/step - loss: 0.2362 - acc: 0.9387 - val_loss: 0.3275 - val_acc: 0.8983\n",
      "Epoch 60/250\n"
     ]
    },
    {
     "name": "stdout",
     "output_type": "stream",
     "text": [
      "9199/9199 [==============================] - 1s 128us/step - loss: 0.2340 - acc: 0.9387 - val_loss: 0.3260 - val_acc: 0.8983\n",
      "Epoch 61/250\n",
      "9199/9199 [==============================] - 1s 122us/step - loss: 0.2319 - acc: 0.9387 - val_loss: 0.3255 - val_acc: 0.8974\n",
      "Epoch 62/250\n",
      "9199/9199 [==============================] - 1s 92us/step - loss: 0.2299 - acc: 0.9392 - val_loss: 0.3233 - val_acc: 0.9003\n",
      "Epoch 63/250\n",
      "9199/9199 [==============================] - 0s 50us/step - loss: 0.2280 - acc: 0.9392 - val_loss: 0.3243 - val_acc: 0.8964\n",
      "Epoch 64/250\n",
      "9199/9199 [==============================] - 1s 71us/step - loss: 0.2260 - acc: 0.9408 - val_loss: 0.3235 - val_acc: 0.8964\n",
      "Epoch 65/250\n",
      "9199/9199 [==============================] - 0s 47us/step - loss: 0.2242 - acc: 0.9401 - val_loss: 0.3241 - val_acc: 0.8964\n",
      "Epoch 66/250\n",
      "9199/9199 [==============================] - 1s 76us/step - loss: 0.2224 - acc: 0.9413 - val_loss: 0.3215 - val_acc: 0.8964\n",
      "Epoch 67/250\n",
      "9199/9199 [==============================] - 1s 83us/step - loss: 0.2206 - acc: 0.9409 - val_loss: 0.3213 - val_acc: 0.8964\n",
      "Epoch 68/250\n",
      "9199/9199 [==============================] - 0s 34us/step - loss: 0.2187 - acc: 0.9428 - val_loss: 0.3230 - val_acc: 0.8974\n",
      "Epoch 69/250\n",
      "9199/9199 [==============================] - 1s 86us/step - loss: 0.2169 - acc: 0.9429 - val_loss: 0.3193 - val_acc: 0.8983\n",
      "Epoch 70/250\n",
      "9199/9199 [==============================] - 0s 31us/step - loss: 0.2153 - acc: 0.9443 - val_loss: 0.3182 - val_acc: 0.8993\n",
      "Epoch 71/250\n",
      "9199/9199 [==============================] - 1s 80us/step - loss: 0.2137 - acc: 0.9439 - val_loss: 0.3171 - val_acc: 0.8954\n",
      "Epoch 72/250\n",
      "9199/9199 [==============================] - 0s 37us/step - loss: 0.2121 - acc: 0.9450 - val_loss: 0.3182 - val_acc: 0.8974\n",
      "Epoch 73/250\n",
      "9199/9199 [==============================] - 1s 64us/step - loss: 0.2103 - acc: 0.9448 - val_loss: 0.3182 - val_acc: 0.8944\n",
      "Epoch 74/250\n",
      "9199/9199 [==============================] - 1s 63us/step - loss: 0.2088 - acc: 0.9450 - val_loss: 0.3170 - val_acc: 0.8954\n",
      "Epoch 75/250\n",
      "9199/9199 [==============================] - 1s 79us/step - loss: 0.2073 - acc: 0.9451 - val_loss: 0.3169 - val_acc: 0.8925\n",
      "Epoch 76/250\n",
      "9199/9199 [==============================] - 0s 47us/step - loss: 0.2060 - acc: 0.9467 - val_loss: 0.3162 - val_acc: 0.8983\n",
      "Epoch 77/250\n",
      "9199/9199 [==============================] - 1s 76us/step - loss: 0.2043 - acc: 0.9464 - val_loss: 0.3156 - val_acc: 0.8974\n",
      "Epoch 78/250\n",
      "9199/9199 [==============================] - 1s 61us/step - loss: 0.2029 - acc: 0.9473 - val_loss: 0.3156 - val_acc: 0.8944\n",
      "Epoch 79/250\n",
      "9199/9199 [==============================] - 1s 59us/step - loss: 0.2013 - acc: 0.9477 - val_loss: 0.3153 - val_acc: 0.8974\n",
      "Epoch 80/250\n",
      "9199/9199 [==============================] - 1s 86us/step - loss: 0.2001 - acc: 0.9487 - val_loss: 0.3134 - val_acc: 0.8964\n",
      "Epoch 81/250\n",
      "9199/9199 [==============================] - 1s 62us/step - loss: 0.1987 - acc: 0.9489 - val_loss: 0.3139 - val_acc: 0.8964\n",
      "Epoch 82/250\n",
      "9199/9199 [==============================] - 1s 61us/step - loss: 0.1971 - acc: 0.9492 - val_loss: 0.3132 - val_acc: 0.8935\n",
      "Epoch 83/250\n",
      "9199/9199 [==============================] - 1s 78us/step - loss: 0.1958 - acc: 0.9497 - val_loss: 0.3137 - val_acc: 0.8915\n",
      "Epoch 84/250\n",
      "9199/9199 [==============================] - 1s 74us/step - loss: 0.1943 - acc: 0.9493 - val_loss: 0.3143 - val_acc: 0.8935\n",
      "Epoch 85/250\n",
      "9199/9199 [==============================] - 0s 49us/step - loss: 0.1929 - acc: 0.9497 - val_loss: 0.3110 - val_acc: 0.8954\n",
      "Epoch 86/250\n",
      "9199/9199 [==============================] - 1s 74us/step - loss: 0.1917 - acc: 0.9502 - val_loss: 0.3117 - val_acc: 0.8954\n",
      "Epoch 87/250\n",
      "9199/9199 [==============================] - 1s 74us/step - loss: 0.1905 - acc: 0.9509 - val_loss: 0.3128 - val_acc: 0.8925\n",
      "Epoch 88/250\n",
      "9199/9199 [==============================] - 0s 34us/step - loss: 0.1893 - acc: 0.9516 - val_loss: 0.3097 - val_acc: 0.8974\n",
      "Epoch 89/250\n",
      "9199/9199 [==============================] - 1s 70us/step - loss: 0.1881 - acc: 0.9514 - val_loss: 0.3112 - val_acc: 0.8974\n",
      "Epoch 90/250\n",
      "9199/9199 [==============================] - 0s 49us/step - loss: 0.1867 - acc: 0.9524 - val_loss: 0.3119 - val_acc: 0.8944\n",
      "Epoch 91/250\n",
      "9199/9199 [==============================] - 0s 43us/step - loss: 0.1856 - acc: 0.9516 - val_loss: 0.3086 - val_acc: 0.8974\n",
      "Epoch 92/250\n",
      "9199/9199 [==============================] - 1s 86us/step - loss: 0.1843 - acc: 0.9522 - val_loss: 0.3096 - val_acc: 0.8974\n",
      "Epoch 93/250\n",
      "9199/9199 [==============================] - 0s 30us/step - loss: 0.1832 - acc: 0.9531 - val_loss: 0.3122 - val_acc: 0.8964\n",
      "Epoch 94/250\n",
      "9199/9199 [==============================] - 0s 29us/step - loss: 0.1820 - acc: 0.9539 - val_loss: 0.3085 - val_acc: 0.8954\n",
      "Epoch 95/250\n",
      "9199/9199 [==============================] - 1s 95us/step - loss: 0.1808 - acc: 0.9530 - val_loss: 0.3104 - val_acc: 0.8964\n",
      "Epoch 96/250\n",
      "9199/9199 [==============================] - 0s 41us/step - loss: 0.1797 - acc: 0.9554 - val_loss: 0.3088 - val_acc: 0.8944\n",
      "Epoch 97/250\n",
      "9199/9199 [==============================] - 1s 90us/step - loss: 0.1786 - acc: 0.9545 - val_loss: 0.3097 - val_acc: 0.8944\n",
      "Epoch 98/250\n",
      "9199/9199 [==============================] - 0s 32us/step - loss: 0.1776 - acc: 0.9558 - val_loss: 0.3090 - val_acc: 0.8993\n",
      "Epoch 99/250\n",
      "9199/9199 [==============================] - 1s 90us/step - loss: 0.1764 - acc: 0.9556 - val_loss: 0.3090 - val_acc: 0.8983\n",
      "Epoch 100/250\n",
      "9199/9199 [==============================] - 0s 31us/step - loss: 0.1753 - acc: 0.9556 - val_loss: 0.3105 - val_acc: 0.8915\n",
      "Epoch 101/250\n",
      "9199/9199 [==============================] - 1s 91us/step - loss: 0.1744 - acc: 0.9556 - val_loss: 0.3090 - val_acc: 0.8935\n",
      "Epoch 102/250\n",
      "9199/9199 [==============================] - 0s 33us/step - loss: 0.1732 - acc: 0.9573 - val_loss: 0.3076 - val_acc: 0.8964\n",
      "Epoch 103/250\n",
      "9199/9199 [==============================] - 0s 46us/step - loss: 0.1723 - acc: 0.9563 - val_loss: 0.3089 - val_acc: 0.8954\n",
      "Epoch 104/250\n",
      "9199/9199 [==============================] - 1s 97us/step - loss: 0.1711 - acc: 0.9573 - val_loss: 0.3071 - val_acc: 0.8954\n",
      "Epoch 105/250\n",
      "9199/9199 [==============================] - 1s 70us/step - loss: 0.1702 - acc: 0.9580 - val_loss: 0.3076 - val_acc: 0.8974\n",
      "Epoch 106/250\n",
      "9199/9199 [==============================] - 1s 62us/step - loss: 0.1692 - acc: 0.9585 - val_loss: 0.3072 - val_acc: 0.8964\n",
      "Epoch 107/250\n",
      "9199/9199 [==============================] - 1s 64us/step - loss: 0.1681 - acc: 0.9598 - val_loss: 0.3090 - val_acc: 0.8935\n",
      "Epoch 108/250\n",
      "9199/9199 [==============================] - 1s 60us/step - loss: 0.1672 - acc: 0.9598 - val_loss: 0.3081 - val_acc: 0.8925\n",
      "Epoch 109/250\n",
      "9199/9199 [==============================] - 1s 61us/step - loss: 0.1661 - acc: 0.9590 - val_loss: 0.3058 - val_acc: 0.8925\n",
      "Epoch 110/250\n",
      "9199/9199 [==============================] - 1s 62us/step - loss: 0.1653 - acc: 0.9583 - val_loss: 0.3076 - val_acc: 0.8944\n",
      "Epoch 111/250\n",
      "9199/9199 [==============================] - 1s 90us/step - loss: 0.1644 - acc: 0.9595 - val_loss: 0.3069 - val_acc: 0.8964\n",
      "Epoch 112/250\n",
      "9199/9199 [==============================] - 0s 30us/step - loss: 0.1634 - acc: 0.9596 - val_loss: 0.3063 - val_acc: 0.8944\n",
      "Epoch 113/250\n",
      "9199/9199 [==============================] - 1s 85us/step - loss: 0.1625 - acc: 0.9601 - val_loss: 0.3058 - val_acc: 0.8935\n",
      "Epoch 114/250\n",
      "9199/9199 [==============================] - 1s 86us/step - loss: 0.1615 - acc: 0.9609 - val_loss: 0.3057 - val_acc: 0.8974\n",
      "Epoch 115/250\n",
      "9199/9199 [==============================] - 1s 88us/step - loss: 0.1605 - acc: 0.9616 - val_loss: 0.3080 - val_acc: 0.8954\n",
      "Epoch 116/250\n",
      "9199/9199 [==============================] - 1s 111us/step - loss: 0.1597 - acc: 0.9621 - val_loss: 0.3071 - val_acc: 0.8935\n",
      "Epoch 117/250\n",
      "9199/9199 [==============================] - 1s 125us/step - loss: 0.1589 - acc: 0.9606 - val_loss: 0.3083 - val_acc: 0.8935\n",
      "Epoch 118/250\n",
      "9199/9199 [==============================] - 1s 118us/step - loss: 0.1579 - acc: 0.9623 - val_loss: 0.3070 - val_acc: 0.8944\n",
      "Epoch 119/250\n",
      "9199/9199 [==============================] - 0s 43us/step - loss: 0.1571 - acc: 0.9621 - val_loss: 0.3072 - val_acc: 0.8954\n"
     ]
    },
    {
     "name": "stdout",
     "output_type": "stream",
     "text": [
      "Epoch 120/250\n",
      "9199/9199 [==============================] - 1s 77us/step - loss: 0.1561 - acc: 0.9633 - val_loss: 0.3046 - val_acc: 0.8974\n",
      "Epoch 121/250\n",
      "9199/9199 [==============================] - 0s 31us/step - loss: 0.1555 - acc: 0.9620 - val_loss: 0.3073 - val_acc: 0.8944\n",
      "Epoch 122/250\n",
      "9199/9199 [==============================] - 1s 65us/step - loss: 0.1546 - acc: 0.9624 - val_loss: 0.3084 - val_acc: 0.8964\n",
      "Epoch 123/250\n",
      "9199/9199 [==============================] - 1s 92us/step - loss: 0.1538 - acc: 0.9639 - val_loss: 0.3071 - val_acc: 0.8915\n",
      "Epoch 124/250\n",
      "9199/9199 [==============================] - ETA: 0s - loss: 0.1543 - acc: 0.963 - 1s 56us/step - loss: 0.1529 - acc: 0.9637 - val_loss: 0.3066 - val_acc: 0.8944\n",
      "Epoch 125/250\n",
      "9199/9199 [==============================] - 1s 75us/step - loss: 0.1521 - acc: 0.9634 - val_loss: 0.3056 - val_acc: 0.8974\n",
      "Epoch 126/250\n",
      "9199/9199 [==============================] - 0s 46us/step - loss: 0.1513 - acc: 0.9640 - val_loss: 0.3048 - val_acc: 0.8935\n",
      "Epoch 127/250\n",
      "9199/9199 [==============================] - 1s 91us/step - loss: 0.1504 - acc: 0.9641 - val_loss: 0.3078 - val_acc: 0.8925\n",
      "Epoch 128/250\n",
      "9199/9199 [==============================] - 0s 45us/step - loss: 0.1497 - acc: 0.9640 - val_loss: 0.3067 - val_acc: 0.8935\n",
      "Epoch 129/250\n",
      "9199/9199 [==============================] - 1s 77us/step - loss: 0.1489 - acc: 0.9652 - val_loss: 0.3075 - val_acc: 0.8925\n",
      "Epoch 130/250\n",
      "9199/9199 [==============================] - 1s 67us/step - loss: 0.1481 - acc: 0.9656 - val_loss: 0.3058 - val_acc: 0.8925\n",
      "Epoch 131/250\n",
      "9199/9199 [==============================] - 1s 56us/step - loss: 0.1472 - acc: 0.9645 - val_loss: 0.3064 - val_acc: 0.8954\n",
      "Epoch 132/250\n",
      "9199/9199 [==============================] - 0s 32us/step - loss: 0.1466 - acc: 0.9647 - val_loss: 0.3069 - val_acc: 0.8954\n",
      "Epoch 133/250\n",
      "9199/9199 [==============================] - 1s 62us/step - loss: 0.1456 - acc: 0.9658 - val_loss: 0.3060 - val_acc: 0.8954\n",
      "Epoch 134/250\n",
      "9199/9199 [==============================] - 1s 78us/step - loss: 0.1452 - acc: 0.9658 - val_loss: 0.3052 - val_acc: 0.8954\n",
      "Epoch 135/250\n",
      "9199/9199 [==============================] - 1s 78us/step - loss: 0.1444 - acc: 0.9654 - val_loss: 0.3060 - val_acc: 0.8925\n",
      "Epoch 136/250\n",
      "9199/9199 [==============================] - 1s 56us/step - loss: 0.1435 - acc: 0.9662 - val_loss: 0.3069 - val_acc: 0.8983\n",
      "Epoch 137/250\n",
      "9199/9199 [==============================] - 1s 65us/step - loss: 0.1428 - acc: 0.9663 - val_loss: 0.3055 - val_acc: 0.8944\n",
      "Epoch 138/250\n",
      "9199/9199 [==============================] - 1s 79us/step - loss: 0.1421 - acc: 0.9677 - val_loss: 0.3040 - val_acc: 0.8915\n",
      "Epoch 139/250\n",
      "9199/9199 [==============================] - 0s 43us/step - loss: 0.1412 - acc: 0.9668 - val_loss: 0.3048 - val_acc: 0.8935\n",
      "Epoch 140/250\n",
      "9199/9199 [==============================] - 1s 64us/step - loss: 0.1407 - acc: 0.9670 - val_loss: 0.3067 - val_acc: 0.8935\n",
      "Epoch 141/250\n",
      "9199/9199 [==============================] - 1s 86us/step - loss: 0.1399 - acc: 0.9678 - val_loss: 0.3046 - val_acc: 0.8964\n",
      "Epoch 142/250\n",
      "9199/9199 [==============================] - 1s 67us/step - loss: 0.1392 - acc: 0.9675 - val_loss: 0.3055 - val_acc: 0.8974\n",
      "Epoch 143/250\n",
      "9199/9199 [==============================] - 1s 64us/step - loss: 0.1385 - acc: 0.9681 - val_loss: 0.3043 - val_acc: 0.8964\n",
      "Epoch 144/250\n",
      "9199/9199 [==============================] - 1s 55us/step - loss: 0.1378 - acc: 0.9691 - val_loss: 0.3041 - val_acc: 0.8954\n",
      "Epoch 145/250\n",
      "9199/9199 [==============================] - 0s 47us/step - loss: 0.1372 - acc: 0.9700 - val_loss: 0.3036 - val_acc: 0.8915\n",
      "Epoch 146/250\n",
      "9199/9199 [==============================] - 1s 72us/step - loss: 0.1364 - acc: 0.9693 - val_loss: 0.3036 - val_acc: 0.8935\n",
      "Epoch 147/250\n",
      "9199/9199 [==============================] - 0s 49us/step - loss: 0.1359 - acc: 0.9690 - val_loss: 0.3036 - val_acc: 0.8925\n",
      "Epoch 148/250\n",
      "9199/9199 [==============================] - 1s 71us/step - loss: 0.1351 - acc: 0.9692 - val_loss: 0.3050 - val_acc: 0.8954\n",
      "Epoch 149/250\n",
      "9199/9199 [==============================] - 1s 92us/step - loss: 0.1346 - acc: 0.9698 - val_loss: 0.3040 - val_acc: 0.8964\n",
      "Epoch 150/250\n",
      "9199/9199 [==============================] - 0s 39us/step - loss: 0.1338 - acc: 0.9689 - val_loss: 0.3064 - val_acc: 0.8974\n",
      "Epoch 151/250\n",
      "9199/9199 [==============================] - 1s 84us/step - loss: 0.1332 - acc: 0.9702 - val_loss: 0.3058 - val_acc: 0.8944\n",
      "Epoch 152/250\n",
      "9199/9199 [==============================] - 1s 59us/step - loss: 0.1325 - acc: 0.9701 - val_loss: 0.3036 - val_acc: 0.8925\n",
      "Epoch 153/250\n",
      "9199/9199 [==============================] - 1s 64us/step - loss: 0.1320 - acc: 0.9700 - val_loss: 0.3030 - val_acc: 0.8935\n",
      "Epoch 154/250\n",
      "9199/9199 [==============================] - 1s 91us/step - loss: 0.1314 - acc: 0.9703 - val_loss: 0.3035 - val_acc: 0.8944\n",
      "Epoch 155/250\n",
      "9199/9199 [==============================] - 0s 36us/step - loss: 0.1307 - acc: 0.9703 - val_loss: 0.3050 - val_acc: 0.8905\n",
      "Epoch 156/250\n",
      "9199/9199 [==============================] - 1s 87us/step - loss: 0.1300 - acc: 0.9708 - val_loss: 0.3045 - val_acc: 0.8974\n",
      "Epoch 157/250\n",
      "9199/9199 [==============================] - 0s 38us/step - loss: 0.1295 - acc: 0.9700 - val_loss: 0.3050 - val_acc: 0.8925\n",
      "Epoch 158/250\n",
      "9199/9199 [==============================] - 1s 85us/step - loss: 0.1288 - acc: 0.9714 - val_loss: 0.3064 - val_acc: 0.8944\n",
      "Epoch 159/250\n",
      "9199/9199 [==============================] - 1s 78us/step - loss: 0.1283 - acc: 0.9718 - val_loss: 0.3048 - val_acc: 0.8944\n",
      "Epoch 160/250\n",
      "9199/9199 [==============================] - 0s 44us/step - loss: 0.1276 - acc: 0.9717 - val_loss: 0.3044 - val_acc: 0.8944\n",
      "Epoch 161/250\n",
      "9199/9199 [==============================] - 1s 91us/step - loss: 0.1270 - acc: 0.9715 - val_loss: 0.3052 - val_acc: 0.8925\n",
      "Epoch 162/250\n",
      "9199/9199 [==============================] - 0s 34us/step - loss: 0.1264 - acc: 0.9716 - val_loss: 0.3046 - val_acc: 0.8944\n",
      "Epoch 163/250\n",
      "9199/9199 [==============================] - 1s 91us/step - loss: 0.1258 - acc: 0.9715 - val_loss: 0.3060 - val_acc: 0.8935\n",
      "Epoch 164/250\n",
      "9199/9199 [==============================] - 0s 34us/step - loss: 0.1254 - acc: 0.9722 - val_loss: 0.3043 - val_acc: 0.8935\n",
      "Epoch 165/250\n",
      "9199/9199 [==============================] - 1s 88us/step - loss: 0.1245 - acc: 0.9725 - val_loss: 0.3068 - val_acc: 0.8944\n",
      "Epoch 166/250\n",
      "9199/9199 [==============================] - 1s 71us/step - loss: 0.1242 - acc: 0.9727 - val_loss: 0.3054 - val_acc: 0.8925\n",
      "Epoch 167/250\n",
      "9199/9199 [==============================] - 0s 50us/step - loss: 0.1234 - acc: 0.9727 - val_loss: 0.3057 - val_acc: 0.8935\n",
      "Epoch 168/250\n",
      "9199/9199 [==============================] - 1s 84us/step - loss: 0.1231 - acc: 0.9733 - val_loss: 0.3064 - val_acc: 0.8925\n",
      "Epoch 169/250\n",
      "9199/9199 [==============================] - 1s 91us/step - loss: 0.1225 - acc: 0.9735 - val_loss: 0.3049 - val_acc: 0.8944\n",
      "Epoch 170/250\n",
      "9199/9199 [==============================] - 1s 90us/step - loss: 0.1219 - acc: 0.9741 - val_loss: 0.3055 - val_acc: 0.8925\n",
      "Epoch 171/250\n",
      "9199/9199 [==============================] - 1s 101us/step - loss: 0.1214 - acc: 0.9741 - val_loss: 0.3065 - val_acc: 0.8925\n",
      "Epoch 172/250\n",
      "9199/9199 [==============================] - 1s 128us/step - loss: 0.1208 - acc: 0.9748 - val_loss: 0.3056 - val_acc: 0.8954\n",
      "Epoch 173/250\n",
      "9199/9199 [==============================] - 1s 125us/step - loss: 0.1203 - acc: 0.9747 - val_loss: 0.3063 - val_acc: 0.8954\n",
      "Epoch 174/250\n",
      "9199/9199 [==============================] - 1s 106us/step - loss: 0.1197 - acc: 0.9742 - val_loss: 0.3065 - val_acc: 0.8915\n",
      "Epoch 175/250\n",
      "9199/9199 [==============================] - 0s 53us/step - loss: 0.1191 - acc: 0.9745 - val_loss: 0.3066 - val_acc: 0.8954\n",
      "Epoch 176/250\n",
      "9199/9199 [==============================] - 1s 70us/step - loss: 0.1187 - acc: 0.9750 - val_loss: 0.3056 - val_acc: 0.8925\n",
      "Epoch 177/250\n",
      "9199/9199 [==============================] - 1s 61us/step - loss: 0.1180 - acc: 0.9754 - val_loss: 0.3072 - val_acc: 0.8925\n",
      "Epoch 178/250\n",
      "9199/9199 [==============================] - 0s 31us/step - loss: 0.1178 - acc: 0.9752 - val_loss: 0.3048 - val_acc: 0.8935\n",
      "Epoch 179/250\n"
     ]
    },
    {
     "name": "stdout",
     "output_type": "stream",
     "text": [
      "9199/9199 [==============================] - 1s 77us/step - loss: 0.1171 - acc: 0.9749 - val_loss: 0.3057 - val_acc: 0.8944\n",
      "Epoch 180/250\n",
      "9199/9199 [==============================] - 0s 47us/step - loss: 0.1164 - acc: 0.9760 - val_loss: 0.3058 - val_acc: 0.8944\n",
      "Epoch 181/250\n",
      "9199/9199 [==============================] - 0s 34us/step - loss: 0.1162 - acc: 0.9759 - val_loss: 0.3049 - val_acc: 0.8954\n",
      "Epoch 182/250\n",
      "9199/9199 [==============================] - 1s 88us/step - loss: 0.1155 - acc: 0.9760 - val_loss: 0.3052 - val_acc: 0.8935\n",
      "Epoch 183/250\n",
      "9199/9199 [==============================] - 1s 87us/step - loss: 0.1151 - acc: 0.9754 - val_loss: 0.3060 - val_acc: 0.8905\n",
      "Epoch 184/250\n",
      "9199/9199 [==============================] - 1s 55us/step - loss: 0.1146 - acc: 0.9764 - val_loss: 0.3065 - val_acc: 0.8915\n",
      "Epoch 185/250\n",
      "9199/9199 [==============================] - 0s 53us/step - loss: 0.1139 - acc: 0.9762 - val_loss: 0.3056 - val_acc: 0.8935\n",
      "Epoch 186/250\n",
      "9199/9199 [==============================] - 0s 46us/step - loss: 0.1135 - acc: 0.9761 - val_loss: 0.3051 - val_acc: 0.8925\n",
      "Epoch 187/250\n",
      "9199/9199 [==============================] - 1s 77us/step - loss: 0.1131 - acc: 0.9764 - val_loss: 0.3056 - val_acc: 0.8935\n",
      "Epoch 188/250\n",
      "9199/9199 [==============================] - 0s 33us/step - loss: 0.1126 - acc: 0.9766 - val_loss: 0.3058 - val_acc: 0.8964\n",
      "Epoch 189/250\n",
      "9199/9199 [==============================] - 1s 58us/step - loss: 0.1121 - acc: 0.9768 - val_loss: 0.3060 - val_acc: 0.8944\n",
      "Epoch 190/250\n",
      "9199/9199 [==============================] - 1s 62us/step - loss: 0.1117 - acc: 0.9773 - val_loss: 0.3055 - val_acc: 0.8954\n",
      "Epoch 191/250\n",
      "9199/9199 [==============================] - 1s 92us/step - loss: 0.1112 - acc: 0.9777 - val_loss: 0.3053 - val_acc: 0.8944\n",
      "Epoch 192/250\n",
      "9199/9199 [==============================] - 0s 36us/step - loss: 0.1107 - acc: 0.9780 - val_loss: 0.3052 - val_acc: 0.8954\n",
      "Epoch 193/250\n",
      "9199/9199 [==============================] - 1s 87us/step - loss: 0.1103 - acc: 0.9781 - val_loss: 0.3053 - val_acc: 0.8925\n",
      "Epoch 194/250\n",
      "9199/9199 [==============================] - 0s 30us/step - loss: 0.1095 - acc: 0.9784 - val_loss: 0.3043 - val_acc: 0.8944\n",
      "Epoch 195/250\n",
      "9199/9199 [==============================] - 0s 31us/step - loss: 0.1093 - acc: 0.9776 - val_loss: 0.3053 - val_acc: 0.8935\n",
      "Epoch 196/250\n",
      "9199/9199 [==============================] - 0s 51us/step - loss: 0.1088 - acc: 0.9774 - val_loss: 0.3069 - val_acc: 0.8925\n",
      "Epoch 197/250\n",
      "9199/9199 [==============================] - 1s 117us/step - loss: 0.1083 - acc: 0.9787 - val_loss: 0.3051 - val_acc: 0.8944\n",
      "Epoch 198/250\n",
      "9199/9199 [==============================] - 1s 73us/step - loss: 0.1080 - acc: 0.9778 - val_loss: 0.3074 - val_acc: 0.8925\n",
      "Epoch 199/250\n",
      "9199/9199 [==============================] - 1s 62us/step - loss: 0.1075 - acc: 0.9793 - val_loss: 0.3054 - val_acc: 0.8925\n",
      "Epoch 200/250\n",
      "9199/9199 [==============================] - 1s 58us/step - loss: 0.1071 - acc: 0.9783 - val_loss: 0.3065 - val_acc: 0.8935\n",
      "Epoch 201/250\n",
      "9199/9199 [==============================] - 1s 60us/step - loss: 0.1066 - acc: 0.9790 - val_loss: 0.3078 - val_acc: 0.8935\n",
      "Epoch 202/250\n",
      "9199/9199 [==============================] - 1s 61us/step - loss: 0.1060 - acc: 0.9786 - val_loss: 0.3056 - val_acc: 0.8944\n",
      "Epoch 203/250\n",
      "9199/9199 [==============================] - 1s 61us/step - loss: 0.1057 - acc: 0.9787 - val_loss: 0.3063 - val_acc: 0.8935\n",
      "Epoch 204/250\n",
      "9199/9199 [==============================] - 1s 61us/step - loss: 0.1052 - acc: 0.9790 - val_loss: 0.3053 - val_acc: 0.8944\n",
      "Epoch 205/250\n",
      "9199/9199 [==============================] - 1s 61us/step - loss: 0.1048 - acc: 0.9788 - val_loss: 0.3072 - val_acc: 0.8925\n",
      "Epoch 206/250\n",
      "9199/9199 [==============================] - 1s 63us/step - loss: 0.1044 - acc: 0.9795 - val_loss: 0.3062 - val_acc: 0.8944\n",
      "Epoch 207/250\n",
      "9199/9199 [==============================] - 1s 78us/step - loss: 0.1039 - acc: 0.9802 - val_loss: 0.3060 - val_acc: 0.8935\n",
      "Epoch 208/250\n",
      "9199/9199 [==============================] - 1s 69us/step - loss: 0.1035 - acc: 0.9789 - val_loss: 0.3063 - val_acc: 0.8935\n",
      "Epoch 209/250\n",
      "9199/9199 [==============================] - 1s 61us/step - loss: 0.1031 - acc: 0.9791 - val_loss: 0.3067 - val_acc: 0.8954\n",
      "Epoch 210/250\n",
      "9199/9199 [==============================] - 1s 61us/step - loss: 0.1027 - acc: 0.9799 - val_loss: 0.3065 - val_acc: 0.8935\n",
      "Epoch 211/250\n",
      "9199/9199 [==============================] - 1s 60us/step - loss: 0.1024 - acc: 0.9804 - val_loss: 0.3068 - val_acc: 0.8915\n",
      "Epoch 212/250\n",
      "9199/9199 [==============================] - 1s 61us/step - loss: 0.1018 - acc: 0.9805 - val_loss: 0.3079 - val_acc: 0.8964\n",
      "Epoch 213/250\n",
      "9199/9199 [==============================] - 1s 61us/step - loss: 0.1016 - acc: 0.9799 - val_loss: 0.3069 - val_acc: 0.8935\n",
      "Epoch 214/250\n",
      "9199/9199 [==============================] - 1s 72us/step - loss: 0.1011 - acc: 0.9804 - val_loss: 0.3066 - val_acc: 0.8954\n",
      "Epoch 215/250\n",
      "9199/9199 [==============================] - 0s 50us/step - loss: 0.1006 - acc: 0.9801 - val_loss: 0.3055 - val_acc: 0.8954\n",
      "Epoch 216/250\n",
      "9199/9199 [==============================] - 1s 84us/step - loss: 0.1003 - acc: 0.9810 - val_loss: 0.3074 - val_acc: 0.8935\n",
      "Epoch 217/250\n",
      "9199/9199 [==============================] - 0s 37us/step - loss: 0.0998 - acc: 0.9811 - val_loss: 0.3072 - val_acc: 0.8935\n",
      "Epoch 218/250\n",
      "9199/9199 [==============================] - 1s 83us/step - loss: 0.0994 - acc: 0.9818 - val_loss: 0.3075 - val_acc: 0.8915\n",
      "Epoch 219/250\n",
      "9199/9199 [==============================] - 1s 57us/step - loss: 0.0992 - acc: 0.9812 - val_loss: 0.3054 - val_acc: 0.8964\n",
      "Epoch 220/250\n",
      "9199/9199 [==============================] - 1s 72us/step - loss: 0.0987 - acc: 0.9812 - val_loss: 0.3093 - val_acc: 0.8925\n",
      "Epoch 221/250\n",
      "9199/9199 [==============================] - 1s 62us/step - loss: 0.0983 - acc: 0.9816 - val_loss: 0.3079 - val_acc: 0.8925\n",
      "Epoch 222/250\n",
      "9199/9199 [==============================] - 0s 41us/step - loss: 0.0978 - acc: 0.9817 - val_loss: 0.3099 - val_acc: 0.8935\n",
      "Epoch 223/250\n",
      "9199/9199 [==============================] - 1s 55us/step - loss: 0.0974 - acc: 0.9818 - val_loss: 0.3079 - val_acc: 0.8954\n",
      "Epoch 224/250\n",
      "9199/9199 [==============================] - 1s 78us/step - loss: 0.0970 - acc: 0.9811 - val_loss: 0.3084 - val_acc: 0.8915\n",
      "Epoch 225/250\n",
      "9199/9199 [==============================] - 1s 68us/step - loss: 0.0967 - acc: 0.9821 - val_loss: 0.3091 - val_acc: 0.8944\n",
      "Epoch 226/250\n",
      "9199/9199 [==============================] - 1s 59us/step - loss: 0.0964 - acc: 0.9821 - val_loss: 0.3070 - val_acc: 0.8954\n",
      "Epoch 227/250\n",
      "9199/9199 [==============================] - 1s 72us/step - loss: 0.0960 - acc: 0.9823 - val_loss: 0.3074 - val_acc: 0.8964\n",
      "Epoch 228/250\n",
      "9199/9199 [==============================] - 1s 90us/step - loss: 0.0956 - acc: 0.9818 - val_loss: 0.3076 - val_acc: 0.8964\n",
      "Epoch 229/250\n",
      "9199/9199 [==============================] - 1s 88us/step - loss: 0.0952 - acc: 0.9824 - val_loss: 0.3090 - val_acc: 0.8944\n",
      "Epoch 230/250\n",
      "9199/9199 [==============================] - 1s 124us/step - loss: 0.0948 - acc: 0.9827 - val_loss: 0.3068 - val_acc: 0.8954\n",
      "Epoch 231/250\n",
      "9199/9199 [==============================] - 1s 125us/step - loss: 0.0944 - acc: 0.9823 - val_loss: 0.3080 - val_acc: 0.8935\n",
      "Epoch 232/250\n",
      "9199/9199 [==============================] - 1s 84us/step - loss: 0.0942 - acc: 0.9829 - val_loss: 0.3073 - val_acc: 0.8964\n",
      "Epoch 233/250\n",
      "9199/9199 [==============================] - 1s 65us/step - loss: 0.0936 - acc: 0.9829 - val_loss: 0.3091 - val_acc: 0.8964\n",
      "Epoch 234/250\n",
      "9199/9199 [==============================] - 1s 57us/step - loss: 0.0935 - acc: 0.9830 - val_loss: 0.3083 - val_acc: 0.8954\n",
      "Epoch 235/250\n",
      "9199/9199 [==============================] - 0s 32us/step - loss: 0.0931 - acc: 0.9835 - val_loss: 0.3091 - val_acc: 0.8974\n",
      "Epoch 236/250\n",
      "9199/9199 [==============================] - 1s 84us/step - loss: 0.0927 - acc: 0.9832 - val_loss: 0.3086 - val_acc: 0.8983\n",
      "Epoch 237/250\n",
      "9199/9199 [==============================] - 1s 97us/step - loss: 0.0924 - acc: 0.9835 - val_loss: 0.3090 - val_acc: 0.8974\n",
      "Epoch 238/250\n"
     ]
    },
    {
     "name": "stdout",
     "output_type": "stream",
     "text": [
      "9199/9199 [==============================] - 1s 66us/step - loss: 0.0920 - acc: 0.9836 - val_loss: 0.3077 - val_acc: 0.8974\n",
      "Epoch 239/250\n",
      "9199/9199 [==============================] - 1s 56us/step - loss: 0.0917 - acc: 0.9838 - val_loss: 0.3084 - val_acc: 0.8944\n",
      "Epoch 240/250\n",
      "9199/9199 [==============================] - 1s 85us/step - loss: 0.0913 - acc: 0.9830 - val_loss: 0.3100 - val_acc: 0.8944\n",
      "Epoch 241/250\n",
      "9199/9199 [==============================] - 0s 42us/step - loss: 0.0909 - acc: 0.9837 - val_loss: 0.3086 - val_acc: 0.8925\n",
      "Epoch 242/250\n",
      "9199/9199 [==============================] - 1s 87us/step - loss: 0.0906 - acc: 0.9840 - val_loss: 0.3099 - val_acc: 0.8925\n",
      "Epoch 243/250\n",
      "9199/9199 [==============================] - 0s 49us/step - loss: 0.0904 - acc: 0.9841 - val_loss: 0.3087 - val_acc: 0.8944\n",
      "Epoch 244/250\n",
      "9199/9199 [==============================] - 1s 73us/step - loss: 0.0900 - acc: 0.9845 - val_loss: 0.3090 - val_acc: 0.8925\n",
      "Epoch 245/250\n",
      "9199/9199 [==============================] - 1s 66us/step - loss: 0.0895 - acc: 0.9842 - val_loss: 0.3089 - val_acc: 0.8935\n",
      "Epoch 246/250\n",
      "9199/9199 [==============================] - 1s 69us/step - loss: 0.0892 - acc: 0.9843 - val_loss: 0.3091 - val_acc: 0.8915\n",
      "Epoch 247/250\n",
      "9199/9199 [==============================] - 0s 48us/step - loss: 0.0889 - acc: 0.9846 - val_loss: 0.3085 - val_acc: 0.8935\n",
      "Epoch 248/250\n",
      "9199/9199 [==============================] - 1s 77us/step - loss: 0.0886 - acc: 0.9849 - val_loss: 0.3099 - val_acc: 0.8944\n",
      "Epoch 249/250\n",
      "9199/9199 [==============================] - 1s 70us/step - loss: 0.0882 - acc: 0.9848 - val_loss: 0.3086 - val_acc: 0.8944\n",
      "Epoch 250/250\n",
      "9199/9199 [==============================] - 0s 52us/step - loss: 0.0880 - acc: 0.9846 - val_loss: 0.3101 - val_acc: 0.8915\n"
     ]
    },
    {
     "data": {
      "text/plain": [
       "<keras.callbacks.History at 0x7fcb8dd4afd0>"
      ]
     },
     "execution_count": 25,
     "metadata": {},
     "output_type": "execute_result"
    }
   ],
   "source": [
    "model.fit(featuresx,y,epochs=250,validation_data=(features_val,y_val1),batch_size=150,callbacks=[callback,callback1])"
   ]
  },
  {
   "cell_type": "code",
   "execution_count": null,
   "metadata": {
    "collapsed": true
   },
   "outputs": [],
   "source": [
    "model.save_weights('inception1.h5')\n"
   ]
  },
  {
   "cell_type": "code",
   "execution_count": null,
   "metadata": {
    "collapsed": true
   },
   "outputs": [],
   "source": [
    "predics=model.predict(x_test_images)\n",
    "\n",
    "\n"
   ]
  },
  {
   "cell_type": "code",
   "execution_count": null,
   "metadata": {
    "collapsed": true
   },
   "outputs": [],
   "source": []
  },
  {
   "cell_type": "code",
   "execution_count": null,
   "metadata": {
    "collapsed": true
   },
   "outputs": [],
   "source": []
  },
  {
   "cell_type": "code",
   "execution_count": null,
   "metadata": {
    "collapsed": true
   },
   "outputs": [],
   "source": []
  }
 ],
 "metadata": {
  "kernelspec": {
   "display_name": "Python 3",
   "language": "python",
   "name": "python3"
  },
  "language_info": {
   "codemirror_mode": {
    "name": "ipython",
    "version": 3
   },
   "file_extension": ".py",
   "mimetype": "text/x-python",
   "name": "python",
   "nbconvert_exporter": "python",
   "pygments_lexer": "ipython3",
   "version": "3.6.3"
  }
 },
 "nbformat": 4,
 "nbformat_minor": 2
}
