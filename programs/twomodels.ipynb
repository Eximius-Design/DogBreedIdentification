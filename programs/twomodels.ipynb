{
 "cells": [
  {
   "cell_type": "code",
   "execution_count": 11,
   "metadata": {},
   "outputs": [],
   "source": [
    "import cv2\n",
    "import pandas as pd\n",
    "import numpy as np\n",
    "from tqdm import tqdm\n",
    "import tensorflow as tf\n",
    "config = tf.ConfigProto()\n",
    "config.gpu_options.allow_growth = True\n",
    "session = tf.Session(config=config)\n",
    "from keras.backend.tensorflow_backend import set_session\n",
    "set_session(tf.Session(config=config))\n",
    "#import keras\n",
    "from keras import backend as K\n",
    "K.set_image_dim_ordering('tf')\n",
    "from keras.models import Model\n",
    "import numpy as np\n",
    "from keras.applications.imagenet_utils import preprocess_input\n",
    "from keras.preprocessing import image\n",
    "from matplotlib.pyplot import imshow\n",
    "import pandas as pd\n",
    "from keras.models import Sequential\n",
    "from keras.layers import Dense, Dropout, Flatten,Activation, Conv2D, MaxPooling2D,BatchNormalization,GlobalAveragePooling2D\n",
    "from keras.callbacks import EarlyStopping\n",
    "from keras.utils import to_categorical\n",
    "\n",
    "import keras\n",
    "import numpy as np\n",
    "from keras.preprocessing.image import ImageDataGenerator\n"
   ]
  },
  {
   "cell_type": "code",
   "execution_count": 12,
   "metadata": {
    "collapsed": true
   },
   "outputs": [],
   "source": [
    "train=pd.read_csv(\"/home/sainathb/dog breed files/Image_Classification/labels.csv\")"
   ]
  },
  {
   "cell_type": "code",
   "execution_count": 13,
   "metadata": {
    "collapsed": true
   },
   "outputs": [],
   "source": [
    "ylabels=train['breed']"
   ]
  },
  {
   "cell_type": "code",
   "execution_count": 14,
   "metadata": {},
   "outputs": [
    {
     "data": {
      "text/plain": [
       "(10222, 120)"
      ]
     },
     "execution_count": 14,
     "metadata": {},
     "output_type": "execute_result"
    }
   ],
   "source": [
    "ylabels=np.array(pd.get_dummies(ylabels))\n",
    "ylabels.shape"
   ]
  },
  {
   "cell_type": "code",
   "execution_count": 16,
   "metadata": {
    "collapsed": true
   },
   "outputs": [],
   "source": [
    "from keras.preprocessing import image\n",
    "def read_img(img_path):\n",
    "    img = image.load_img(img_path,target_size=(400,400,3))\n",
    "    arr=image.img_to_array(img)\n",
    "    return arr/255"
   ]
  },
  {
   "cell_type": "code",
   "execution_count": 17,
   "metadata": {
    "collapsed": true
   },
   "outputs": [],
   "source": [
    "def crop_read_img(img_path):\n",
    "    img = image.load_img(img_path,target_size=(400,400,3))\n",
    "    arr=image.img_to_array(img)\n",
    "    return arr/255"
   ]
  },
  {
   "cell_type": "code",
   "execution_count": 22,
   "metadata": {},
   "outputs": [
    {
     "name": "stderr",
     "output_type": "stream",
     "text": [
      "100%|██████████| 10222/10222 [01:01<00:00, 166.48it/s]\n"
     ]
    }
   ],
   "source": [
    "trainimages=[]\n",
    "for img_path in tqdm(train['id'].values):\n",
    "        trainimages.append(read_img(\"/home/sainathb/dog breed files/Image_Classification/train/\"+ img_path+\".jpg\"))"
   ]
  },
  {
   "cell_type": "code",
   "execution_count": 23,
   "metadata": {
    "collapsed": true
   },
   "outputs": [],
   "source": [
    "trainimages=np.array(trainimages)"
   ]
  },
  {
   "cell_type": "code",
   "execution_count": 24,
   "metadata": {},
   "outputs": [
    {
     "name": "stderr",
     "output_type": "stream",
     "text": [
      "100%|██████████| 10222/10222 [00:48<00:00, 212.59it/s]\n"
     ]
    }
   ],
   "source": [
    "croptrainimages=[]\n",
    "for img_path in tqdm(train['id'].values):\n",
    "        croptrainimages.append(crop_read_img(\"/home/sainathb/dog breed files/Image_Classification/traincopy/train/\"+ img_path+\".jpg\"))"
   ]
  },
  {
   "cell_type": "code",
   "execution_count": 25,
   "metadata": {
    "collapsed": true
   },
   "outputs": [],
   "source": [
    "croptrainimages=np.array(croptrainimages)"
   ]
  },
  {
   "cell_type": "code",
   "execution_count": 26,
   "metadata": {
    "collapsed": true
   },
   "outputs": [],
   "source": [
    "from sklearn.model_selection import train_test_split\n",
    "X_train, X_test, y_train, y_test = train_test_split(trainimages,ylabels, test_size=0.1,shuffle=True)"
   ]
  },
  {
   "cell_type": "code",
   "execution_count": null,
   "metadata": {
    "collapsed": true
   },
   "outputs": [],
   "source": [
    "from sklearn.model_selection import train_test_split\n",
    "cX_train,cX_test, cy_train, cy_test = train_test_split(croptrainimages,ylabels, test_size=0.1,shuffle=True)"
   ]
  },
  {
   "cell_type": "code",
   "execution_count": 20,
   "metadata": {
    "collapsed": true
   },
   "outputs": [],
   "source": [
    "from keras.applications.inception_resnet_v2 import InceptionResNetV2\n",
    "\n",
    "base_model1= keras.applications.xception.Xception(include_top=False, weights='imagenet',input_shape=(400,400,3),pooling='avg')\n",
    "\n",
    "base_model2= keras.applications.inception_v3.InceptionV3(include_top=False, weights='imagenet',input_shape=(400,400,3),pooling='avg')\n",
    "\n",
    "base_model3 =InceptionResNetV2(include_top=False , weights='imagenet',input_shape=(400,400,3),pooling='avg')\n"
   ]
  },
  {
   "cell_type": "code",
   "execution_count": null,
   "metadata": {},
   "outputs": [
    {
     "name": "stdout",
     "output_type": "stream",
     "text": [
      "(9199, 2048)\n"
     ]
    }
   ],
   "source": [
    "xpreds=base_model1.predict(x=X_train,batch_size=10)\n",
    "print(xpreds.shape)\n",
    "ipreds=base_model2.predict(x=X_train,batch_size=100)\n",
    "print(ipreds.shape)\n",
    "irpreds=base_model3.predict(x=X_train,batch_size=100)\n",
    "print(irpreds.shape)"
   ]
  },
  {
   "cell_type": "code",
   "execution_count": null,
   "metadata": {
    "collapsed": true
   },
   "outputs": [],
   "source": [
    "Xtrain=np.concatenate([irpreds,ipreds,xpreds],axis=-1)\n",
    "Xtrain.shape"
   ]
  },
  {
   "cell_type": "code",
   "execution_count": null,
   "metadata": {
    "collapsed": true
   },
   "outputs": [],
   "source": [
    "xfpreds=base_model1.predict(x=np.flip(X_train,axis=2),batch_size=10)\n",
    "print(xfpreds.shape)\n",
    "ifpreds=base_model2.predict(x=np.flip(X_train,axis=2),batch_size=10)\n",
    "print(ifpreds.shape)\n",
    "irfpreds=base_model3.predict(x=np.flip(X_train,axis=2),batch_size=10)\n",
    "print(irfpreds.shape)"
   ]
  },
  {
   "cell_type": "code",
   "execution_count": null,
   "metadata": {
    "collapsed": true
   },
   "outputs": [],
   "source": [
    "Xftrain=np.concatenate([irfpreds,ifpreds,xfpreds],axis=-1)\n",
    "Xftrain.shape"
   ]
  },
  {
   "cell_type": "code",
   "execution_count": null,
   "metadata": {
    "collapsed": true
   },
   "outputs": [],
   "source": [
    "cxpreds=base_model1.predict(x=cX_train,batch_size=100)\n",
    "print(cxpreds.shape)\n",
    "cipreds=base_model2.predict(x=cX_train,batch_size=100)\n",
    "print(cipreds.shape)\n",
    "cirpreds=base_model3.predict(x=cX_train,batch_size=100)\n",
    "print(cirpreds.shape)"
   ]
  },
  {
   "cell_type": "code",
   "execution_count": null,
   "metadata": {
    "collapsed": true
   },
   "outputs": [],
   "source": [
    "cXtrain=np.concatenate([cirpreds,cipreds,cxpreds],axis=-1)\n",
    "cXtrain.shape"
   ]
  },
  {
   "cell_type": "code",
   "execution_count": null,
   "metadata": {
    "collapsed": true
   },
   "outputs": [],
   "source": [
    "cxfpreds=base_model1.predict(x=np.flip(cX_train,axis=2),batch_size=100)\n",
    "print(cxfpreds.shape)\n",
    "cifpreds=base_model2.predict(x=np.flip(cX_train,axis=2),batch_size=100)\n",
    "print(cifpreds.shape)\n",
    "cirfpreds=base_model3.predict(x=np.flip(cX_train,axis=2),batch_size=100)\n",
    "print(cirfpreds.shape)"
   ]
  },
  {
   "cell_type": "code",
   "execution_count": null,
   "metadata": {
    "collapsed": true
   },
   "outputs": [],
   "source": [
    "cXftrain=np.concatenate([cirfpreds,cifpreds,cxfpreds],axis=-1)\n",
    "cXftrain.shape"
   ]
  },
  {
   "cell_type": "code",
   "execution_count": null,
   "metadata": {
    "collapsed": true
   },
   "outputs": [],
   "source": [
    "txpreds=base_model1.predict(x=X_test,batch_size=10)\n",
    "tipreds=base_model2.predict(x=X_test,batch_size=100)\n",
    "tirpreds=base_model3.predict(x=X_test,batch_size=100)\n",
    "\n",
    "txfpreds=base_model1.predict(x=np.flip(X_test,axis=2),batch_size=50)\n",
    "tifpreds=base_model2.predict(x=np.flip(X_test,axis=2),batch_size=50)\n",
    "tirfpreds=base_model3.predict(x=np.flip(X_test,axis=2),batch_size=50)"
   ]
  },
  {
   "cell_type": "code",
   "execution_count": null,
   "metadata": {
    "collapsed": true
   },
   "outputs": [],
   "source": [
    "Xtest=np.concatenate([tirpreds,tipreds,txpreds],axis=-1)\n",
    "Xtest.shape"
   ]
  },
  {
   "cell_type": "code",
   "execution_count": null,
   "metadata": {
    "collapsed": true
   },
   "outputs": [],
   "source": [
    "Xftest=np.concatenate([tirfpreds,tifpreds,txfpreds],axis=-1)\n",
    "Xftest.shape"
   ]
  },
  {
   "cell_type": "code",
   "execution_count": null,
   "metadata": {
    "collapsed": true
   },
   "outputs": [],
   "source": [
    "ctxpreds=base_model1.predict(x=cX_test,batch_size=10)\n",
    "ctipreds=base_model2.predict(x=cX_test,batch_size=100)\n",
    "ctirpreds=base_model3.predict(x=cX_test,batch_size=100)\n",
    "\n"
   ]
  },
  {
   "cell_type": "code",
   "execution_count": null,
   "metadata": {
    "collapsed": true
   },
   "outputs": [],
   "source": [
    "ctxfpreds=base_model1.predict(x=np.flip(cX_test,axis=2),batch_size=50)\n",
    "ctifpreds=base_model2.predict(x=np.flip(cX_test,axis=2),batch_size=50)\n",
    "ctirfpreds=base_model3.predict(x=np.flip(cX_test,axis=2),batch_size=50)"
   ]
  },
  {
   "cell_type": "code",
   "execution_count": null,
   "metadata": {
    "collapsed": true
   },
   "outputs": [],
   "source": [
    "cXtest=np.concatenate([ctirpreds,ctipreds,ctxpreds],axis=-1)\n",
    "cXtest.shape"
   ]
  },
  {
   "cell_type": "code",
   "execution_count": null,
   "metadata": {
    "collapsed": true
   },
   "outputs": [],
   "source": [
    "cXftest=np.concatenate([ctirfpreds,ctifpreds,ctxfpreds],axis=-1)\n",
    "cXftest.shape"
   ]
  },
  {
   "cell_type": "code",
   "execution_count": null,
   "metadata": {
    "collapsed": true
   },
   "outputs": [],
   "source": [
    "def mymodel():\n",
    "    model = Sequential()\n",
    "    model.add(Dense(2048,input_shape=(5632,)))\n",
    "    model.add(Activation('relu'))\n",
    "    model.add(Dense(120))\n",
    "    model.add(Activation('softmax'))\n",
    "    return model"
   ]
  },
  {
   "cell_type": "code",
   "execution_count": null,
   "metadata": {
    "collapsed": true
   },
   "outputs": [],
   "source": [
    "callbacks1=keras.callbacks.ModelCheckpoint('modela.h5', monitor='val_loss', verbose=1, save_best_only=True, save_weights_only=True, mode='auto', period=1)\n",
    "callbacks2=keras.callbacks.ModelCheckpoint('modelb.h5', monitor='val_loss', verbose=1, save_best_only=True, save_weights_only=True, mode='auto', period=1)\n",
    "callbacks3=keras.callbacks.ModelCheckpoint('modelc.h5', monitor='val_loss', verbose=1, save_best_only=True, save_weights_only=True, mode='auto', period=1)\n",
    "callbacks4=keras.callbacks.ModelCheckpoint('modeld.h5', monitor='val_loss', verbose=1, save_best_only=True, save_weights_only=True, mode='auto', period=1)"
   ]
  },
  {
   "cell_type": "code",
   "execution_count": null,
   "metadata": {
    "collapsed": true,
    "scrolled": true
   },
   "outputs": [],
   "source": [
    "model1=mymodel()\n",
    "model1.compile(loss='categorical_crossentropy', optimizer='sgd', metrics=['accuracy'])\n",
    "model1.fit(Xtrain,y_train, epochs=150,batch_size=150, shuffle=True,verbose=1,validation_data=(Xtest,y_test),callbacks=[callbacks1])"
   ]
  },
  {
   "cell_type": "code",
   "execution_count": null,
   "metadata": {
    "collapsed": true,
    "scrolled": true
   },
   "outputs": [],
   "source": [
    "model2=mymodel()\n",
    "model2.compile(loss='categorical_crossentropy', optimizer='sgd', metrics=['accuracy'])\n",
    "model2.fit(Xftrain,y_train, epochs=150,batch_size=150, shuffle=True,verbose=1,validation_data=(Xftest,y_test),callbacks=[callbacks2])\n",
    "   "
   ]
  },
  {
   "cell_type": "code",
   "execution_count": null,
   "metadata": {
    "collapsed": true,
    "scrolled": true
   },
   "outputs": [],
   "source": [
    "model3=mymodel()\n",
    "model3.compile(loss='categorical_crossentropy', optimizer='sgd', metrics=['accuracy'])\n",
    "model3.fit(cXtrain,cy_train, epochs=100,batch_size=150, shuffle=True,verbose=1,validation_data=(cXtest,cy_test),callbacks=[callbacks3])"
   ]
  },
  {
   "cell_type": "code",
   "execution_count": null,
   "metadata": {
    "collapsed": true
   },
   "outputs": [],
   "source": [
    "model4=mymodel()\n",
    "model4.compile(loss='categorical_crossentropy', optimizer='sgd', metrics=['accuracy'])\n",
    "model4.fit(cXftrain,cy_train, epochs=100,batch_size=150, shuffle=True,verbose=1,validation_data=(cXftest,cy_test),callbacks=[callbacks4])"
   ]
  },
  {
   "cell_type": "code",
   "execution_count": null,
   "metadata": {
    "collapsed": true
   },
   "outputs": [],
   "source": [
    "from tqdm import tqdm\n",
    "import cv2\n",
    "test=pd.read_csv(\"/home/sainathb/dog breed files/Image_Classification/sample_submission.csv\")\n",
    "xtest=[]\n",
    "for img_path in tqdm(test['id'].values):\n",
    "        xtest.append(read_img(\"/home/sainathb/dog breed files/Image_Classification/test/\"+ img_path+\".jpg\"))\n",
    "xtest=np.array(xtest)"
   ]
  },
  {
   "cell_type": "code",
   "execution_count": null,
   "metadata": {
    "collapsed": true
   },
   "outputs": [],
   "source": [
    "cxtest=[]\n",
    "for img_path in tqdm(test['id'].values):\n",
    "        cxtest.append(crop_read_img(\"/home/sainathb/dog breed files/Image_Classification/testcopy/\"+ img_path+\".jpg\"))\n",
    "cxtest=np.array(cxtest)"
   ]
  },
  {
   "cell_type": "code",
   "execution_count": null,
   "metadata": {
    "collapsed": true
   },
   "outputs": [],
   "source": [
    "model1.load_weights('./model11.h5')\n",
    "model2.load_weights('./model21.h5')"
   ]
  },
  {
   "cell_type": "code",
   "execution_count": null,
   "metadata": {
    "collapsed": true
   },
   "outputs": [],
   "source": [
    "pxpreds=base_model1.predict(x=xtest,batch_size=100)\n",
    "pipreds=base_model2.predict(x=xtest,batch_size=100)\n",
    "pirpreds=base_model3.predict(x=xtest,batch_size=100)\n"
   ]
  },
  {
   "cell_type": "code",
   "execution_count": null,
   "metadata": {
    "collapsed": true
   },
   "outputs": [],
   "source": [
    "pXtest=np.concatenate([pirpreds,pipreds,pxpreds],axis=-1)\n",
    "pXtest.shape"
   ]
  },
  {
   "cell_type": "code",
   "execution_count": null,
   "metadata": {
    "collapsed": true
   },
   "outputs": [],
   "source": [
    "pxfpreds=base_model1.predict(x=np.flip(xtest,axis=2),batch_size=50)\n",
    "pifpreds=base_model2.predict(x=np.flip(xtest,axis=2),batch_size=50)\n",
    "pirfpreds=base_model3.predict(x=np.flip(xtest,axis=2),batch_size=50)"
   ]
  },
  {
   "cell_type": "code",
   "execution_count": null,
   "metadata": {
    "collapsed": true
   },
   "outputs": [],
   "source": [
    "pXftest=np.concatenate([pirfpreds,pifpreds,pxfpreds],axis=-1)\n",
    "pXftest.shape"
   ]
  },
  {
   "cell_type": "code",
   "execution_count": null,
   "metadata": {
    "collapsed": true
   },
   "outputs": [],
   "source": [
    "cpxpreds=base_model1.predict(x=cxtest,batch_size=100)\n",
    "cpipreds=base_model2.predict(x=cxtest,batch_size=100)\n",
    "cpirpreds=base_model3.predict(x=cxtest,batch_size=100)"
   ]
  },
  {
   "cell_type": "code",
   "execution_count": null,
   "metadata": {
    "collapsed": true
   },
   "outputs": [],
   "source": [
    "cpXtest=np.concatenate([cpirpreds,cpipreds,cpxpreds],axis=-1)\n",
    "cpXtest.shape"
   ]
  },
  {
   "cell_type": "code",
   "execution_count": null,
   "metadata": {
    "collapsed": true
   },
   "outputs": [],
   "source": [
    "cpxfpreds=base_model1.predict(x=np.flip(cxtest,axis=2),batch_size=50)\n",
    "cpifpreds=base_model2.predict(x=np.flip(cxtest,axis=2),batch_size=50)\n",
    "cpirfpreds=base_model3.predict(x=np.flip(cxtest,axis=2),batch_size=50)"
   ]
  },
  {
   "cell_type": "code",
   "execution_count": null,
   "metadata": {
    "collapsed": true
   },
   "outputs": [],
   "source": [
    "cpXftest=np.concatenate([cpirfpreds,cpifpreds,cpxfpreds],axis=-1)\n",
    "cpXftest.shape"
   ]
  },
  {
   "cell_type": "code",
   "execution_count": null,
   "metadata": {
    "collapsed": true
   },
   "outputs": [],
   "source": [
    "model1.load_weights('modela.h5')\n",
    "model2.load_weights('modelb.h5')\n",
    "model3.load_weights('modelc.h5')\n",
    "model4.load_weights('modeld.h5')"
   ]
  },
  {
   "cell_type": "code",
   "execution_count": null,
   "metadata": {
    "collapsed": true
   },
   "outputs": [],
   "source": [
    "a=model1.predict(pXtest)\n",
    "b=model2.predict(pXftest)\n",
    "c=model3.predict(cpXtest)\n",
    "d=model4.predict(cpXftest)"
   ]
  },
  {
   "cell_type": "code",
   "execution_count": null,
   "metadata": {
    "collapsed": true
   },
   "outputs": [],
   "source": [
    "e=(a+b+c+d)/2"
   ]
  },
  {
   "cell_type": "code",
   "execution_count": null,
   "metadata": {
    "collapsed": true
   },
   "outputs": [],
   "source": [
    "e.shape"
   ]
  },
  {
   "cell_type": "code",
   "execution_count": null,
   "metadata": {
    "collapsed": true
   },
   "outputs": [],
   "source": [
    "np.savetxt('zero3.csv',e, delimiter=',',fmt=\"%f\")"
   ]
  },
  {
   "cell_type": "code",
   "execution_count": 2,
   "metadata": {
    "collapsed": true
   },
   "outputs": [],
   "source": [
    "import pandas as pd\n",
    "df=pd.read_csv(\"/home/sainathb/dog breed files/zero3.csv\")\n",
    "               "
   ]
  },
  {
   "cell_type": "code",
   "execution_count": 3,
   "metadata": {
    "collapsed": true
   },
   "outputs": [],
   "source": [
    "df=df*2"
   ]
  },
  {
   "cell_type": "code",
   "execution_count": 4,
   "metadata": {
    "collapsed": true
   },
   "outputs": [],
   "source": [
    "df.to_csv('zero3.csv')\n"
   ]
  },
  {
   "cell_type": "code",
   "execution_count": null,
   "metadata": {
    "collapsed": true
   },
   "outputs": [],
   "source": [
    "model1.save_weights('normal.h5')\n",
    "model2.save_weights('normalf.h5')\n",
    "model3.save_weights('normalc.h5')\n",
    "model4.save_weights('normalcf.h5')"
   ]
  },
  {
   "cell_type": "code",
   "execution_count": null,
   "metadata": {
    "collapsed": true
   },
   "outputs": [],
   "source": [
    "import matplotlib.pyplot as plt\n",
    "from sklearn.metrics import confusion_matrix\n",
    "import seaborn as sns\n",
    "from pylab import rcParams\n",
    "rcParams['figure.figsize'] = 10, 10\n",
    "plt.style.use('ggplot')\n",
    "\n",
    "%matplotlib inline"
   ]
  },
  {
   "cell_type": "code",
   "execution_count": null,
   "metadata": {
    "collapsed": true
   },
   "outputs": [],
   "source": [
    "preds=np.argmax(c,1)"
   ]
  },
  {
   "cell_type": "code",
   "execution_count": null,
   "metadata": {
    "collapsed": true
   },
   "outputs": [],
   "source": [
    "y=np.array(y_test)"
   ]
  },
  {
   "cell_type": "code",
   "execution_count": null,
   "metadata": {
    "collapsed": true
   },
   "outputs": [],
   "source": [
    "y=np.argmax(y,1)"
   ]
  },
  {
   "cell_type": "code",
   "execution_count": null,
   "metadata": {
    "collapsed": true
   },
   "outputs": [],
   "source": [
    "breeds=np.unique(train['breed'].values)"
   ]
  },
  {
   "cell_type": "code",
   "execution_count": null,
   "metadata": {
    "collapsed": true
   },
   "outputs": [],
   "source": [
    "pr=[]\n",
    "for i in preds:\n",
    "    pr.append(breeds[i])"
   ]
  },
  {
   "cell_type": "code",
   "execution_count": null,
   "metadata": {
    "collapsed": true
   },
   "outputs": [],
   "source": [
    "pr1=[]\n",
    "for i in y:\n",
    "    pr1.append(breeds[i])"
   ]
  },
  {
   "cell_type": "code",
   "execution_count": null,
   "metadata": {
    "collapsed": true
   },
   "outputs": [],
   "source": [
    "cm=confusion_matrix(pr1,pr,labels=breeds)"
   ]
  },
  {
   "cell_type": "code",
   "execution_count": null,
   "metadata": {
    "collapsed": true
   },
   "outputs": [],
   "source": [
    "fig, ax = plt.subplots(figsize=(18, 18))\n",
    "_ = sns.heatmap(cm, ax=ax, yticklabels=breeds, xticklabels=breeds, robust=True)"
   ]
  },
  {
   "cell_type": "code",
   "execution_count": null,
   "metadata": {
    "collapsed": true
   },
   "outputs": [],
   "source": [
    "pr1=np.array(pr1)\n",
    "pr1.shape\n",
    "pr1=pr1.reshape(2045,1)"
   ]
  },
  {
   "cell_type": "code",
   "execution_count": null,
   "metadata": {
    "collapsed": true
   },
   "outputs": [],
   "source": [
    "pr=np.array(pr)\n",
    "pr=pr.reshape(2045,1)"
   ]
  },
  {
   "cell_type": "code",
   "execution_count": null,
   "metadata": {
    "collapsed": true
   },
   "outputs": [],
   "source": [
    "x=np.concatenate((pr1,pr),axis=1)"
   ]
  },
  {
   "cell_type": "code",
   "execution_count": null,
   "metadata": {
    "collapsed": true
   },
   "outputs": [],
   "source": [
    "x.shape"
   ]
  },
  {
   "cell_type": "code",
   "execution_count": null,
   "metadata": {
    "collapsed": true
   },
   "outputs": [],
   "source": [
    "np.savetxt(\"somefile.csv\",x,fmt=\"%s\",header=\"actual,pred,count\",delimiter=',',comments='')"
   ]
  },
  {
   "cell_type": "code",
   "execution_count": null,
   "metadata": {
    "collapsed": true
   },
   "outputs": [],
   "source": [
    "df=pd.read_csv(\"somefile.csv\")"
   ]
  },
  {
   "cell_type": "code",
   "execution_count": null,
   "metadata": {
    "collapsed": true
   },
   "outputs": [],
   "source": [
    "df['count'] = 1"
   ]
  },
  {
   "cell_type": "code",
   "execution_count": null,
   "metadata": {
    "collapsed": true
   },
   "outputs": [],
   "source": [
    "\n",
    "misclass_df = df[df['actual'] != df['pred']].groupby(['actual', 'pred']).sum().sort_values(['count'], ascending=False).reset_index()\n",
    "misclass_df['pair'] = misclass_df['actual'] + ' / ' + misclass_df['pred']\n",
    "misclass_df = misclass_df[['pair', 'count']].take(range(30))\n",
    "\n",
    "misclass_df.sort_values(['count']).plot.barh(figsize=(8, 10), x=misclass_df['pair'])\n",
    "\n"
   ]
  },
  {
   "cell_type": "code",
   "execution_count": null,
   "metadata": {
    "collapsed": true
   },
   "outputs": [],
   "source": [
    "np.savetxt('irix.csv', p, delimiter=',',fmt=\"%f\") "
   ]
  },
  {
   "cell_type": "code",
   "execution_count": null,
   "metadata": {
    "collapsed": true
   },
   "outputs": [],
   "source": [
    "from tqdm import tqdm\n",
    "import cv2\n",
    "test=pd.read_csv(\"/home/sainathb/Image_Classification/sample_submission.csv\")\n",
    "xtest=[]\n",
    "for img_path in tqdm(test['id'].values):\n",
    "        xtest.append(read_img(\"/home/sainathb/Image_Classification/test/\"+ img_path+\".jpg\"))\n",
    "xtest=np.array(xtest)"
   ]
  },
  {
   "cell_type": "code",
   "execution_count": null,
   "metadata": {
    "collapsed": true
   },
   "outputs": [],
   "source": [
    "base_model4=keras.applications.nasnet.NASNetLarge(input_shape=None, include_top=True, weights='imagenet', input_tensor=None, pooling=None, classes=1000)(include_top=False, weights='imagenet', input_tensor=None, input_shape=None, pooling='avg')"
   ]
  },
  {
   "cell_type": "code",
   "execution_count": null,
   "metadata": {
    "collapsed": true
   },
   "outputs": [],
   "source": []
  },
  {
   "cell_type": "code",
   "execution_count": null,
   "metadata": {
    "collapsed": true
   },
   "outputs": [],
   "source": []
  }
 ],
 "metadata": {
  "celltoolbar": "Raw Cell Format",
  "kernelspec": {
   "display_name": "Python 3",
   "language": "python",
   "name": "python3"
  },
  "language_info": {
   "codemirror_mode": {
    "name": "ipython",
    "version": 3
   },
   "file_extension": ".py",
   "mimetype": "text/x-python",
   "name": "python",
   "nbconvert_exporter": "python",
   "pygments_lexer": "ipython3",
   "version": "3.6.3"
  }
 },
 "nbformat": 4,
 "nbformat_minor": 2
}
