{
 "cells": [
  {
   "cell_type": "code",
   "execution_count": 1,
   "metadata": {},
   "outputs": [
    {
     "name": "stderr",
     "output_type": "stream",
     "text": [
      "Using TensorFlow backend.\n"
     ]
    }
   ],
   "source": [
    "import cv2\n",
    "import pandas as pd\n",
    "import numpy as np\n",
    "from tqdm import tqdm\n",
    "import tensorflow as tf\n",
    "config = tf.ConfigProto()\n",
    "config.gpu_options.allow_growth = True\n",
    "session = tf.Session(config=config)\n",
    "from keras.backend.tensorflow_backend import set_session\n",
    "set_session(tf.Session(config=config))\n",
    "#import keras\n",
    "from keras import backend as K\n",
    "K.set_image_dim_ordering('tf')\n",
    "from keras.models import Model\n",
    "import numpy as np\n",
    "from keras.applications.imagenet_utils import preprocess_input\n",
    "from keras.preprocessing import image\n",
    "from matplotlib.pyplot import imshow\n",
    "import pandas as pd\n",
    "from keras.models import Sequential\n",
    "from keras.layers import Dense, Dropout, Flatten,Activation, Conv2D, MaxPooling2D,BatchNormalization,GlobalAveragePooling2D\n",
    "from keras.callbacks import EarlyStopping\n",
    "from keras.utils import to_categorical\n",
    "\n",
    "import keras\n",
    "import numpy as np\n",
    "from keras.preprocessing.image import ImageDataGenerator\n"
   ]
  },
  {
   "cell_type": "code",
   "execution_count": 2,
   "metadata": {
    "collapsed": true
   },
   "outputs": [],
   "source": [
    "train=pd.read_csv(\"/home/sainathb/dog breed files/Image_Classification/labels.csv\")"
   ]
  },
  {
   "cell_type": "code",
   "execution_count": 3,
   "metadata": {
    "collapsed": true
   },
   "outputs": [],
   "source": [
    "ylabels=train['breed']"
   ]
  },
  {
   "cell_type": "code",
   "execution_count": 4,
   "metadata": {},
   "outputs": [
    {
     "data": {
      "text/plain": [
       "(10222, 120)"
      ]
     },
     "execution_count": 4,
     "metadata": {},
     "output_type": "execute_result"
    }
   ],
   "source": [
    "ylabels=np.array(pd.get_dummies(ylabels))\n",
    "ylabels.shape"
   ]
  },
  {
   "cell_type": "code",
   "execution_count": 5,
   "metadata": {
    "collapsed": true
   },
   "outputs": [],
   "source": [
    "from keras.preprocessing import image\n",
    "def read_img(img_path):\n",
    "    img = image.load_img(img_path,target_size=(400,400,3))\n",
    "    arr=image.img_to_array(img)\n",
    "    return arr/255"
   ]
  },
  {
   "cell_type": "code",
   "execution_count": 6,
   "metadata": {
    "collapsed": true
   },
   "outputs": [],
   "source": [
    "def crop_read_img(img_path):\n",
    "    img = image.load_img(img_path,target_size=(400,400,3))\n",
    "    arr=image.img_to_array(img)\n",
    "    return arr/255"
   ]
  },
  {
   "cell_type": "code",
   "execution_count": 7,
   "metadata": {},
   "outputs": [
    {
     "name": "stderr",
     "output_type": "stream",
     "text": [
      "100%|██████████| 10222/10222 [01:22<00:00, 123.87it/s]\n"
     ]
    }
   ],
   "source": [
    "trainimages=[]\n",
    "for img_path in tqdm(train['id'].values):\n",
    "        trainimages.append(read_img(\"/home/sainathb/dog breed files/Image_Classification/train/\"+ img_path+\".jpg\"))"
   ]
  },
  {
   "cell_type": "code",
   "execution_count": 10,
   "metadata": {
    "collapsed": true
   },
   "outputs": [],
   "source": [
    "trainimages=np.array(trainimages)"
   ]
  },
  {
   "cell_type": "code",
   "execution_count": 11,
   "metadata": {},
   "outputs": [],
   "source": [
    "from sklearn.model_selection import StratifiedShuffleSplit\n",
    "sss = StratifiedShuffleSplit(n_splits=1, test_size=0.1, random_state=5)\n",
    "for train_index, test_index in sss.split(trainimages,ylabels):\n",
    "        X_train,X_test = trainimages[train_index], trainimages[test_index]\n",
    "        y_train, y_test = ylabels[train_index], ylabels[test_index]"
   ]
  },
  {
   "cell_type": "code",
   "execution_count": 12,
   "metadata": {
    "collapsed": true
   },
   "outputs": [],
   "source": [
    "from keras.applications.inception_resnet_v2 import InceptionResNetV2\n",
    "\n",
    "base_model1= keras.applications.xception.Xception(include_top=False, weights='imagenet',input_shape=(400,400,3),pooling='avg')\n",
    "\n",
    "base_model2= keras.applications.inception_v3.InceptionV3(include_top=False, weights='imagenet',input_shape=(400,400,3),pooling='avg')\n",
    "\n",
    "base_model3 =InceptionResNetV2(include_top=False , weights='imagenet',input_shape=(400,400,3),pooling='avg')\n"
   ]
  },
  {
   "cell_type": "code",
   "execution_count": 13,
   "metadata": {},
   "outputs": [
    {
     "name": "stdout",
     "output_type": "stream",
     "text": [
      "(9199, 2048)\n",
      "(9199, 2048)\n",
      "(9199, 1536)\n"
     ]
    }
   ],
   "source": [
    "xpreds=base_model1.predict(x=X_train,batch_size=50)\n",
    "print(xpreds.shape)\n",
    "ipreds=base_model2.predict(x=X_train,batch_size=50)\n",
    "print(ipreds.shape)\n",
    "irpreds=base_model3.predict(x=X_train,batch_size=50)\n",
    "print(irpreds.shape)"
   ]
  },
  {
   "cell_type": "code",
   "execution_count": 14,
   "metadata": {},
   "outputs": [
    {
     "data": {
      "text/plain": [
       "(9199, 5632)"
      ]
     },
     "execution_count": 14,
     "metadata": {},
     "output_type": "execute_result"
    }
   ],
   "source": [
    "Xtrain=np.concatenate([irpreds,ipreds,xpreds],axis=-1)\n",
    "Xtrain.shape"
   ]
  },
  {
   "cell_type": "code",
   "execution_count": 15,
   "metadata": {},
   "outputs": [
    {
     "name": "stdout",
     "output_type": "stream",
     "text": [
      "(9199, 2048)\n",
      "(9199, 2048)\n",
      "(9199, 1536)\n"
     ]
    }
   ],
   "source": [
    "xfpreds=base_model1.predict(x=np.flip(X_train,axis=2),batch_size=10)\n",
    "print(xfpreds.shape)\n",
    "ifpreds=base_model2.predict(x=np.flip(X_train,axis=2),batch_size=10)\n",
    "print(ifpreds.shape)\n",
    "irfpreds=base_model3.predict(x=np.flip(X_train,axis=2),batch_size=10)\n",
    "print(irfpreds.shape)"
   ]
  },
  {
   "cell_type": "code",
   "execution_count": 16,
   "metadata": {},
   "outputs": [
    {
     "data": {
      "text/plain": [
       "(9199, 5632)"
      ]
     },
     "execution_count": 16,
     "metadata": {},
     "output_type": "execute_result"
    }
   ],
   "source": [
    "Xftrain=np.concatenate([irfpreds,ifpreds,xfpreds],axis=-1)\n",
    "Xftrain.shape"
   ]
  },
  {
   "cell_type": "code",
   "execution_count": 17,
   "metadata": {
    "collapsed": true
   },
   "outputs": [],
   "source": [
    "txpreds=base_model1.predict(x=X_test,batch_size=30)\n",
    "tipreds=base_model2.predict(x=X_test,batch_size=30)\n",
    "tirpreds=base_model3.predict(x=X_test,batch_size=30)"
   ]
  },
  {
   "cell_type": "code",
   "execution_count": 18,
   "metadata": {
    "collapsed": true
   },
   "outputs": [],
   "source": [
    "txfpreds=base_model1.predict(x=np.flip(X_test,axis=2),batch_size=50)\n",
    "tifpreds=base_model2.predict(x=np.flip(X_test,axis=2),batch_size=50)\n",
    "tirfpreds=base_model3.predict(x=np.flip(X_test,axis=2),batch_size=50)"
   ]
  },
  {
   "cell_type": "code",
   "execution_count": 19,
   "metadata": {},
   "outputs": [
    {
     "data": {
      "text/plain": [
       "(1023, 5632)"
      ]
     },
     "execution_count": 19,
     "metadata": {},
     "output_type": "execute_result"
    }
   ],
   "source": [
    "Xtest=np.concatenate([tirpreds,tipreds,txpreds],axis=-1)\n",
    "Xtest.shape"
   ]
  },
  {
   "cell_type": "code",
   "execution_count": 20,
   "metadata": {},
   "outputs": [
    {
     "data": {
      "text/plain": [
       "(1023, 5632)"
      ]
     },
     "execution_count": 20,
     "metadata": {},
     "output_type": "execute_result"
    }
   ],
   "source": [
    "Xftest=np.concatenate([tirfpreds,tifpreds,txfpreds],axis=-1)\n",
    "Xftest.shape"
   ]
  },
  {
   "cell_type": "code",
   "execution_count": 26,
   "metadata": {
    "collapsed": true
   },
   "outputs": [],
   "source": [
    "def mymodel():\n",
    "    model = Sequential()\n",
    "    model.add(Dense(2048,input_shape=(5632,)))\n",
    "    model.add(Activation('elu'))\n",
    "    model.add(Dropout(0.5))\n",
    "    model.add(Dense(120))\n",
    "    model.add(Activation('softmax'))\n",
    "    return model"
   ]
  },
  {
   "cell_type": "code",
   "execution_count": 95,
   "metadata": {
    "collapsed": true
   },
   "outputs": [],
   "source": [
    "callbacks1=keras.callbacks.ModelCheckpoint('mod1.h5', monitor='val_loss', verbose=1, save_best_only=True, save_weights_only=True, mode='auto', period=1)\n",
    "callbacks2=keras.callbacks.ModelCheckpoint('mod2.h5', monitor='val_loss', verbose=1, save_best_only=True, save_weights_only=True, mode='auto', period=1)"
   ]
  },
  {
   "cell_type": "code",
   "execution_count": 98,
   "metadata": {
    "collapsed": true
   },
   "outputs": [],
   "source": [
    "tensor1=keras.callbacks.TensorBoard(log_dir='./dog breed files/logs/model1/', histogram_freq=0, batch_size=120, write_graph=True, write_grads=False, write_images=False, embeddings_freq=0, embeddings_layer_names=None, embeddings_metadata=None)\n",
    "tensor2=keras.callbacks.TensorBoard(log_dir='./dog breed files/logs/model2', histogram_freq=0, batch_size=120, write_graph=True, write_grads=False, write_images=False, embeddings_freq=0, embeddings_layer_names=None, embeddings_metadata=None)"
   ]
  },
  {
   "cell_type": "code",
   "execution_count": 103,
   "metadata": {
    "scrolled": true
   },
   "outputs": [
    {
     "name": "stdout",
     "output_type": "stream",
     "text": [
      "Train on 9199 samples, validate on 1023 samples\n",
      "Epoch 1/100\n",
      "9199/9199 [==============================] - 2s 193us/step - loss: 0.9574 - acc: 0.8019 - val_loss: 0.1903 - val_acc: 0.9326\n",
      "\n",
      "Epoch 00001: val_loss did not improve\n",
      "Epoch 2/100\n",
      "9199/9199 [==============================] - 1s 155us/step - loss: 0.1929 - acc: 0.9374 - val_loss: 0.1766 - val_acc: 0.9394\n",
      "\n",
      "Epoch 00002: val_loss did not improve\n",
      "Epoch 3/100\n",
      "9199/9199 [==============================] - 1s 154us/step - loss: 0.1553 - acc: 0.9477 - val_loss: 0.1665 - val_acc: 0.9492\n",
      "\n",
      "Epoch 00003: val_loss did not improve\n",
      "Epoch 4/100\n",
      "9199/9199 [==============================] - 1s 150us/step - loss: 0.1371 - acc: 0.9551 - val_loss: 0.1576 - val_acc: 0.9501\n",
      "\n",
      "Epoch 00004: val_loss did not improve\n",
      "Epoch 5/100\n",
      "9199/9199 [==============================] - 1s 161us/step - loss: 0.1278 - acc: 0.9574 - val_loss: 0.1624 - val_acc: 0.9472\n",
      "\n",
      "Epoch 00005: val_loss did not improve\n",
      "Epoch 6/100\n",
      "9199/9199 [==============================] - 1s 151us/step - loss: 0.1208 - acc: 0.9609 - val_loss: 0.1571 - val_acc: 0.9541\n",
      "\n",
      "Epoch 00006: val_loss improved from 0.15728 to 0.15709, saving model to mod1.h5\n",
      "Epoch 7/100\n",
      "9199/9199 [==============================] - 1s 161us/step - loss: 0.1171 - acc: 0.9636 - val_loss: 0.1624 - val_acc: 0.9492\n",
      "\n",
      "Epoch 00007: val_loss did not improve\n",
      "Epoch 8/100\n",
      "9199/9199 [==============================] - 1s 151us/step - loss: 0.1094 - acc: 0.9664 - val_loss: 0.1568 - val_acc: 0.9531\n",
      "\n",
      "Epoch 00008: val_loss improved from 0.15709 to 0.15676, saving model to mod1.h5\n",
      "Epoch 9/100\n",
      "9199/9199 [==============================] - 1s 160us/step - loss: 0.1082 - acc: 0.9661 - val_loss: 0.1589 - val_acc: 0.9482\n",
      "\n",
      "Epoch 00009: val_loss did not improve\n",
      "Epoch 10/100\n",
      "9199/9199 [==============================] - 1s 158us/step - loss: 0.1028 - acc: 0.9684 - val_loss: 0.1595 - val_acc: 0.9531\n",
      "\n",
      "Epoch 00010: val_loss did not improve\n",
      "Epoch 11/100\n",
      "9199/9199 [==============================] - 1s 153us/step - loss: 0.1036 - acc: 0.9684 - val_loss: 0.1590 - val_acc: 0.9511\n",
      "\n",
      "Epoch 00011: val_loss did not improve\n",
      "Epoch 12/100\n",
      "9199/9199 [==============================] - 1s 149us/step - loss: 0.0974 - acc: 0.9715 - val_loss: 0.1601 - val_acc: 0.9492\n",
      "\n",
      "Epoch 00012: val_loss did not improve\n",
      "Epoch 13/100\n",
      "9199/9199 [==============================] - 1s 153us/step - loss: 0.0976 - acc: 0.9709 - val_loss: 0.1581 - val_acc: 0.9511\n",
      "\n",
      "Epoch 00013: val_loss did not improve\n",
      "Epoch 14/100\n",
      "9199/9199 [==============================] - 1s 155us/step - loss: 0.0966 - acc: 0.9714 - val_loss: 0.1586 - val_acc: 0.9521\n",
      "\n",
      "Epoch 00014: val_loss did not improve\n",
      "Epoch 15/100\n",
      "9199/9199 [==============================] - 1s 151us/step - loss: 0.0944 - acc: 0.9705 - val_loss: 0.1588 - val_acc: 0.9511\n",
      "\n",
      "Epoch 00015: val_loss did not improve\n",
      "Epoch 16/100\n",
      "9199/9199 [==============================] - 1s 158us/step - loss: 0.0932 - acc: 0.9723 - val_loss: 0.1583 - val_acc: 0.9521\n",
      "\n",
      "Epoch 00016: val_loss did not improve\n",
      "Epoch 17/100\n",
      "9199/9199 [==============================] - 1s 150us/step - loss: 0.0913 - acc: 0.9743 - val_loss: 0.1581 - val_acc: 0.9511\n",
      "\n",
      "Epoch 00017: val_loss did not improve\n",
      "Epoch 18/100\n",
      "9199/9199 [==============================] - 1s 153us/step - loss: 0.0907 - acc: 0.9733 - val_loss: 0.1580 - val_acc: 0.9501\n",
      "\n",
      "Epoch 00018: val_loss did not improve\n",
      "Epoch 19/100\n",
      "9199/9199 [==============================] - 1s 154us/step - loss: 0.0915 - acc: 0.9718 - val_loss: 0.1585 - val_acc: 0.9511\n",
      "\n",
      "Epoch 00019: val_loss did not improve\n",
      "Epoch 20/100\n",
      "9199/9199 [==============================] - 1s 156us/step - loss: 0.0914 - acc: 0.9725 - val_loss: 0.1594 - val_acc: 0.9511\n",
      "\n",
      "Epoch 00020: val_loss did not improve\n",
      "Epoch 21/100\n",
      "9199/9199 [==============================] - 1s 161us/step - loss: 0.0884 - acc: 0.9746 - val_loss: 0.1587 - val_acc: 0.9511\n",
      "\n",
      "Epoch 00021: val_loss did not improve\n",
      "Epoch 22/100\n",
      "9199/9199 [==============================] - 1s 157us/step - loss: 0.0888 - acc: 0.9727 - val_loss: 0.1587 - val_acc: 0.9521\n",
      "\n",
      "Epoch 00022: val_loss did not improve\n",
      "Epoch 23/100\n",
      "9199/9199 [==============================] - 1s 154us/step - loss: 0.0881 - acc: 0.9733 - val_loss: 0.1595 - val_acc: 0.9492\n",
      "\n",
      "Epoch 00023: val_loss did not improve\n",
      "Epoch 24/100\n",
      "9199/9199 [==============================] - 1s 151us/step - loss: 0.0868 - acc: 0.9746 - val_loss: 0.1591 - val_acc: 0.9492\n",
      "\n",
      "Epoch 00024: val_loss did not improve\n",
      "Epoch 25/100\n",
      "9199/9199 [==============================] - 1s 153us/step - loss: 0.0856 - acc: 0.9749 - val_loss: 0.1585 - val_acc: 0.9501\n",
      "\n",
      "Epoch 00025: val_loss did not improve\n",
      "Epoch 26/100\n",
      "9199/9199 [==============================] - 1s 157us/step - loss: 0.0848 - acc: 0.9738 - val_loss: 0.1582 - val_acc: 0.9501\n",
      "\n",
      "Epoch 00026: val_loss did not improve\n",
      "Epoch 27/100\n",
      "9199/9199 [==============================] - 1s 163us/step - loss: 0.0848 - acc: 0.9754 - val_loss: 0.1586 - val_acc: 0.9511\n",
      "\n",
      "Epoch 00027: val_loss did not improve\n",
      "Epoch 28/100\n",
      "9199/9199 [==============================] - 1s 152us/step - loss: 0.0855 - acc: 0.9752 - val_loss: 0.1586 - val_acc: 0.9521\n",
      "\n",
      "Epoch 00028: val_loss did not improve\n",
      "Epoch 29/100\n",
      "9199/9199 [==============================] - 1s 151us/step - loss: 0.0824 - acc: 0.9770 - val_loss: 0.1580 - val_acc: 0.9531\n",
      "\n",
      "Epoch 00029: val_loss did not improve\n",
      "Epoch 30/100\n",
      "9199/9199 [==============================] - 1s 158us/step - loss: 0.0824 - acc: 0.9772 - val_loss: 0.1594 - val_acc: 0.9501\n",
      "\n",
      "Epoch 00030: val_loss did not improve\n",
      "Epoch 31/100\n",
      "9199/9199 [==============================] - 1s 156us/step - loss: 0.0820 - acc: 0.9758 - val_loss: 0.1592 - val_acc: 0.9492\n",
      "\n",
      "Epoch 00031: val_loss did not improve\n",
      "Epoch 32/100\n",
      "9199/9199 [==============================] - 1s 156us/step - loss: 0.0842 - acc: 0.9758 - val_loss: 0.1586 - val_acc: 0.9501\n",
      "\n",
      "Epoch 00032: val_loss did not improve\n",
      "Epoch 33/100\n",
      "9199/9199 [==============================] - 1s 153us/step - loss: 0.0786 - acc: 0.9781 - val_loss: 0.1588 - val_acc: 0.9511\n",
      "\n",
      "Epoch 00033: val_loss did not improve\n",
      "Epoch 34/100\n",
      "9199/9199 [==============================] - 1s 153us/step - loss: 0.0798 - acc: 0.9783 - val_loss: 0.1596 - val_acc: 0.9492\n",
      "\n",
      "Epoch 00034: val_loss did not improve\n",
      "Epoch 35/100\n",
      "9199/9199 [==============================] - 1s 151us/step - loss: 0.0806 - acc: 0.9773 - val_loss: 0.1605 - val_acc: 0.9511\n",
      "\n",
      "Epoch 00035: val_loss did not improve\n",
      "Epoch 36/100\n",
      "9199/9199 [==============================] - 1s 150us/step - loss: 0.0793 - acc: 0.9791 - val_loss: 0.1601 - val_acc: 0.9521\n",
      "\n",
      "Epoch 00036: val_loss did not improve\n",
      "Epoch 37/100\n",
      "9199/9199 [==============================] - 1s 152us/step - loss: 0.0804 - acc: 0.9771 - val_loss: 0.1601 - val_acc: 0.9501\n",
      "\n",
      "Epoch 00037: val_loss did not improve\n",
      "Epoch 38/100\n",
      "9199/9199 [==============================] - 1s 162us/step - loss: 0.0785 - acc: 0.9776 - val_loss: 0.1599 - val_acc: 0.9482\n",
      "\n",
      "Epoch 00038: val_loss did not improve\n",
      "Epoch 39/100\n",
      "9199/9199 [==============================] - 1s 154us/step - loss: 0.0784 - acc: 0.9796 - val_loss: 0.1595 - val_acc: 0.9492\n",
      "\n",
      "Epoch 00039: val_loss did not improve\n",
      "Epoch 40/100\n",
      "9199/9199 [==============================] - 1s 162us/step - loss: 0.0779 - acc: 0.9776 - val_loss: 0.1597 - val_acc: 0.9501\n",
      "\n",
      "Epoch 00040: val_loss did not improve\n",
      "Epoch 41/100\n",
      "9199/9199 [==============================] - 1s 151us/step - loss: 0.0802 - acc: 0.9781 - val_loss: 0.1603 - val_acc: 0.9501\n",
      "\n",
      "Epoch 00041: val_loss did not improve\n",
      "Epoch 42/100\n",
      "9199/9199 [==============================] - 1s 155us/step - loss: 0.0779 - acc: 0.9787 - val_loss: 0.1607 - val_acc: 0.9501\n",
      "\n",
      "Epoch 00042: val_loss did not improve\n",
      "Epoch 43/100\n",
      "9199/9199 [==============================] - 1s 146us/step - loss: 0.0777 - acc: 0.9781 - val_loss: 0.1603 - val_acc: 0.9472\n",
      "\n",
      "Epoch 00043: val_loss did not improve\n",
      "Epoch 44/100\n",
      "9199/9199 [==============================] - 2s 164us/step - loss: 0.0789 - acc: 0.9780 - val_loss: 0.1601 - val_acc: 0.9501\n",
      "\n",
      "Epoch 00044: val_loss did not improve\n",
      "Epoch 45/100\n",
      "9199/9199 [==============================] - 1s 155us/step - loss: 0.0763 - acc: 0.9790 - val_loss: 0.1604 - val_acc: 0.9482\n",
      "\n",
      "Epoch 00045: val_loss did not improve\n",
      "Epoch 46/100\n",
      "9199/9199 [==============================] - 1s 156us/step - loss: 0.0774 - acc: 0.9789 - val_loss: 0.1608 - val_acc: 0.9492\n"
     ]
    },
    {
     "name": "stdout",
     "output_type": "stream",
     "text": [
      "\n",
      "Epoch 00046: val_loss did not improve\n",
      "Epoch 47/100\n",
      "9199/9199 [==============================] - 1s 156us/step - loss: 0.0779 - acc: 0.9778 - val_loss: 0.1604 - val_acc: 0.9482\n",
      "\n",
      "Epoch 00047: val_loss did not improve\n",
      "Epoch 48/100\n",
      "9199/9199 [==============================] - 1s 153us/step - loss: 0.0766 - acc: 0.9801 - val_loss: 0.1599 - val_acc: 0.9501\n",
      "\n",
      "Epoch 00048: val_loss did not improve\n",
      "Epoch 49/100\n",
      "9199/9199 [==============================] - 1s 155us/step - loss: 0.0757 - acc: 0.9795 - val_loss: 0.1601 - val_acc: 0.9492\n",
      "\n",
      "Epoch 00049: val_loss did not improve\n",
      "Epoch 50/100\n",
      "9199/9199 [==============================] - 1s 152us/step - loss: 0.0748 - acc: 0.9781 - val_loss: 0.1605 - val_acc: 0.9492\n",
      "\n",
      "Epoch 00050: val_loss did not improve\n",
      "Epoch 51/100\n",
      "9199/9199 [==============================] - 1s 158us/step - loss: 0.0745 - acc: 0.9798 - val_loss: 0.1605 - val_acc: 0.9492\n",
      "\n",
      "Epoch 00051: val_loss did not improve\n",
      "Epoch 52/100\n",
      "9199/9199 [==============================] - 1s 158us/step - loss: 0.0751 - acc: 0.9792 - val_loss: 0.1605 - val_acc: 0.9501\n",
      "\n",
      "Epoch 00052: val_loss did not improve\n",
      "Epoch 53/100\n",
      "9199/9199 [==============================] - 1s 153us/step - loss: 0.0746 - acc: 0.9800 - val_loss: 0.1605 - val_acc: 0.9492\n",
      "\n",
      "Epoch 00053: val_loss did not improve\n",
      "Epoch 54/100\n",
      "9199/9199 [==============================] - 1s 153us/step - loss: 0.0752 - acc: 0.9790 - val_loss: 0.1609 - val_acc: 0.9492\n",
      "\n",
      "Epoch 00054: val_loss did not improve\n",
      "Epoch 55/100\n",
      "9199/9199 [==============================] - 2s 165us/step - loss: 0.0744 - acc: 0.9817 - val_loss: 0.1610 - val_acc: 0.9501\n",
      "\n",
      "Epoch 00055: val_loss did not improve\n",
      "Epoch 56/100\n",
      "9199/9199 [==============================] - 1s 161us/step - loss: 0.0750 - acc: 0.9799 - val_loss: 0.1605 - val_acc: 0.9492\n",
      "\n",
      "Epoch 00056: val_loss did not improve\n",
      "Epoch 57/100\n",
      "9199/9199 [==============================] - 1s 153us/step - loss: 0.0734 - acc: 0.9810 - val_loss: 0.1607 - val_acc: 0.9501\n",
      "\n",
      "Epoch 00057: val_loss did not improve\n",
      "Epoch 58/100\n",
      "9199/9199 [==============================] - 1s 157us/step - loss: 0.0732 - acc: 0.9785 - val_loss: 0.1612 - val_acc: 0.9482\n",
      "\n",
      "Epoch 00058: val_loss did not improve\n",
      "Epoch 59/100\n",
      "9199/9199 [==============================] - 1s 162us/step - loss: 0.0728 - acc: 0.9816 - val_loss: 0.1607 - val_acc: 0.9501\n",
      "\n",
      "Epoch 00059: val_loss did not improve\n",
      "Epoch 60/100\n",
      "9199/9199 [==============================] - 1s 152us/step - loss: 0.0726 - acc: 0.9800 - val_loss: 0.1608 - val_acc: 0.9492\n",
      "\n",
      "Epoch 00060: val_loss did not improve\n",
      "Epoch 61/100\n",
      "9199/9199 [==============================] - 1s 158us/step - loss: 0.0747 - acc: 0.9792 - val_loss: 0.1605 - val_acc: 0.9501\n",
      "\n",
      "Epoch 00061: val_loss did not improve\n",
      "Epoch 62/100\n",
      "9199/9199 [==============================] - 1s 154us/step - loss: 0.0734 - acc: 0.9803 - val_loss: 0.1608 - val_acc: 0.9501\n",
      "\n",
      "Epoch 00062: val_loss did not improve\n",
      "Epoch 63/100\n",
      "9199/9199 [==============================] - 1s 161us/step - loss: 0.0728 - acc: 0.9805 - val_loss: 0.1603 - val_acc: 0.9501\n",
      "\n",
      "Epoch 00063: val_loss did not improve\n",
      "Epoch 64/100\n",
      "9199/9199 [==============================] - 1s 158us/step - loss: 0.0738 - acc: 0.9801 - val_loss: 0.1607 - val_acc: 0.9501\n",
      "\n",
      "Epoch 00064: val_loss did not improve\n",
      "Epoch 65/100\n",
      "9199/9199 [==============================] - 1s 156us/step - loss: 0.0726 - acc: 0.9800 - val_loss: 0.1609 - val_acc: 0.9501\n",
      "\n",
      "Epoch 00065: val_loss did not improve\n",
      "Epoch 66/100\n",
      "9199/9199 [==============================] - 1s 150us/step - loss: 0.0716 - acc: 0.9798 - val_loss: 0.1609 - val_acc: 0.9501\n",
      "\n",
      "Epoch 00066: val_loss did not improve\n",
      "Epoch 67/100\n",
      "9199/9199 [==============================] - 1s 156us/step - loss: 0.0723 - acc: 0.9816 - val_loss: 0.1608 - val_acc: 0.9482\n",
      "\n",
      "Epoch 00067: val_loss did not improve\n",
      "Epoch 68/100\n",
      "9199/9199 [==============================] - 1s 157us/step - loss: 0.0720 - acc: 0.9799 - val_loss: 0.1609 - val_acc: 0.9482\n",
      "\n",
      "Epoch 00068: val_loss did not improve\n",
      "Epoch 69/100\n",
      "9199/9199 [==============================] - 1s 150us/step - loss: 0.0713 - acc: 0.9810 - val_loss: 0.1611 - val_acc: 0.9482\n",
      "\n",
      "Epoch 00069: val_loss did not improve\n",
      "Epoch 70/100\n",
      "9199/9199 [==============================] - 1s 150us/step - loss: 0.0721 - acc: 0.9815 - val_loss: 0.1610 - val_acc: 0.9492\n",
      "\n",
      "Epoch 00070: val_loss did not improve\n",
      "Epoch 71/100\n",
      "9199/9199 [==============================] - 1s 155us/step - loss: 0.0713 - acc: 0.9817 - val_loss: 0.1608 - val_acc: 0.9482\n",
      "\n",
      "Epoch 00071: val_loss did not improve\n",
      "Epoch 72/100\n",
      "9199/9199 [==============================] - 1s 157us/step - loss: 0.0704 - acc: 0.9814 - val_loss: 0.1608 - val_acc: 0.9482\n",
      "\n",
      "Epoch 00072: val_loss did not improve\n",
      "Epoch 73/100\n",
      "9199/9199 [==============================] - 1s 147us/step - loss: 0.0731 - acc: 0.9793 - val_loss: 0.1608 - val_acc: 0.9482\n",
      "\n",
      "Epoch 00073: val_loss did not improve\n",
      "Epoch 74/100\n",
      "9199/9199 [==============================] - 1s 123us/step - loss: 0.0689 - acc: 0.9820 - val_loss: 0.1607 - val_acc: 0.9492\n",
      "\n",
      "Epoch 00074: val_loss did not improve\n",
      "Epoch 75/100\n",
      "9199/9199 [==============================] - 1s 128us/step - loss: 0.0710 - acc: 0.9800 - val_loss: 0.1606 - val_acc: 0.9492\n",
      "\n",
      "Epoch 00075: val_loss did not improve\n",
      "Epoch 76/100\n",
      "9199/9199 [==============================] - 1s 126us/step - loss: 0.0710 - acc: 0.9823 - val_loss: 0.1605 - val_acc: 0.9501\n",
      "\n",
      "Epoch 00076: val_loss did not improve\n",
      "Epoch 77/100\n",
      "9199/9199 [==============================] - 1s 131us/step - loss: 0.0705 - acc: 0.9815 - val_loss: 0.1608 - val_acc: 0.9492\n",
      "\n",
      "Epoch 00077: val_loss did not improve\n",
      "Epoch 78/100\n",
      "9199/9199 [==============================] - 1s 125us/step - loss: 0.0694 - acc: 0.9828 - val_loss: 0.1612 - val_acc: 0.9492\n",
      "\n",
      "Epoch 00078: val_loss did not improve\n",
      "Epoch 79/100\n",
      "9199/9199 [==============================] - 1s 133us/step - loss: 0.0704 - acc: 0.9827 - val_loss: 0.1612 - val_acc: 0.9492\n",
      "\n",
      "Epoch 00079: val_loss did not improve\n",
      "Epoch 80/100\n",
      "9199/9199 [==============================] - 1s 152us/step - loss: 0.0719 - acc: 0.9800 - val_loss: 0.1611 - val_acc: 0.9492\n",
      "\n",
      "Epoch 00080: val_loss did not improve\n",
      "Epoch 81/100\n",
      "9199/9199 [==============================] - 1s 153us/step - loss: 0.0685 - acc: 0.9813 - val_loss: 0.1608 - val_acc: 0.9501\n",
      "\n",
      "Epoch 00081: val_loss did not improve\n",
      "Epoch 82/100\n",
      "9199/9199 [==============================] - 1s 152us/step - loss: 0.0698 - acc: 0.9807 - val_loss: 0.1611 - val_acc: 0.9492\n",
      "\n",
      "Epoch 00082: val_loss did not improve\n",
      "Epoch 83/100\n",
      "9199/9199 [==============================] - 1s 158us/step - loss: 0.0686 - acc: 0.9821 - val_loss: 0.1607 - val_acc: 0.9492\n",
      "\n",
      "Epoch 00083: val_loss did not improve\n",
      "Epoch 84/100\n",
      "9199/9199 [==============================] - 1s 154us/step - loss: 0.0701 - acc: 0.9820 - val_loss: 0.1606 - val_acc: 0.9501\n",
      "\n",
      "Epoch 00084: val_loss did not improve\n",
      "Epoch 85/100\n",
      "9199/9199 [==============================] - 1s 155us/step - loss: 0.0696 - acc: 0.9813 - val_loss: 0.1609 - val_acc: 0.9501\n",
      "\n",
      "Epoch 00085: val_loss did not improve\n",
      "Epoch 86/100\n",
      "9199/9199 [==============================] - 1s 155us/step - loss: 0.0676 - acc: 0.9829 - val_loss: 0.1611 - val_acc: 0.9492\n",
      "\n",
      "Epoch 00086: val_loss did not improve\n",
      "Epoch 87/100\n",
      "9199/9199 [==============================] - 1s 158us/step - loss: 0.0686 - acc: 0.9811 - val_loss: 0.1613 - val_acc: 0.9492\n",
      "\n",
      "Epoch 00087: val_loss did not improve\n",
      "Epoch 88/100\n",
      "9199/9199 [==============================] - 1s 153us/step - loss: 0.0689 - acc: 0.9820 - val_loss: 0.1615 - val_acc: 0.9492\n",
      "\n",
      "Epoch 00088: val_loss did not improve\n",
      "Epoch 89/100\n",
      "9199/9199 [==============================] - 1s 157us/step - loss: 0.0683 - acc: 0.9830 - val_loss: 0.1615 - val_acc: 0.9492\n",
      "\n",
      "Epoch 00089: val_loss did not improve\n",
      "Epoch 90/100\n",
      "9199/9199 [==============================] - 1s 153us/step - loss: 0.0699 - acc: 0.9809 - val_loss: 0.1616 - val_acc: 0.9472\n",
      "\n",
      "Epoch 00090: val_loss did not improve\n",
      "Epoch 91/100\n",
      "9199/9199 [==============================] - 1s 156us/step - loss: 0.0683 - acc: 0.9820 - val_loss: 0.1615 - val_acc: 0.9492\n",
      "\n",
      "Epoch 00091: val_loss did not improve\n",
      "Epoch 92/100\n",
      "9199/9199 [==============================] - 1s 153us/step - loss: 0.0660 - acc: 0.9832 - val_loss: 0.1612 - val_acc: 0.9492\n",
      "\n",
      "Epoch 00092: val_loss did not improve\n",
      "Epoch 93/100\n"
     ]
    },
    {
     "name": "stdout",
     "output_type": "stream",
     "text": [
      "9199/9199 [==============================] - 1s 156us/step - loss: 0.0679 - acc: 0.9830 - val_loss: 0.1615 - val_acc: 0.9492\n",
      "\n",
      "Epoch 00093: val_loss did not improve\n",
      "Epoch 94/100\n",
      "9199/9199 [==============================] - 1s 154us/step - loss: 0.0674 - acc: 0.9823 - val_loss: 0.1614 - val_acc: 0.9492\n",
      "\n",
      "Epoch 00094: val_loss did not improve\n",
      "Epoch 95/100\n",
      "9199/9199 [==============================] - 2s 164us/step - loss: 0.0674 - acc: 0.9813 - val_loss: 0.1612 - val_acc: 0.9492\n",
      "\n",
      "Epoch 00095: val_loss did not improve\n",
      "Epoch 96/100\n",
      "9199/9199 [==============================] - 1s 153us/step - loss: 0.0689 - acc: 0.9812 - val_loss: 0.1614 - val_acc: 0.9482\n",
      "\n",
      "Epoch 00096: val_loss did not improve\n",
      "Epoch 97/100\n",
      "9199/9199 [==============================] - 1s 154us/step - loss: 0.0678 - acc: 0.9830 - val_loss: 0.1618 - val_acc: 0.9482\n",
      "\n",
      "Epoch 00097: val_loss did not improve\n",
      "Epoch 98/100\n",
      "9199/9199 [==============================] - 1s 153us/step - loss: 0.0669 - acc: 0.9824 - val_loss: 0.1617 - val_acc: 0.9482\n",
      "\n",
      "Epoch 00098: val_loss did not improve\n",
      "Epoch 99/100\n",
      "9199/9199 [==============================] - 1s 157us/step - loss: 0.0685 - acc: 0.9814 - val_loss: 0.1615 - val_acc: 0.9492\n",
      "\n",
      "Epoch 00099: val_loss did not improve\n",
      "Epoch 100/100\n",
      "9199/9199 [==============================] - 1s 154us/step - loss: 0.0680 - acc: 0.9814 - val_loss: 0.1614 - val_acc: 0.9492\n",
      "\n",
      "Epoch 00100: val_loss did not improve\n"
     ]
    },
    {
     "data": {
      "text/plain": [
       "<keras.callbacks.History at 0x7f7a5acf0780>"
      ]
     },
     "execution_count": 103,
     "metadata": {},
     "output_type": "execute_result"
    }
   ],
   "source": [
    "model1=mymodel()\n",
    "model1.compile(loss='categorical_crossentropy', optimizer=keras.optimizers.SGD(lr=0.085, decay=0.03, momentum=0.92, nesterov=True), metrics=['accuracy'])\n",
    "model1.fit(Xtrain,y_train, epochs=100,batch_size=150, shuffle=True,verbose=1,validation_data=(Xtest,y_test),callbacks=[callbacks1,tensor1])"
   ]
  },
  {
   "cell_type": "code",
   "execution_count": 104,
   "metadata": {
    "scrolled": true
   },
   "outputs": [
    {
     "name": "stdout",
     "output_type": "stream",
     "text": [
      "Train on 9199 samples, validate on 1023 samples\n",
      "Epoch 1/150\n",
      "9199/9199 [==============================] - 2s 190us/step - loss: 0.8406 - acc: 0.8163 - val_loss: 0.2061 - val_acc: 0.9335\n",
      "\n",
      "Epoch 00001: val_loss improved from inf to 0.20609, saving model to mod2.h5\n",
      "Epoch 2/150\n",
      "9199/9199 [==============================] - 1s 160us/step - loss: 0.1890 - acc: 0.9381 - val_loss: 0.1742 - val_acc: 0.9433\n",
      "\n",
      "Epoch 00002: val_loss improved from 0.20609 to 0.17423, saving model to mod2.h5\n",
      "Epoch 3/150\n",
      "9199/9199 [==============================] - 1s 153us/step - loss: 0.1510 - acc: 0.9515 - val_loss: 0.1785 - val_acc: 0.9443\n",
      "\n",
      "Epoch 00003: val_loss did not improve\n",
      "Epoch 4/150\n",
      "9199/9199 [==============================] - 1s 161us/step - loss: 0.1357 - acc: 0.9548 - val_loss: 0.1622 - val_acc: 0.9541\n",
      "\n",
      "Epoch 00004: val_loss improved from 0.17423 to 0.16218, saving model to mod2.h5\n",
      "Epoch 5/150\n",
      "9199/9199 [==============================] - 1s 158us/step - loss: 0.1236 - acc: 0.9591 - val_loss: 0.1645 - val_acc: 0.9521\n",
      "\n",
      "Epoch 00005: val_loss did not improve\n",
      "Epoch 6/150\n",
      "9199/9199 [==============================] - 1s 153us/step - loss: 0.1168 - acc: 0.9627 - val_loss: 0.1616 - val_acc: 0.9501\n",
      "\n",
      "Epoch 00006: val_loss improved from 0.16218 to 0.16157, saving model to mod2.h5\n",
      "Epoch 7/150\n",
      "9199/9199 [==============================] - 1s 151us/step - loss: 0.1107 - acc: 0.9660 - val_loss: 0.1578 - val_acc: 0.9482\n",
      "\n",
      "Epoch 00007: val_loss improved from 0.16157 to 0.15783, saving model to mod2.h5\n",
      "Epoch 8/150\n",
      "9199/9199 [==============================] - 1s 143us/step - loss: 0.1095 - acc: 0.9668 - val_loss: 0.1610 - val_acc: 0.9482\n",
      "\n",
      "Epoch 00008: val_loss did not improve\n",
      "Epoch 9/150\n",
      "9199/9199 [==============================] - 1s 151us/step - loss: 0.1051 - acc: 0.9674 - val_loss: 0.1603 - val_acc: 0.9521\n",
      "\n",
      "Epoch 00009: val_loss did not improve\n",
      "Epoch 10/150\n",
      "9199/9199 [==============================] - 1s 149us/step - loss: 0.1034 - acc: 0.9678 - val_loss: 0.1605 - val_acc: 0.9541\n",
      "\n",
      "Epoch 00010: val_loss did not improve\n",
      "Epoch 11/150\n",
      "9199/9199 [==============================] - 1s 151us/step - loss: 0.0960 - acc: 0.9714 - val_loss: 0.1589 - val_acc: 0.9521\n",
      "\n",
      "Epoch 00011: val_loss did not improve\n",
      "Epoch 12/150\n",
      "9199/9199 [==============================] - 1s 151us/step - loss: 0.0962 - acc: 0.9714 - val_loss: 0.1587 - val_acc: 0.9511\n",
      "\n",
      "Epoch 00012: val_loss did not improve\n",
      "Epoch 13/150\n",
      "9199/9199 [==============================] - 1s 150us/step - loss: 0.0958 - acc: 0.9687 - val_loss: 0.1571 - val_acc: 0.9541\n",
      "\n",
      "Epoch 00013: val_loss improved from 0.15783 to 0.15715, saving model to mod2.h5\n",
      "Epoch 14/150\n",
      "9199/9199 [==============================] - 1s 161us/step - loss: 0.0957 - acc: 0.9698 - val_loss: 0.1592 - val_acc: 0.9511\n",
      "\n",
      "Epoch 00014: val_loss did not improve\n",
      "Epoch 15/150\n",
      "9199/9199 [==============================] - 1s 156us/step - loss: 0.0962 - acc: 0.9709 - val_loss: 0.1598 - val_acc: 0.9492\n",
      "\n",
      "Epoch 00015: val_loss did not improve\n",
      "Epoch 16/150\n",
      "9199/9199 [==============================] - 1s 156us/step - loss: 0.0937 - acc: 0.9716 - val_loss: 0.1587 - val_acc: 0.9501\n",
      "\n",
      "Epoch 00016: val_loss did not improve\n",
      "Epoch 17/150\n",
      "9199/9199 [==============================] - 1s 157us/step - loss: 0.0907 - acc: 0.9724 - val_loss: 0.1591 - val_acc: 0.9492\n",
      "\n",
      "Epoch 00017: val_loss did not improve\n",
      "Epoch 18/150\n",
      "9199/9199 [==============================] - 1s 162us/step - loss: 0.0890 - acc: 0.9738 - val_loss: 0.1591 - val_acc: 0.9521\n",
      "\n",
      "Epoch 00018: val_loss did not improve\n",
      "Epoch 19/150\n",
      "9199/9199 [==============================] - 1s 153us/step - loss: 0.0890 - acc: 0.9733 - val_loss: 0.1577 - val_acc: 0.9531\n",
      "\n",
      "Epoch 00019: val_loss did not improve\n",
      "Epoch 20/150\n",
      "9199/9199 [==============================] - 1s 155us/step - loss: 0.0869 - acc: 0.9741 - val_loss: 0.1587 - val_acc: 0.9521\n",
      "\n",
      "Epoch 00020: val_loss did not improve\n",
      "Epoch 21/150\n",
      "9199/9199 [==============================] - 1s 158us/step - loss: 0.0878 - acc: 0.9735 - val_loss: 0.1590 - val_acc: 0.9521\n",
      "\n",
      "Epoch 00021: val_loss did not improve\n",
      "Epoch 22/150\n",
      "9199/9199 [==============================] - 1s 154us/step - loss: 0.0871 - acc: 0.9739 - val_loss: 0.1579 - val_acc: 0.9521\n",
      "\n",
      "Epoch 00022: val_loss did not improve\n",
      "Epoch 23/150\n",
      "9199/9199 [==============================] - 1s 145us/step - loss: 0.0861 - acc: 0.9739 - val_loss: 0.1582 - val_acc: 0.9521\n",
      "\n",
      "Epoch 00023: val_loss did not improve\n",
      "Epoch 24/150\n",
      "9199/9199 [==============================] - 1s 155us/step - loss: 0.0839 - acc: 0.9752 - val_loss: 0.1579 - val_acc: 0.9511\n",
      "\n",
      "Epoch 00024: val_loss did not improve\n",
      "Epoch 25/150\n",
      "9199/9199 [==============================] - 1s 156us/step - loss: 0.0840 - acc: 0.9753 - val_loss: 0.1587 - val_acc: 0.9511\n",
      "\n",
      "Epoch 00025: val_loss did not improve\n",
      "Epoch 26/150\n",
      "9199/9199 [==============================] - 1s 158us/step - loss: 0.0842 - acc: 0.9749 - val_loss: 0.1587 - val_acc: 0.9492\n",
      "\n",
      "Epoch 00026: val_loss did not improve\n",
      "Epoch 27/150\n",
      "9199/9199 [==============================] - 1s 152us/step - loss: 0.0843 - acc: 0.9755 - val_loss: 0.1584 - val_acc: 0.9511\n",
      "\n",
      "Epoch 00027: val_loss did not improve\n",
      "Epoch 28/150\n",
      "9199/9199 [==============================] - 1s 154us/step - loss: 0.0837 - acc: 0.9748 - val_loss: 0.1582 - val_acc: 0.9521\n",
      "\n",
      "Epoch 00028: val_loss did not improve\n",
      "Epoch 29/150\n",
      "9199/9199 [==============================] - 1s 149us/step - loss: 0.0817 - acc: 0.9754 - val_loss: 0.1585 - val_acc: 0.9511\n",
      "\n",
      "Epoch 00029: val_loss did not improve\n",
      "Epoch 30/150\n",
      "9199/9199 [==============================] - 1s 156us/step - loss: 0.0822 - acc: 0.9767 - val_loss: 0.1580 - val_acc: 0.9501\n",
      "\n",
      "Epoch 00030: val_loss did not improve\n",
      "Epoch 31/150\n",
      "9199/9199 [==============================] - 1s 151us/step - loss: 0.0815 - acc: 0.9763 - val_loss: 0.1583 - val_acc: 0.9521\n",
      "\n",
      "Epoch 00031: val_loss did not improve\n",
      "Epoch 32/150\n",
      "9199/9199 [==============================] - 1s 153us/step - loss: 0.0812 - acc: 0.9762 - val_loss: 0.1581 - val_acc: 0.9531\n",
      "\n",
      "Epoch 00032: val_loss did not improve\n",
      "Epoch 33/150\n",
      "9199/9199 [==============================] - 1s 150us/step - loss: 0.0799 - acc: 0.9765 - val_loss: 0.1590 - val_acc: 0.9531\n",
      "\n",
      "Epoch 00033: val_loss did not improve\n",
      "Epoch 34/150\n",
      "9199/9199 [==============================] - 1s 152us/step - loss: 0.0792 - acc: 0.9762 - val_loss: 0.1581 - val_acc: 0.9531\n",
      "\n",
      "Epoch 00034: val_loss did not improve\n",
      "Epoch 35/150\n",
      "9199/9199 [==============================] - 1s 152us/step - loss: 0.0779 - acc: 0.9784 - val_loss: 0.1586 - val_acc: 0.9531\n",
      "\n",
      "Epoch 00035: val_loss did not improve\n",
      "Epoch 36/150\n",
      "9199/9199 [==============================] - 1s 154us/step - loss: 0.0779 - acc: 0.9778 - val_loss: 0.1585 - val_acc: 0.9521\n",
      "\n",
      "Epoch 00036: val_loss did not improve\n",
      "Epoch 37/150\n",
      "9199/9199 [==============================] - 1s 154us/step - loss: 0.0783 - acc: 0.9762 - val_loss: 0.1586 - val_acc: 0.9541\n",
      "\n",
      "Epoch 00037: val_loss did not improve\n",
      "Epoch 38/150\n",
      "9199/9199 [==============================] - 1s 162us/step - loss: 0.0769 - acc: 0.9776 - val_loss: 0.1582 - val_acc: 0.9531\n",
      "\n",
      "Epoch 00038: val_loss did not improve\n",
      "Epoch 39/150\n",
      "9199/9199 [==============================] - 1s 148us/step - loss: 0.0783 - acc: 0.9776 - val_loss: 0.1582 - val_acc: 0.9511\n",
      "\n",
      "Epoch 00039: val_loss did not improve\n",
      "Epoch 40/150\n",
      "9199/9199 [==============================] - 1s 150us/step - loss: 0.0781 - acc: 0.9775 - val_loss: 0.1581 - val_acc: 0.9541\n",
      "\n",
      "Epoch 00040: val_loss did not improve\n",
      "Epoch 41/150\n",
      "9199/9199 [==============================] - 1s 154us/step - loss: 0.0787 - acc: 0.9770 - val_loss: 0.1587 - val_acc: 0.9511\n",
      "\n",
      "Epoch 00041: val_loss did not improve\n",
      "Epoch 42/150\n",
      "9199/9199 [==============================] - 1s 155us/step - loss: 0.0779 - acc: 0.9774 - val_loss: 0.1590 - val_acc: 0.9531\n",
      "\n",
      "Epoch 00042: val_loss did not improve\n",
      "Epoch 43/150\n",
      "9199/9199 [==============================] - 1s 153us/step - loss: 0.0773 - acc: 0.9786 - val_loss: 0.1593 - val_acc: 0.9531\n",
      "\n",
      "Epoch 00043: val_loss did not improve\n",
      "Epoch 44/150\n",
      "9199/9199 [==============================] - 1s 152us/step - loss: 0.0752 - acc: 0.9796 - val_loss: 0.1592 - val_acc: 0.9501\n",
      "\n",
      "Epoch 00044: val_loss did not improve\n",
      "Epoch 45/150\n",
      "9199/9199 [==============================] - 1s 156us/step - loss: 0.0769 - acc: 0.9771 - val_loss: 0.1589 - val_acc: 0.9531\n"
     ]
    },
    {
     "name": "stdout",
     "output_type": "stream",
     "text": [
      "\n",
      "Epoch 00045: val_loss did not improve\n",
      "Epoch 46/150\n",
      "9199/9199 [==============================] - 1s 129us/step - loss: 0.0734 - acc: 0.9793 - val_loss: 0.1584 - val_acc: 0.9531\n",
      "\n",
      "Epoch 00046: val_loss did not improve\n",
      "Epoch 47/150\n",
      "9199/9199 [==============================] - 1s 122us/step - loss: 0.0767 - acc: 0.9784 - val_loss: 0.1592 - val_acc: 0.9521\n",
      "\n",
      "Epoch 00047: val_loss did not improve\n",
      "Epoch 48/150\n",
      "9199/9199 [==============================] - 1s 115us/step - loss: 0.0749 - acc: 0.9790 - val_loss: 0.1596 - val_acc: 0.9501\n",
      "\n",
      "Epoch 00048: val_loss did not improve\n",
      "Epoch 49/150\n",
      "9199/9199 [==============================] - 1s 120us/step - loss: 0.0754 - acc: 0.9772 - val_loss: 0.1589 - val_acc: 0.9521\n",
      "\n",
      "Epoch 00049: val_loss did not improve\n",
      "Epoch 50/150\n",
      "9199/9199 [==============================] - 1s 117us/step - loss: 0.0761 - acc: 0.9787 - val_loss: 0.1594 - val_acc: 0.9492\n",
      "\n",
      "Epoch 00050: val_loss did not improve\n",
      "Epoch 51/150\n",
      "9199/9199 [==============================] - 1s 139us/step - loss: 0.0735 - acc: 0.9785 - val_loss: 0.1595 - val_acc: 0.9511\n",
      "\n",
      "Epoch 00051: val_loss did not improve\n",
      "Epoch 52/150\n",
      "9199/9199 [==============================] - 1s 155us/step - loss: 0.0739 - acc: 0.9790 - val_loss: 0.1587 - val_acc: 0.9511\n",
      "\n",
      "Epoch 00052: val_loss did not improve\n",
      "Epoch 53/150\n",
      "9199/9199 [==============================] - 1s 162us/step - loss: 0.0755 - acc: 0.9778 - val_loss: 0.1591 - val_acc: 0.9521\n",
      "\n",
      "Epoch 00053: val_loss did not improve\n",
      "Epoch 54/150\n",
      "9199/9199 [==============================] - 1s 163us/step - loss: 0.0735 - acc: 0.9781 - val_loss: 0.1594 - val_acc: 0.9521\n",
      "\n",
      "Epoch 00054: val_loss did not improve\n",
      "Epoch 55/150\n",
      "9199/9199 [==============================] - 1s 146us/step - loss: 0.0731 - acc: 0.9798 - val_loss: 0.1593 - val_acc: 0.9501\n",
      "\n",
      "Epoch 00055: val_loss did not improve\n",
      "Epoch 56/150\n",
      "9199/9199 [==============================] - 1s 154us/step - loss: 0.0717 - acc: 0.9784 - val_loss: 0.1595 - val_acc: 0.9521\n",
      "\n",
      "Epoch 00056: val_loss did not improve\n",
      "Epoch 57/150\n",
      "9199/9199 [==============================] - 2s 166us/step - loss: 0.0741 - acc: 0.9787 - val_loss: 0.1593 - val_acc: 0.9511\n",
      "\n",
      "Epoch 00057: val_loss did not improve\n",
      "Epoch 58/150\n",
      "9199/9199 [==============================] - 1s 156us/step - loss: 0.0735 - acc: 0.9789 - val_loss: 0.1590 - val_acc: 0.9501\n",
      "\n",
      "Epoch 00058: val_loss did not improve\n",
      "Epoch 59/150\n",
      "9199/9199 [==============================] - 1s 148us/step - loss: 0.0739 - acc: 0.9800 - val_loss: 0.1585 - val_acc: 0.9501\n",
      "\n",
      "Epoch 00059: val_loss did not improve\n",
      "Epoch 60/150\n",
      "9199/9199 [==============================] - 1s 157us/step - loss: 0.0720 - acc: 0.9810 - val_loss: 0.1588 - val_acc: 0.9511\n",
      "\n",
      "Epoch 00060: val_loss did not improve\n",
      "Epoch 61/150\n",
      "9199/9199 [==============================] - 1s 149us/step - loss: 0.0703 - acc: 0.9821 - val_loss: 0.1594 - val_acc: 0.9492\n",
      "\n",
      "Epoch 00061: val_loss did not improve\n",
      "Epoch 62/150\n",
      "9199/9199 [==============================] - 1s 151us/step - loss: 0.0725 - acc: 0.9799 - val_loss: 0.1590 - val_acc: 0.9511\n",
      "\n",
      "Epoch 00062: val_loss did not improve\n",
      "Epoch 63/150\n",
      "9199/9199 [==============================] - 1s 158us/step - loss: 0.0732 - acc: 0.9801 - val_loss: 0.1592 - val_acc: 0.9521\n",
      "\n",
      "Epoch 00063: val_loss did not improve\n",
      "Epoch 64/150\n",
      "9199/9199 [==============================] - 1s 161us/step - loss: 0.0730 - acc: 0.9785 - val_loss: 0.1591 - val_acc: 0.9501\n",
      "\n",
      "Epoch 00064: val_loss did not improve\n",
      "Epoch 65/150\n",
      "9199/9199 [==============================] - 1s 155us/step - loss: 0.0727 - acc: 0.9810 - val_loss: 0.1590 - val_acc: 0.9501\n",
      "\n",
      "Epoch 00065: val_loss did not improve\n",
      "Epoch 66/150\n",
      "9199/9199 [==============================] - 1s 156us/step - loss: 0.0722 - acc: 0.9807 - val_loss: 0.1592 - val_acc: 0.9511\n",
      "\n",
      "Epoch 00066: val_loss did not improve\n",
      "Epoch 67/150\n",
      "9199/9199 [==============================] - 1s 159us/step - loss: 0.0711 - acc: 0.9809 - val_loss: 0.1596 - val_acc: 0.9501\n",
      "\n",
      "Epoch 00067: val_loss did not improve\n",
      "Epoch 68/150\n",
      "9199/9199 [==============================] - 1s 153us/step - loss: 0.0698 - acc: 0.9810 - val_loss: 0.1592 - val_acc: 0.9492\n",
      "\n",
      "Epoch 00068: val_loss did not improve\n",
      "Epoch 69/150\n",
      "9199/9199 [==============================] - 1s 155us/step - loss: 0.0719 - acc: 0.9791 - val_loss: 0.1589 - val_acc: 0.9511\n",
      "\n",
      "Epoch 00069: val_loss did not improve\n",
      "Epoch 70/150\n",
      "9199/9199 [==============================] - 1s 152us/step - loss: 0.0704 - acc: 0.9797 - val_loss: 0.1592 - val_acc: 0.9492\n",
      "\n",
      "Epoch 00070: val_loss did not improve\n",
      "Epoch 71/150\n",
      "9199/9199 [==============================] - 1s 154us/step - loss: 0.0714 - acc: 0.9809 - val_loss: 0.1589 - val_acc: 0.9511\n",
      "\n",
      "Epoch 00071: val_loss did not improve\n",
      "Epoch 72/150\n",
      "9199/9199 [==============================] - 1s 153us/step - loss: 0.0708 - acc: 0.9802 - val_loss: 0.1593 - val_acc: 0.9511\n",
      "\n",
      "Epoch 00072: val_loss did not improve\n",
      "Epoch 73/150\n",
      "9199/9199 [==============================] - 1s 154us/step - loss: 0.0701 - acc: 0.9814 - val_loss: 0.1593 - val_acc: 0.9501\n",
      "\n",
      "Epoch 00073: val_loss did not improve\n",
      "Epoch 74/150\n",
      "9199/9199 [==============================] - 1s 156us/step - loss: 0.0714 - acc: 0.9803 - val_loss: 0.1590 - val_acc: 0.9492\n",
      "\n",
      "Epoch 00074: val_loss did not improve\n",
      "Epoch 75/150\n",
      "9199/9199 [==============================] - 1s 155us/step - loss: 0.0688 - acc: 0.9818 - val_loss: 0.1590 - val_acc: 0.9501\n",
      "\n",
      "Epoch 00075: val_loss did not improve\n",
      "Epoch 76/150\n",
      "9199/9199 [==============================] - 1s 154us/step - loss: 0.0688 - acc: 0.9827 - val_loss: 0.1589 - val_acc: 0.9501\n",
      "\n",
      "Epoch 00076: val_loss did not improve\n",
      "Epoch 77/150\n",
      "9199/9199 [==============================] - 2s 164us/step - loss: 0.0693 - acc: 0.9820 - val_loss: 0.1586 - val_acc: 0.9511\n",
      "\n",
      "Epoch 00077: val_loss did not improve\n",
      "Epoch 78/150\n",
      "9199/9199 [==============================] - 1s 148us/step - loss: 0.0687 - acc: 0.9808 - val_loss: 0.1591 - val_acc: 0.9511\n",
      "\n",
      "Epoch 00078: val_loss did not improve\n",
      "Epoch 79/150\n",
      "9199/9199 [==============================] - 1s 159us/step - loss: 0.0697 - acc: 0.9802 - val_loss: 0.1592 - val_acc: 0.9501\n",
      "\n",
      "Epoch 00079: val_loss did not improve\n",
      "Epoch 80/150\n",
      "9199/9199 [==============================] - 1s 151us/step - loss: 0.0701 - acc: 0.9812 - val_loss: 0.1594 - val_acc: 0.9511\n",
      "\n",
      "Epoch 00080: val_loss did not improve\n",
      "Epoch 81/150\n",
      "9199/9199 [==============================] - 1s 153us/step - loss: 0.0696 - acc: 0.9797 - val_loss: 0.1593 - val_acc: 0.9511\n",
      "\n",
      "Epoch 00081: val_loss did not improve\n",
      "Epoch 82/150\n",
      "9199/9199 [==============================] - 1s 154us/step - loss: 0.0687 - acc: 0.9813 - val_loss: 0.1590 - val_acc: 0.9511\n",
      "\n",
      "Epoch 00082: val_loss did not improve\n",
      "Epoch 83/150\n",
      "9199/9199 [==============================] - 1s 159us/step - loss: 0.0682 - acc: 0.9810 - val_loss: 0.1590 - val_acc: 0.9521\n",
      "\n",
      "Epoch 00083: val_loss did not improve\n",
      "Epoch 84/150\n",
      "9199/9199 [==============================] - 1s 157us/step - loss: 0.0678 - acc: 0.9813 - val_loss: 0.1591 - val_acc: 0.9521\n",
      "\n",
      "Epoch 00084: val_loss did not improve\n",
      "Epoch 85/150\n",
      "9199/9199 [==============================] - 1s 148us/step - loss: 0.0685 - acc: 0.9809 - val_loss: 0.1589 - val_acc: 0.9511\n",
      "\n",
      "Epoch 00085: val_loss did not improve\n",
      "Epoch 86/150\n",
      "9199/9199 [==============================] - 1s 149us/step - loss: 0.0685 - acc: 0.9813 - val_loss: 0.1590 - val_acc: 0.9511\n",
      "\n",
      "Epoch 00086: val_loss did not improve\n",
      "Epoch 87/150\n",
      "9199/9199 [==============================] - 1s 151us/step - loss: 0.0666 - acc: 0.9810 - val_loss: 0.1589 - val_acc: 0.9511\n",
      "\n",
      "Epoch 00087: val_loss did not improve\n",
      "Epoch 88/150\n",
      "9199/9199 [==============================] - 1s 147us/step - loss: 0.0665 - acc: 0.9828 - val_loss: 0.1591 - val_acc: 0.9511\n",
      "\n",
      "Epoch 00088: val_loss did not improve\n",
      "Epoch 89/150\n",
      "9199/9199 [==============================] - 1s 152us/step - loss: 0.0678 - acc: 0.9813 - val_loss: 0.1593 - val_acc: 0.9511\n",
      "\n",
      "Epoch 00089: val_loss did not improve\n",
      "Epoch 90/150\n",
      "9199/9199 [==============================] - 1s 157us/step - loss: 0.0688 - acc: 0.9799 - val_loss: 0.1588 - val_acc: 0.9511\n",
      "\n",
      "Epoch 00090: val_loss did not improve\n",
      "Epoch 91/150\n",
      "9199/9199 [==============================] - 1s 150us/step - loss: 0.0692 - acc: 0.9803 - val_loss: 0.1590 - val_acc: 0.9511\n",
      "\n",
      "Epoch 00091: val_loss did not improve\n",
      "Epoch 92/150\n"
     ]
    },
    {
     "name": "stdout",
     "output_type": "stream",
     "text": [
      "9199/9199 [==============================] - 1s 156us/step - loss: 0.0666 - acc: 0.9822 - val_loss: 0.1592 - val_acc: 0.9511\n",
      "\n",
      "Epoch 00092: val_loss did not improve\n",
      "Epoch 93/150\n",
      "9199/9199 [==============================] - 1s 152us/step - loss: 0.0688 - acc: 0.9823 - val_loss: 0.1594 - val_acc: 0.9511\n",
      "\n",
      "Epoch 00093: val_loss did not improve\n",
      "Epoch 94/150\n",
      "9199/9199 [==============================] - 1s 159us/step - loss: 0.0674 - acc: 0.9827 - val_loss: 0.1594 - val_acc: 0.9501\n",
      "\n",
      "Epoch 00094: val_loss did not improve\n",
      "Epoch 95/150\n",
      "9199/9199 [==============================] - 1s 149us/step - loss: 0.0665 - acc: 0.9804 - val_loss: 0.1593 - val_acc: 0.9511\n",
      "\n",
      "Epoch 00095: val_loss did not improve\n",
      "Epoch 96/150\n",
      "9199/9199 [==============================] - 1s 150us/step - loss: 0.0659 - acc: 0.9826 - val_loss: 0.1595 - val_acc: 0.9511\n",
      "\n",
      "Epoch 00096: val_loss did not improve\n",
      "Epoch 97/150\n",
      "9199/9199 [==============================] - 1s 156us/step - loss: 0.0658 - acc: 0.9826 - val_loss: 0.1592 - val_acc: 0.9511\n",
      "\n",
      "Epoch 00097: val_loss did not improve\n",
      "Epoch 98/150\n",
      "9199/9199 [==============================] - 1s 157us/step - loss: 0.0672 - acc: 0.9817 - val_loss: 0.1592 - val_acc: 0.9511\n",
      "\n",
      "Epoch 00098: val_loss did not improve\n",
      "Epoch 99/150\n",
      "9199/9199 [==============================] - 1s 151us/step - loss: 0.0688 - acc: 0.9804 - val_loss: 0.1592 - val_acc: 0.9511\n",
      "\n",
      "Epoch 00099: val_loss did not improve\n",
      "Epoch 100/150\n",
      "9199/9199 [==============================] - 1s 156us/step - loss: 0.0661 - acc: 0.9828 - val_loss: 0.1591 - val_acc: 0.9511\n",
      "\n",
      "Epoch 00100: val_loss did not improve\n",
      "Epoch 101/150\n",
      "9199/9199 [==============================] - 1s 152us/step - loss: 0.0643 - acc: 0.9837 - val_loss: 0.1591 - val_acc: 0.9511\n",
      "\n",
      "Epoch 00101: val_loss did not improve\n",
      "Epoch 102/150\n",
      "9199/9199 [==============================] - 1s 155us/step - loss: 0.0651 - acc: 0.9827 - val_loss: 0.1591 - val_acc: 0.9511\n",
      "\n",
      "Epoch 00102: val_loss did not improve\n",
      "Epoch 103/150\n",
      "9199/9199 [==============================] - 1s 157us/step - loss: 0.0655 - acc: 0.9821 - val_loss: 0.1591 - val_acc: 0.9511\n",
      "\n",
      "Epoch 00103: val_loss did not improve\n",
      "Epoch 104/150\n",
      "9199/9199 [==============================] - 1s 159us/step - loss: 0.0656 - acc: 0.9828 - val_loss: 0.1592 - val_acc: 0.9511\n",
      "\n",
      "Epoch 00104: val_loss did not improve\n",
      "Epoch 105/150\n",
      "9199/9199 [==============================] - 1s 156us/step - loss: 0.0663 - acc: 0.9830 - val_loss: 0.1593 - val_acc: 0.9511\n",
      "\n",
      "Epoch 00105: val_loss did not improve\n",
      "Epoch 106/150\n",
      "9199/9199 [==============================] - 1s 160us/step - loss: 0.0673 - acc: 0.9821 - val_loss: 0.1596 - val_acc: 0.9511\n",
      "\n",
      "Epoch 00106: val_loss did not improve\n",
      "Epoch 107/150\n",
      "9199/9199 [==============================] - 1s 149us/step - loss: 0.0650 - acc: 0.9827 - val_loss: 0.1595 - val_acc: 0.9511\n",
      "\n",
      "Epoch 00107: val_loss did not improve\n",
      "Epoch 108/150\n",
      "9199/9199 [==============================] - 1s 151us/step - loss: 0.0654 - acc: 0.9832 - val_loss: 0.1593 - val_acc: 0.9511\n",
      "\n",
      "Epoch 00108: val_loss did not improve\n",
      "Epoch 109/150\n",
      "9199/9199 [==============================] - 1s 152us/step - loss: 0.0672 - acc: 0.9811 - val_loss: 0.1596 - val_acc: 0.9511\n",
      "\n",
      "Epoch 00109: val_loss did not improve\n",
      "Epoch 110/150\n",
      "9199/9199 [==============================] - 1s 156us/step - loss: 0.0669 - acc: 0.9820 - val_loss: 0.1597 - val_acc: 0.9511\n",
      "\n",
      "Epoch 00110: val_loss did not improve\n",
      "Epoch 111/150\n",
      "9199/9199 [==============================] - 1s 158us/step - loss: 0.0653 - acc: 0.9834 - val_loss: 0.1596 - val_acc: 0.9511\n",
      "\n",
      "Epoch 00111: val_loss did not improve\n",
      "Epoch 112/150\n",
      "9199/9199 [==============================] - 1s 154us/step - loss: 0.0663 - acc: 0.9824 - val_loss: 0.1598 - val_acc: 0.9511\n",
      "\n",
      "Epoch 00112: val_loss did not improve\n",
      "Epoch 113/150\n",
      "9199/9199 [==============================] - 1s 155us/step - loss: 0.0652 - acc: 0.9835 - val_loss: 0.1598 - val_acc: 0.9511\n",
      "\n",
      "Epoch 00113: val_loss did not improve\n",
      "Epoch 114/150\n",
      "9199/9199 [==============================] - 1s 155us/step - loss: 0.0645 - acc: 0.9835 - val_loss: 0.1598 - val_acc: 0.9511\n",
      "\n",
      "Epoch 00114: val_loss did not improve\n",
      "Epoch 115/150\n",
      "9199/9199 [==============================] - 1s 159us/step - loss: 0.0643 - acc: 0.9822 - val_loss: 0.1597 - val_acc: 0.9511\n",
      "\n",
      "Epoch 00115: val_loss did not improve\n",
      "Epoch 116/150\n",
      "9199/9199 [==============================] - 1s 153us/step - loss: 0.0642 - acc: 0.9829 - val_loss: 0.1596 - val_acc: 0.9511\n",
      "\n",
      "Epoch 00116: val_loss did not improve\n",
      "Epoch 117/150\n",
      "9199/9199 [==============================] - 1s 161us/step - loss: 0.0643 - acc: 0.9830 - val_loss: 0.1596 - val_acc: 0.9511\n",
      "\n",
      "Epoch 00117: val_loss did not improve\n",
      "Epoch 118/150\n",
      "9199/9199 [==============================] - 1s 156us/step - loss: 0.0653 - acc: 0.9822 - val_loss: 0.1596 - val_acc: 0.9511\n",
      "\n",
      "Epoch 00118: val_loss did not improve\n",
      "Epoch 119/150\n",
      "9199/9199 [==============================] - 1s 151us/step - loss: 0.0655 - acc: 0.9818 - val_loss: 0.1597 - val_acc: 0.9511\n",
      "\n",
      "Epoch 00119: val_loss did not improve\n",
      "Epoch 120/150\n",
      "9199/9199 [==============================] - 1s 161us/step - loss: 0.0655 - acc: 0.9818 - val_loss: 0.1595 - val_acc: 0.9511\n",
      "\n",
      "Epoch 00120: val_loss did not improve\n",
      "Epoch 121/150\n",
      "9199/9199 [==============================] - 1s 129us/step - loss: 0.0647 - acc: 0.9830 - val_loss: 0.1594 - val_acc: 0.9511\n",
      "\n",
      "Epoch 00121: val_loss did not improve\n",
      "Epoch 122/150\n",
      "9199/9199 [==============================] - 1s 111us/step - loss: 0.0663 - acc: 0.9832 - val_loss: 0.1596 - val_acc: 0.9511\n",
      "\n",
      "Epoch 00122: val_loss did not improve\n",
      "Epoch 123/150\n",
      "9199/9199 [==============================] - 1s 119us/step - loss: 0.0666 - acc: 0.9822 - val_loss: 0.1595 - val_acc: 0.9511\n",
      "\n",
      "Epoch 00123: val_loss did not improve\n",
      "Epoch 124/150\n",
      "9199/9199 [==============================] - 1s 126us/step - loss: 0.0628 - acc: 0.9842 - val_loss: 0.1597 - val_acc: 0.9511\n",
      "\n",
      "Epoch 00124: val_loss did not improve\n",
      "Epoch 125/150\n",
      "9199/9199 [==============================] - 1s 121us/step - loss: 0.0647 - acc: 0.9837 - val_loss: 0.1597 - val_acc: 0.9511\n",
      "\n",
      "Epoch 00125: val_loss did not improve\n",
      "Epoch 126/150\n",
      "9199/9199 [==============================] - 1s 132us/step - loss: 0.0630 - acc: 0.9838 - val_loss: 0.1599 - val_acc: 0.9511\n",
      "\n",
      "Epoch 00126: val_loss did not improve\n",
      "Epoch 127/150\n",
      "9199/9199 [==============================] - 1s 161us/step - loss: 0.0631 - acc: 0.9836 - val_loss: 0.1598 - val_acc: 0.9511\n",
      "\n",
      "Epoch 00127: val_loss did not improve\n",
      "Epoch 128/150\n",
      "9199/9199 [==============================] - 1s 157us/step - loss: 0.0650 - acc: 0.9829 - val_loss: 0.1598 - val_acc: 0.9511\n",
      "\n",
      "Epoch 00128: val_loss did not improve\n",
      "Epoch 129/150\n",
      "9199/9199 [==============================] - 1s 156us/step - loss: 0.0659 - acc: 0.9823 - val_loss: 0.1598 - val_acc: 0.9511\n",
      "\n",
      "Epoch 00129: val_loss did not improve\n",
      "Epoch 130/150\n",
      "9199/9199 [==============================] - 1s 154us/step - loss: 0.0627 - acc: 0.9834 - val_loss: 0.1598 - val_acc: 0.9501\n",
      "\n",
      "Epoch 00130: val_loss did not improve\n",
      "Epoch 131/150\n",
      "9199/9199 [==============================] - 1s 153us/step - loss: 0.0647 - acc: 0.9832 - val_loss: 0.1598 - val_acc: 0.9511\n",
      "\n",
      "Epoch 00131: val_loss did not improve\n",
      "Epoch 132/150\n",
      "9199/9199 [==============================] - 1s 154us/step - loss: 0.0640 - acc: 0.9820 - val_loss: 0.1598 - val_acc: 0.9511\n",
      "\n",
      "Epoch 00132: val_loss did not improve\n",
      "Epoch 133/150\n",
      "9199/9199 [==============================] - 1s 152us/step - loss: 0.0647 - acc: 0.9812 - val_loss: 0.1598 - val_acc: 0.9521\n",
      "\n",
      "Epoch 00133: val_loss did not improve\n",
      "Epoch 134/150\n",
      "9199/9199 [==============================] - 1s 151us/step - loss: 0.0648 - acc: 0.9835 - val_loss: 0.1598 - val_acc: 0.9511\n",
      "\n",
      "Epoch 00134: val_loss did not improve\n",
      "Epoch 135/150\n",
      "9199/9199 [==============================] - 1s 154us/step - loss: 0.0643 - acc: 0.9839 - val_loss: 0.1597 - val_acc: 0.9501\n",
      "\n",
      "Epoch 00135: val_loss did not improve\n",
      "Epoch 136/150\n",
      "9199/9199 [==============================] - 1s 150us/step - loss: 0.0639 - acc: 0.9829 - val_loss: 0.1599 - val_acc: 0.9511\n",
      "\n",
      "Epoch 00136: val_loss did not improve\n",
      "Epoch 137/150\n",
      "9199/9199 [==============================] - 1s 154us/step - loss: 0.0627 - acc: 0.9841 - val_loss: 0.1600 - val_acc: 0.9511\n",
      "\n",
      "Epoch 00137: val_loss did not improve\n",
      "Epoch 138/150\n"
     ]
    },
    {
     "name": "stdout",
     "output_type": "stream",
     "text": [
      "9199/9199 [==============================] - 1s 151us/step - loss: 0.0639 - acc: 0.9827 - val_loss: 0.1599 - val_acc: 0.9511\n",
      "\n",
      "Epoch 00138: val_loss did not improve\n",
      "Epoch 139/150\n",
      "9199/9199 [==============================] - 1s 153us/step - loss: 0.0629 - acc: 0.9845 - val_loss: 0.1601 - val_acc: 0.9511\n",
      "\n",
      "Epoch 00139: val_loss did not improve\n",
      "Epoch 140/150\n",
      "9199/9199 [==============================] - 1s 152us/step - loss: 0.0642 - acc: 0.9825 - val_loss: 0.1602 - val_acc: 0.9501\n",
      "\n",
      "Epoch 00140: val_loss did not improve\n",
      "Epoch 141/150\n",
      "9199/9199 [==============================] - 1s 150us/step - loss: 0.0648 - acc: 0.9834 - val_loss: 0.1602 - val_acc: 0.9501\n",
      "\n",
      "Epoch 00141: val_loss did not improve\n",
      "Epoch 142/150\n",
      "9199/9199 [==============================] - 1s 155us/step - loss: 0.0634 - acc: 0.9830 - val_loss: 0.1602 - val_acc: 0.9492\n",
      "\n",
      "Epoch 00142: val_loss did not improve\n",
      "Epoch 143/150\n",
      "9199/9199 [==============================] - 1s 161us/step - loss: 0.0647 - acc: 0.9822 - val_loss: 0.1601 - val_acc: 0.9492\n",
      "\n",
      "Epoch 00143: val_loss did not improve\n",
      "Epoch 144/150\n",
      "9199/9199 [==============================] - 1s 159us/step - loss: 0.0638 - acc: 0.9824 - val_loss: 0.1598 - val_acc: 0.9501\n",
      "\n",
      "Epoch 00144: val_loss did not improve\n",
      "Epoch 145/150\n",
      "9199/9199 [==============================] - 1s 155us/step - loss: 0.0629 - acc: 0.9843 - val_loss: 0.1598 - val_acc: 0.9501\n",
      "\n",
      "Epoch 00145: val_loss did not improve\n",
      "Epoch 146/150\n",
      "9199/9199 [==============================] - 1s 148us/step - loss: 0.0617 - acc: 0.9842 - val_loss: 0.1600 - val_acc: 0.9501\n",
      "\n",
      "Epoch 00146: val_loss did not improve\n",
      "Epoch 147/150\n",
      "9199/9199 [==============================] - 1s 153us/step - loss: 0.0637 - acc: 0.9827 - val_loss: 0.1597 - val_acc: 0.9501\n",
      "\n",
      "Epoch 00147: val_loss did not improve\n",
      "Epoch 148/150\n",
      "9199/9199 [==============================] - 1s 150us/step - loss: 0.0626 - acc: 0.9842 - val_loss: 0.1596 - val_acc: 0.9511\n",
      "\n",
      "Epoch 00148: val_loss did not improve\n",
      "Epoch 149/150\n",
      "9199/9199 [==============================] - 1s 157us/step - loss: 0.0630 - acc: 0.9835 - val_loss: 0.1596 - val_acc: 0.9501\n",
      "\n",
      "Epoch 00149: val_loss did not improve\n",
      "Epoch 150/150\n",
      "9199/9199 [==============================] - 1s 148us/step - loss: 0.0625 - acc: 0.9841 - val_loss: 0.1596 - val_acc: 0.9501\n",
      "\n",
      "Epoch 00150: val_loss did not improve\n"
     ]
    },
    {
     "data": {
      "text/plain": [
       "<keras.callbacks.History at 0x7f7a5be13550>"
      ]
     },
     "execution_count": 104,
     "metadata": {},
     "output_type": "execute_result"
    }
   ],
   "source": [
    "model2=mymodel()\n",
    "model2.compile(loss='categorical_crossentropy', optimizer=keras.optimizers.SGD(lr=0.085, decay=0.03, momentum=0.92, nesterov=True), metrics=['accuracy'])\n",
    "model2.fit(Xftrain,y_train, epochs=150,batch_size=120, shuffle=True,verbose=1,validation_data=(Xftest,y_test),callbacks=[callbacks2,tensor2])\n",
    "   "
   ]
  },
  {
   "cell_type": "code",
   "execution_count": 29,
   "metadata": {},
   "outputs": [
    {
     "name": "stderr",
     "output_type": "stream",
     "text": [
      "100%|██████████| 10357/10357 [01:12<00:00, 142.16it/s]\n"
     ]
    }
   ],
   "source": [
    "from tqdm import tqdm\n",
    "import cv2\n",
    "test=pd.read_csv(\"/home/sainathb/dog breed files/Image_Classification/sample_submission.csv\")\n",
    "xtest=[]\n",
    "for img_path in tqdm(test['id'].values):\n",
    "        xtest.append(read_img(\"/home/sainathb/dog breed files/Image_Classification/test/\"+ img_path+\".jpg\"))\n",
    "xtest=np.array(xtest)"
   ]
  },
  {
   "cell_type": "code",
   "execution_count": 31,
   "metadata": {},
   "outputs": [],
   "source": [
    "model1.load_weights('./mod1.h5')\n",
    "model2.load_weights('./mod2.h5')"
   ]
  },
  {
   "cell_type": "code",
   "execution_count": 32,
   "metadata": {
    "collapsed": true
   },
   "outputs": [],
   "source": [
    "pxpreds=base_model1.predict(x=xtest,batch_size=10)\n",
    "pipreds=base_model2.predict(x=xtest,batch_size=10)\n",
    "pirpreds=base_model3.predict(x=xtest,batch_size=10)\n"
   ]
  },
  {
   "cell_type": "code",
   "execution_count": 33,
   "metadata": {},
   "outputs": [
    {
     "data": {
      "text/plain": [
       "(10357, 5632)"
      ]
     },
     "execution_count": 33,
     "metadata": {},
     "output_type": "execute_result"
    }
   ],
   "source": [
    "pXtest=np.concatenate([pirpreds,pipreds,pxpreds],axis=-1)\n",
    "pXtest.shape"
   ]
  },
  {
   "cell_type": "code",
   "execution_count": 34,
   "metadata": {
    "collapsed": true
   },
   "outputs": [],
   "source": [
    "pxfpreds=base_model1.predict(x=np.flip(xtest,axis=2),batch_size=50)\n",
    "pifpreds=base_model2.predict(x=np.flip(xtest,axis=2),batch_size=50)\n",
    "pirfpreds=base_model3.predict(x=np.flip(xtest,axis=2),batch_size=50)"
   ]
  },
  {
   "cell_type": "code",
   "execution_count": 35,
   "metadata": {},
   "outputs": [
    {
     "data": {
      "text/plain": [
       "(10357, 5632)"
      ]
     },
     "execution_count": 35,
     "metadata": {},
     "output_type": "execute_result"
    }
   ],
   "source": [
    "pXftest=np.concatenate([pirfpreds,pifpreds,pxfpreds],axis=-1)\n",
    "pXftest.shape"
   ]
  },
  {
   "cell_type": "code",
   "execution_count": 36,
   "metadata": {
    "collapsed": true
   },
   "outputs": [],
   "source": [
    "a=model1.predict(pXtest)\n",
    "b=model2.predict(pXftest)"
   ]
  },
  {
   "cell_type": "code",
   "execution_count": 37,
   "metadata": {
    "collapsed": true
   },
   "outputs": [],
   "source": [
    "e=(a+b)/2"
   ]
  },
  {
   "cell_type": "code",
   "execution_count": 92,
   "metadata": {},
   "outputs": [
    {
     "data": {
      "text/plain": [
       "(10357, 120)"
      ]
     },
     "execution_count": 92,
     "metadata": {},
     "output_type": "execute_result"
    }
   ],
   "source": [
    "e.shape"
   ]
  },
  {
   "cell_type": "code",
   "execution_count": 91,
   "metadata": {
    "collapsed": true
   },
   "outputs": [],
   "source": [
    "np.savetxt('zeropoint15.csv',e, delimiter=',',fmt=\"%f\")"
   ]
  },
  {
   "cell_type": "code",
   "execution_count": 72,
   "metadata": {
    "collapsed": true
   },
   "outputs": [],
   "source": [
    "import matplotlib.pyplot as plt\n",
    "from sklearn.metrics import confusion_matrix\n",
    "import seaborn as sns\n",
    "from pylab import rcParams\n",
    "rcParams['figure.figsize'] = 10, 10\n",
    "plt.style.use('ggplot')\n",
    "\n",
    "%matplotlib inline"
   ]
  },
  {
   "cell_type": "code",
   "execution_count": 73,
   "metadata": {},
   "outputs": [],
   "source": [
    "preds=np.argmax((model1.predict(Xtest)+model2.predict(Xftest))/2,1)"
   ]
  },
  {
   "cell_type": "code",
   "execution_count": 74,
   "metadata": {},
   "outputs": [
    {
     "data": {
      "text/plain": [
       "(1023,)"
      ]
     },
     "execution_count": 74,
     "metadata": {},
     "output_type": "execute_result"
    }
   ],
   "source": [
    "preds.shape"
   ]
  },
  {
   "cell_type": "code",
   "execution_count": 75,
   "metadata": {
    "collapsed": true
   },
   "outputs": [],
   "source": [
    "y=np.array(y_test)"
   ]
  },
  {
   "cell_type": "code",
   "execution_count": 76,
   "metadata": {
    "collapsed": true
   },
   "outputs": [],
   "source": [
    "y=np.argmax(y,1)"
   ]
  },
  {
   "cell_type": "code",
   "execution_count": 77,
   "metadata": {},
   "outputs": [
    {
     "data": {
      "text/plain": [
       "(1023,)"
      ]
     },
     "execution_count": 77,
     "metadata": {},
     "output_type": "execute_result"
    }
   ],
   "source": [
    "y.shape"
   ]
  },
  {
   "cell_type": "code",
   "execution_count": 78,
   "metadata": {
    "collapsed": true
   },
   "outputs": [],
   "source": [
    "breeds=np.unique(train['breed'].values)"
   ]
  },
  {
   "cell_type": "code",
   "execution_count": 79,
   "metadata": {
    "collapsed": true
   },
   "outputs": [],
   "source": [
    "pr=[]\n",
    "for i in preds:\n",
    "    pr.append(breeds[i])"
   ]
  },
  {
   "cell_type": "code",
   "execution_count": 80,
   "metadata": {
    "collapsed": true
   },
   "outputs": [],
   "source": [
    "pr1=[]\n",
    "for i in y:\n",
    "    pr1.append(breeds[i])"
   ]
  },
  {
   "cell_type": "code",
   "execution_count": 81,
   "metadata": {},
   "outputs": [],
   "source": [
    "cm=confusion_matrix(pr1,pr,labels=breeds)"
   ]
  },
  {
   "cell_type": "code",
   "execution_count": 82,
   "metadata": {},
   "outputs": [
    {
     "data": {
      "image/png": "[encoded data removed]",
      "text/plain": [
       "<matplotlib.figure.Figure at 0x7f7a5ac3cb38>"
      ]
     },
     "metadata": {},
     "output_type": "display_data"
    }
   ],
   "source": [
    "fig, ax = plt.subplots(figsize=(18, 18))\n",
    "_ = sns.heatmap(cm, ax=ax, yticklabels=breeds, xticklabels=breeds, robust=True)"
   ]
  },
  {
   "cell_type": "code",
   "execution_count": 83,
   "metadata": {},
   "outputs": [],
   "source": [
    "pr1=np.array(pr1)\n",
    "pr1.shape\n",
    "pr1=pr1.reshape(1023,1)"
   ]
  },
  {
   "cell_type": "code",
   "execution_count": 84,
   "metadata": {
    "collapsed": true
   },
   "outputs": [],
   "source": [
    "pr=np.array(pr)\n",
    "pr=pr.reshape(1023,1)"
   ]
  },
  {
   "cell_type": "code",
   "execution_count": 85,
   "metadata": {
    "collapsed": true
   },
   "outputs": [],
   "source": [
    "x=np.concatenate((pr1,pr),axis=1)"
   ]
  },
  {
   "cell_type": "code",
   "execution_count": 86,
   "metadata": {},
   "outputs": [
    {
     "data": {
      "text/plain": [
       "(1023, 2)"
      ]
     },
     "execution_count": 86,
     "metadata": {},
     "output_type": "execute_result"
    }
   ],
   "source": [
    "x.shape"
   ]
  },
  {
   "cell_type": "code",
   "execution_count": 87,
   "metadata": {
    "collapsed": true
   },
   "outputs": [],
   "source": [
    "np.savetxt(\"somefile.csv\",x,fmt=\"%s\",header=\"actual,pred,count\",delimiter=',',comments='')"
   ]
  },
  {
   "cell_type": "code",
   "execution_count": 88,
   "metadata": {
    "collapsed": true
   },
   "outputs": [],
   "source": [
    "df=pd.read_csv(\"somefile.csv\")"
   ]
  },
  {
   "cell_type": "code",
   "execution_count": 89,
   "metadata": {
    "collapsed": true
   },
   "outputs": [],
   "source": [
    "df['count'] = 1"
   ]
  },
  {
   "cell_type": "code",
   "execution_count": 90,
   "metadata": {},
   "outputs": [
    {
     "data": {
      "text/plain": [
       "<matplotlib.axes._subplots.AxesSubplot at 0x7f7a5b13c908>"
      ]
     },
     "execution_count": 90,
     "metadata": {},
     "output_type": "execute_result"
    },
    {
     "data": {
      "image/png": "[encoded data removed]",
      "text/plain": [
       "<matplotlib.figure.Figure at 0x7f7a5b375ef0>"
      ]
     },
     "metadata": {},
     "output_type": "display_data"
    }
   ],
   "source": [
    "\n",
    "misclass_df = df[df['actual'] != df['pred']].groupby(['actual', 'pred']).sum().sort_values(['count'], ascending=False).reset_index()\n",
    "misclass_df['pair'] = misclass_df['actual'] + ' / ' + misclass_df['pred']\n",
    "misclass_df = misclass_df[['pair', 'count']].take(range(30))\n",
    "\n",
    "misclass_df.sort_values(['count']).plot.barh(figsize=(8, 10), x=misclass_df['pair'])\n",
    "\n"
   ]
  },
  {
   "cell_type": "code",
   "execution_count": null,
   "metadata": {
    "collapsed": true
   },
   "outputs": [],
   "source": []
  },
  {
   "cell_type": "code",
   "execution_count": null,
   "metadata": {
    "collapsed": true
   },
   "outputs": [],
   "source": []
  }
 ],
 "metadata": {
  "celltoolbar": "Raw Cell Format",
  "kernelspec": {
   "display_name": "Python 3",
   "language": "python",
   "name": "python3"
  },
  "language_info": {
   "codemirror_mode": {
    "name": "ipython",
    "version": 3
   },
   "file_extension": ".py",
   "mimetype": "text/x-python",
   "name": "python",
   "nbconvert_exporter": "python",
   "pygments_lexer": "ipython3",
   "version": "3.6.3"
  }
 },
 "nbformat": 4,
 "nbformat_minor": 2
}
