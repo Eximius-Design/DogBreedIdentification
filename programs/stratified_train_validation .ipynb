{
 "cells": [
  {
   "cell_type": "code",
   "execution_count": 1,
   "metadata": {},
   "outputs": [
    {
     "name": "stderr",
     "output_type": "stream",
     "text": [
      "Using TensorFlow backend.\n"
     ]
    }
   ],
   "source": [
    "import pandas as pd\n",
    "import numpy as np\n",
    "from keras.preprocessing import image\n",
    "from sklearn.model_selection import StratifiedShuffleSplit"
   ]
  },
  {
   "cell_type": "code",
   "execution_count": 2,
   "metadata": {
    "collapsed": true
   },
   "outputs": [],
   "source": [
    "def load(inputx,val_size,path,target_size):\n",
    "    x=[]\n",
    "    y=[]\n",
    "    for i in range(inputx.shape[0]):\n",
    "        img=image.load_img(path+inputx.iloc[i][0]+\".jpg\",target_size=target_size)\n",
    "        arr=image.img_to_array(img)\n",
    "        x.append(arr/255)\n",
    "        y.append(inputx.iloc[i][1])\n",
    "    x=np.asarray(x)\n",
    "    y=np.asarray(y)\n",
    "    one_hot = pd.get_dummies(y, sparse = True)\n",
    "    y = np.asarray(one_hot)\n",
    "    sss = StratifiedShuffleSplit(n_splits=1, test_size=val_size, random_state=0)\n",
    "    for train_index, test_index in sss.split(x,y):\n",
    "        x_train, x_test = x[train_index], x[test_index]\n",
    "        y_train, y_test = y[train_index], y[test_index]\n",
    "    return x_train,y_train,x_test,y_test\n"
   ]
  },
  {
   "cell_type": "markdown",
   "metadata": {},
   "source": [
    "load() is a function with inputx,val_size,path,target_size as parameters,where \n",
    "\n",
    "inputx - is a pandas DataFrame which contains the imagefile names and its labels\n",
    "\n",
    "val_size - is a parameter that takes percentage of input that we want to split into validation set\n",
    "\n",
    "path - is a parameter that takes the path to the imagefiles\n",
    "\n",
    "target_size - is a parameter that takes output shape of the images "
   ]
  },
  {
   "cell_type": "code",
   "execution_count": 3,
   "metadata": {
    "collapsed": true
   },
   "outputs": [],
   "source": [
    "dogs=pd.read_csv(\"/home/ramreddyy/Documents/dog_breed/labels.csv\")"
   ]
  },
  {
   "cell_type": "code",
   "execution_count": null,
   "metadata": {},
   "outputs": [],
   "source": [
    "X_train,Y_train,X_val,Y_val=load(inputx=dogs,val_size=0.2,path=\"/home/ramreddyy/Documents/dog_breed/train/\",target_size=(300,300))"
   ]
  },
  {
   "cell_type": "code",
   "execution_count": null,
   "metadata": {},
   "outputs": [],
   "source": [
    "print(X_train.shape)\n",
    "print(Y_train.shape)\n",
    "print(X_val.shape)\n",
    "print(Y_val.shape)"
   ]
  },
  {
   "cell_type": "code",
   "execution_count": null,
   "metadata": {},
   "outputs": [],
   "source": [
    "print(type(dogs['breed']))"
   ]
  },
  {
   "cell_type": "code",
   "execution_count": null,
   "metadata": {},
   "outputs": [],
   "source": [
    "print(dogs)"
   ]
  },
  {
   "cell_type": "code",
   "execution_count": null,
   "metadata": {
    "collapsed": true
   },
   "outputs": [],
   "source": []
  }
 ],
 "metadata": {
  "kernelspec": {
   "display_name": "Python 3",
   "language": "python",
   "name": "python3"
  },
  "language_info": {
   "codemirror_mode": {
    "name": "ipython",
    "version": 3
   },
   "file_extension": ".py",
   "mimetype": "text/x-python",
   "name": "python",
   "nbconvert_exporter": "python",
   "pygments_lexer": "ipython3",
   "version": "3.6.3"
  }
 },
 "nbformat": 4,
 "nbformat_minor": 2
}
