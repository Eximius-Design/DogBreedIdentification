{
 "cells": [
  {
   "cell_type": "code",
   "execution_count": 3,
   "metadata": {},
   "outputs": [
    {
     "name": "stderr",
     "output_type": "stream",
     "text": [
      "Using TensorFlow backend.\n"
     ]
    }
   ],
   "source": [
    "import tensorflow as tf\n",
    "config = tf.ConfigProto()\n",
    "config.gpu_options.allow_growth = True\n",
    "session = tf.Session(config=config)\n",
    "from keras.backend.tensorflow_backend import set_session\n",
    "set_session(tf.Session(config=config))\n",
    "import keras\n",
    "from keras import backend as K\n",
    "K.set_image_dim_ordering('tf')\n",
    "from keras.models import Model\n",
    "import numpy as np\n",
    "from keras.applications.imagenet_utils import preprocess_input\n",
    "from keras.preprocessing import image\n",
    "from matplotlib.pyplot import imshow\n",
    "import pandas as pd\n",
    "from keras.models import Sequential\n",
    "from keras.layers import Dense, Dropout, Flatten,Activation, Conv2D, MaxPooling2D,BatchNormalization,GlobalAveragePooling2D\n",
    "from keras.callbacks import EarlyStopping\n",
    "from keras.utils import to_categorical\n",
    "\n",
    "from keras.applications.vgg16 import VGG16\n",
    "from keras.preprocessing import image\n",
    "from keras.applications.vgg16 import preprocess_input\n",
    "from keras.applications.vgg16 import decode_predictions\n",
    "import keras\n",
    "import numpy as np\n",
    "from keras.preprocessing.image import ImageDataGenerator"
   ]
  },
  {
   "cell_type": "markdown",
   "metadata": {},
   "source": [
    "**Loading converted train and test npy files***"
   ]
  },
  {
   "cell_type": "code",
   "execution_count": 4,
   "metadata": {},
   "outputs": [],
   "source": [
    "X_train=np.load('/home/saiaravinds/dog_test/X_train1.npy')\n",
    "y_train=np.load('/home/saiaravinds/dog_test/y_train1.npy')\n",
    "X_test=np.load('/home/saiaravinds/dog_test/X_test1.npy')\n",
    "y_test=np.load('/home/saiaravinds/dog_test/y_test1.npy')"
   ]
  },
  {
   "cell_type": "code",
   "execution_count": 5,
   "metadata": {},
   "outputs": [
    {
     "name": "stdout",
     "output_type": "stream",
     "text": [
      "(9199, 224, 224, 3)\n",
      "(1023, 224, 224, 3)\n",
      "(9199, 120)\n",
      "(1023, 120)\n"
     ]
    }
   ],
   "source": [
    "print(X_train.shape)\n",
    "print(X_test.shape)\n",
    "print(y_train.shape)\n",
    "print(y_test.shape)"
   ]
  },
  {
   "cell_type": "markdown",
   "metadata": {},
   "source": [
    "concatenating the features"
   ]
  },
  {
   "cell_type": "code",
   "execution_count": 6,
   "metadata": {
    "collapsed": true
   },
   "outputs": [],
   "source": [
    "from keras.applications.inception_resnet_v2 import InceptionResNetV2\n",
    "model=InceptionResNetV2(weights='imagenet', include_top=False)\n",
    "\n",
    "train_data=model.predict(X_train)"
   ]
  },
  {
   "cell_type": "code",
   "execution_count": null,
   "metadata": {
    "collapsed": true
   },
   "outputs": [],
   "source": [
    "print(train_data.shape)"
   ]
  },
  {
   "cell_type": "code",
   "execution_count": null,
   "metadata": {
    "collapsed": true
   },
   "outputs": [],
   "source": [
    "model1=Sequential()\n",
    "model1.add(GlobalAveragePooling2D(input_shape=(5, 5, 1536)))\n",
    "train_data01=model1.predict(train_data)"
   ]
  },
  {
   "cell_type": "code",
   "execution_count": null,
   "metadata": {
    "collapsed": true
   },
   "outputs": [],
   "source": [
    "print(train_data1.shape)"
   ]
  },
  {
   "cell_type": "code",
   "execution_count": null,
   "metadata": {
    "collapsed": true
   },
   "outputs": [],
   "source": [
    "model1 = VGG16(weights='imagenet', include_top=False)"
   ]
  },
  {
   "cell_type": "code",
   "execution_count": null,
   "metadata": {
    "collapsed": true
   },
   "outputs": [],
   "source": [
    "train_data2=model1.predict(X_train)"
   ]
  },
  {
   "cell_type": "code",
   "execution_count": null,
   "metadata": {
    "collapsed": true
   },
   "outputs": [],
   "source": [
    "print(train_data2.shape)"
   ]
  },
  {
   "cell_type": "code",
   "execution_count": null,
   "metadata": {
    "collapsed": true
   },
   "outputs": [],
   "source": [
    "model1=Sequential()\n",
    "model1.add(GlobalAveragePooling2D(input_shape=(7, 7, 512)))\n",
    "test_data02=model1.predict(train_data2)"
   ]
  },
  {
   "cell_type": "code",
   "execution_count": null,
   "metadata": {
    "collapsed": true
   },
   "outputs": [],
   "source": [
    "print(train_data02.shape)"
   ]
  },
  {
   "cell_type": "markdown",
   "metadata": {
    "collapsed": true
   },
   "source": [
    "Loading concatenated fearures of VGG and Inception_resnetV2"
   ]
  },
  {
   "cell_type": "code",
   "execution_count": 2,
   "metadata": {
    "collapsed": true
   },
   "outputs": [],
   "source": [
    "x22=np.load('/home/saiaravinds/x22.npy')"
   ]
  },
  {
   "cell_type": "code",
   "execution_count": 3,
   "metadata": {
    "collapsed": true
   },
   "outputs": [],
   "source": [
    "x21=np.load('/home/saiaravinds/x21.npy')"
   ]
  },
  {
   "cell_type": "code",
   "execution_count": 4,
   "metadata": {},
   "outputs": [
    {
     "name": "stdout",
     "output_type": "stream",
     "text": [
      "(1023, 2048)\n"
     ]
    }
   ],
   "source": [
    "print(x22.shape)"
   ]
  },
  {
   "cell_type": "code",
   "execution_count": 6,
   "metadata": {},
   "outputs": [
    {
     "name": "stdout",
     "output_type": "stream",
     "text": [
      "(9199, 2048)\n"
     ]
    }
   ],
   "source": [
    "print(x21.shape)"
   ]
  },
  {
   "cell_type": "code",
   "execution_count": 12,
   "metadata": {
    "collapsed": true
   },
   "outputs": [],
   "source": [
    "from keras import optimizers\n",
    "model2=Sequential()\n",
    "#model2.add(BatchNormalization(input_shape=(2048)))\n",
    "model2.add(Dense(1024, input_dim=2048, activation='relu',kernel_initializer='uniform'))\n",
    "model2.add(keras.layers.core.Dropout(0.3, noise_shape=None, seed=None))\n",
    "model2.add(BatchNormalization())\n",
    "model2.add(Dense(512, input_dim=1024, activation='relu',kernel_initializer='uniform'))\n",
    "model2.add(keras.layers.core.Dropout(0.3, noise_shape=None, seed=None))\n",
    "model2.add(BatchNormalization())\n",
    "model2.add(Dense(units=120))\n",
    "model2.add(Activation('softmax'))\n",
    "\n",
    "sgd = optimizers.SGD(lr=0.0001, decay=1e-6, momentum=0.9, nesterov=True)\n",
    "model2.compile(loss = 'categorical_crossentropy', optimizer = sgd, metrics = ['accuracy'])"
   ]
  },
  {
   "cell_type": "code",
   "execution_count": 13,
   "metadata": {
    "scrolled": false
   },
   "outputs": [
    {
     "name": "stdout",
     "output_type": "stream",
     "text": [
      "Train on 9199 samples, validate on 1023 samples\n",
      "Epoch 1/100\n",
      "9199/9199 [==============================] - 7s - loss: 5.5032 - acc: 0.0113 - val_loss: 4.6267 - val_acc: 0.0684\n",
      "Epoch 2/100\n",
      "9199/9199 [==============================] - 6s - loss: 5.2262 - acc: 0.0178 - val_loss: 4.2916 - val_acc: 0.3206\n",
      "Epoch 3/100\n",
      "9199/9199 [==============================] - 7s - loss: 4.9942 - acc: 0.0242 - val_loss: 3.9927 - val_acc: 0.5103\n",
      "Epoch 4/100\n",
      "9199/9199 [==============================] - 7s - loss: 4.7480 - acc: 0.0411 - val_loss: 3.7060 - val_acc: 0.6530\n",
      "Epoch 5/100\n",
      "9199/9199 [==============================] - 6s - loss: 4.4823 - acc: 0.0652 - val_loss: 3.4209 - val_acc: 0.7165\n",
      "Epoch 6/100\n",
      "9199/9199 [==============================] - 6s - loss: 4.2426 - acc: 0.0890 - val_loss: 3.1396 - val_acc: 0.7410\n",
      "Epoch 7/100\n",
      "9199/9199 [==============================] - 7s - loss: 3.9634 - acc: 0.1357 - val_loss: 2.8647 - val_acc: 0.7615\n",
      "Epoch 8/100\n",
      "9199/9199 [==============================] - 6s - loss: 3.7484 - acc: 0.1686 - val_loss: 2.5982 - val_acc: 0.7683\n",
      "Epoch 9/100\n",
      "9199/9199 [==============================] - 6s - loss: 3.5134 - acc: 0.2210 - val_loss: 2.3459 - val_acc: 0.7703\n",
      "Epoch 10/100\n",
      "9199/9199 [==============================] - 6s - loss: 3.2635 - acc: 0.2758 - val_loss: 2.1116 - val_acc: 0.7761\n",
      "Epoch 11/100\n",
      "9199/9199 [==============================] - 6s - loss: 3.0469 - acc: 0.3280 - val_loss: 1.9018 - val_acc: 0.7820\n",
      "Epoch 12/100\n",
      "9199/9199 [==============================] - 7s - loss: 2.7991 - acc: 0.3924 - val_loss: 1.7128 - val_acc: 0.7820\n",
      "Epoch 13/100\n",
      "9199/9199 [==============================] - 6s - loss: 2.6122 - acc: 0.4405 - val_loss: 1.5488 - val_acc: 0.7810\n",
      "Epoch 14/100\n",
      "9199/9199 [==============================] - 6s - loss: 2.4376 - acc: 0.4755 - val_loss: 1.4066 - val_acc: 0.7810\n",
      "Epoch 15/100\n",
      "9199/9199 [==============================] - 6s - loss: 2.2716 - acc: 0.5184 - val_loss: 1.2857 - val_acc: 0.7820\n",
      "Epoch 16/100\n",
      "9199/9199 [==============================] - 6s - loss: 2.1214 - acc: 0.5545 - val_loss: 1.1830 - val_acc: 0.7869\n",
      "Epoch 17/100\n",
      "9199/9199 [==============================] - 6s - loss: 1.9904 - acc: 0.5797 - val_loss: 1.0974 - val_acc: 0.7898\n",
      "Epoch 18/100\n",
      "9199/9199 [==============================] - 6s - loss: 1.8835 - acc: 0.6101 - val_loss: 1.0244 - val_acc: 0.7928\n",
      "Epoch 19/100\n",
      "9199/9199 [==============================] - 6s - loss: 1.7592 - acc: 0.6358 - val_loss: 0.9654 - val_acc: 0.7937\n",
      "Epoch 20/100\n",
      "9199/9199 [==============================] - 6s - loss: 1.6662 - acc: 0.6519 - val_loss: 0.9158 - val_acc: 0.7918\n",
      "Epoch 21/100\n",
      "9199/9199 [==============================] - 7s - loss: 1.5824 - acc: 0.6696 - val_loss: 0.8747 - val_acc: 0.7957\n",
      "Epoch 22/100\n",
      "9199/9199 [==============================] - 6s - loss: 1.4948 - acc: 0.6878 - val_loss: 0.8379 - val_acc: 0.7967\n",
      "Epoch 23/100\n",
      "9199/9199 [==============================] - 6s - loss: 1.4414 - acc: 0.6950 - val_loss: 0.8087 - val_acc: 0.7996\n",
      "Epoch 24/100\n",
      "9199/9199 [==============================] - 7s - loss: 1.3935 - acc: 0.7024 - val_loss: 0.7836 - val_acc: 0.8016\n",
      "Epoch 25/100\n",
      "9199/9199 [==============================] - 7s - loss: 1.3400 - acc: 0.7107 - val_loss: 0.7633 - val_acc: 0.8016\n",
      "Epoch 26/100\n",
      "9199/9199 [==============================] - 7s - loss: 1.2822 - acc: 0.7242 - val_loss: 0.7450 - val_acc: 0.8025\n",
      "Epoch 27/100\n",
      "9199/9199 [==============================] - 6s - loss: 1.2211 - acc: 0.7274 - val_loss: 0.7303 - val_acc: 0.8035\n",
      "Epoch 28/100\n",
      "9199/9199 [==============================] - 7s - loss: 1.1768 - acc: 0.7395 - val_loss: 0.7168 - val_acc: 0.8035\n",
      "Epoch 29/100\n",
      "9199/9199 [==============================] - 6s - loss: 1.1511 - acc: 0.7435 - val_loss: 0.7050 - val_acc: 0.8055\n",
      "Epoch 30/100\n",
      "9199/9199 [==============================] - 6s - loss: 1.1338 - acc: 0.7436 - val_loss: 0.6949 - val_acc: 0.8045\n",
      "Epoch 31/100\n",
      "9199/9199 [==============================] - 6s - loss: 1.0886 - acc: 0.7578 - val_loss: 0.6864 - val_acc: 0.8045\n",
      "Epoch 32/100\n",
      "9199/9199 [==============================] - 7s - loss: 1.0769 - acc: 0.7566 - val_loss: 0.6793 - val_acc: 0.8065\n",
      "Epoch 33/100\n",
      "9199/9199 [==============================] - 7s - loss: 1.0373 - acc: 0.7576 - val_loss: 0.6727 - val_acc: 0.8055\n",
      "Epoch 34/100\n",
      "9199/9199 [==============================] - 7s - loss: 1.0227 - acc: 0.7611 - val_loss: 0.6671 - val_acc: 0.8045\n",
      "Epoch 35/100\n",
      "9199/9199 [==============================] - 6s - loss: 1.0082 - acc: 0.7586 - val_loss: 0.6618 - val_acc: 0.8065\n",
      "Epoch 36/100\n",
      "9199/9199 [==============================] - 7s - loss: 0.9660 - acc: 0.7685 - val_loss: 0.6578 - val_acc: 0.8065\n",
      "Epoch 37/100\n",
      "9199/9199 [==============================] - 6s - loss: 0.9813 - acc: 0.7617 - val_loss: 0.6537 - val_acc: 0.8084\n",
      "Epoch 38/100\n",
      "9199/9199 [==============================] - 7s - loss: 0.9496 - acc: 0.7737 - val_loss: 0.6505 - val_acc: 0.8074\n",
      "Epoch 39/100\n",
      "9199/9199 [==============================] - 7s - loss: 0.9444 - acc: 0.7715 - val_loss: 0.6466 - val_acc: 0.8084\n",
      "Epoch 40/100\n",
      "9199/9199 [==============================] - 6s - loss: 0.9314 - acc: 0.7719 - val_loss: 0.6442 - val_acc: 0.8074\n",
      "Epoch 41/100\n",
      "9199/9199 [==============================] - 6s - loss: 0.8995 - acc: 0.7776 - val_loss: 0.6416 - val_acc: 0.8084\n",
      "Epoch 42/100\n",
      "9199/9199 [==============================] - 6s - loss: 0.8991 - acc: 0.7775 - val_loss: 0.6396 - val_acc: 0.8084\n",
      "Epoch 43/100\n",
      "9199/9199 [==============================] - 6s - loss: 0.8922 - acc: 0.7737 - val_loss: 0.6371 - val_acc: 0.8084\n",
      "Epoch 44/100\n",
      "9199/9199 [==============================] - 7s - loss: 0.8763 - acc: 0.7815 - val_loss: 0.6352 - val_acc: 0.8104\n",
      "Epoch 45/100\n",
      "9199/9199 [==============================] - 6s - loss: 0.8611 - acc: 0.7844 - val_loss: 0.6333 - val_acc: 0.8094\n",
      "Epoch 46/100\n",
      "9199/9199 [==============================] - 7s - loss: 0.8588 - acc: 0.7822 - val_loss: 0.6317 - val_acc: 0.8074\n",
      "Epoch 47/100\n",
      "9199/9199 [==============================] - 7s - loss: 0.8323 - acc: 0.7873 - val_loss: 0.6297 - val_acc: 0.8094\n",
      "Epoch 48/100\n",
      "9199/9199 [==============================] - 6s - loss: 0.8305 - acc: 0.7878 - val_loss: 0.6290 - val_acc: 0.8094\n",
      "Epoch 49/100\n",
      "9199/9199 [==============================] - 6s - loss: 0.8284 - acc: 0.7902 - val_loss: 0.6277 - val_acc: 0.8094\n",
      "Epoch 50/100\n",
      "9199/9199 [==============================] - 7s - loss: 0.8115 - acc: 0.7931 - val_loss: 0.6267 - val_acc: 0.8094\n",
      "Epoch 51/100\n",
      "9199/9199 [==============================] - 7s - loss: 0.8260 - acc: 0.7858 - val_loss: 0.6254 - val_acc: 0.8084\n",
      "Epoch 52/100\n",
      "9199/9199 [==============================] - 6s - loss: 0.8123 - acc: 0.7930 - val_loss: 0.6242 - val_acc: 0.8074\n",
      "Epoch 53/100\n",
      "9199/9199 [==============================] - 6s - loss: 0.8066 - acc: 0.7889 - val_loss: 0.6230 - val_acc: 0.8104\n",
      "Epoch 54/100\n",
      "9199/9199 [==============================] - 6s - loss: 0.7986 - acc: 0.7951 - val_loss: 0.6211 - val_acc: 0.8084\n",
      "Epoch 55/100\n",
      "9199/9199 [==============================] - 7s - loss: 0.7980 - acc: 0.7906 - val_loss: 0.6206 - val_acc: 0.8094\n",
      "Epoch 56/100\n",
      "9199/9199 [==============================] - 7s - loss: 0.7840 - acc: 0.7948 - val_loss: 0.6196 - val_acc: 0.8104\n",
      "Epoch 57/100\n",
      "9199/9199 [==============================] - 6s - loss: 0.7828 - acc: 0.7952 - val_loss: 0.6191 - val_acc: 0.8084\n",
      "Epoch 58/100\n",
      "9199/9199 [==============================] - 7s - loss: 0.7765 - acc: 0.7977 - val_loss: 0.6183 - val_acc: 0.8074\n",
      "Epoch 59/100\n",
      "9199/9199 [==============================] - 6s - loss: 0.7727 - acc: 0.7973 - val_loss: 0.6184 - val_acc: 0.8084\n",
      "Epoch 60/100\n",
      "9199/9199 [==============================] - 7s - loss: 0.7549 - acc: 0.7983 - val_loss: 0.6181 - val_acc: 0.8074\n",
      "Epoch 61/100\n",
      "9199/9199 [==============================] - 6s - loss: 0.7505 - acc: 0.8018 - val_loss: 0.6182 - val_acc: 0.8104\n",
      "Epoch 62/100\n",
      "9199/9199 [==============================] - 6s - loss: 0.7461 - acc: 0.7997 - val_loss: 0.6178 - val_acc: 0.8094\n",
      "Epoch 63/100\n",
      "9199/9199 [==============================] - 6s - loss: 0.7502 - acc: 0.7999 - val_loss: 0.6177 - val_acc: 0.8094\n",
      "Epoch 64/100\n",
      "9199/9199 [==============================] - 7s - loss: 0.7386 - acc: 0.8073 - val_loss: 0.6173 - val_acc: 0.8104\n",
      "Epoch 65/100\n",
      "9199/9199 [==============================] - 6s - loss: 0.7346 - acc: 0.7964 - val_loss: 0.6170 - val_acc: 0.8074\n",
      "Epoch 66/100\n",
      "9199/9199 [==============================] - 7s - loss: 0.7359 - acc: 0.8026 - val_loss: 0.6164 - val_acc: 0.8123\n",
      "Epoch 67/100\n",
      "9199/9199 [==============================] - 7s - loss: 0.7415 - acc: 0.8005 - val_loss: 0.6157 - val_acc: 0.8094\n",
      "Epoch 68/100\n",
      "9199/9199 [==============================] - 6s - loss: 0.7253 - acc: 0.8073 - val_loss: 0.6157 - val_acc: 0.8133\n",
      "Epoch 69/100\n",
      "9199/9199 [==============================] - 7s - loss: 0.7193 - acc: 0.8052 - val_loss: 0.6151 - val_acc: 0.8084\n",
      "Epoch 70/100\n",
      "9199/9199 [==============================] - 6s - loss: 0.7317 - acc: 0.7998 - val_loss: 0.6149 - val_acc: 0.8094\n",
      "Epoch 71/100\n",
      "9199/9199 [==============================] - 6s - loss: 0.7125 - acc: 0.8045 - val_loss: 0.6149 - val_acc: 0.8094\n",
      "Epoch 72/100\n",
      "9199/9199 [==============================] - 7s - loss: 0.7140 - acc: 0.8032 - val_loss: 0.6151 - val_acc: 0.8094\n",
      "Epoch 73/100\n",
      "9199/9199 [==============================] - 6s - loss: 0.7060 - acc: 0.8088 - val_loss: 0.6146 - val_acc: 0.8094\n",
      "Epoch 74/100\n",
      "9199/9199 [==============================] - 6s - loss: 0.7028 - acc: 0.8111 - val_loss: 0.6145 - val_acc: 0.8113\n",
      "Epoch 75/100\n",
      "9199/9199 [==============================] - 6s - loss: 0.7044 - acc: 0.8076 - val_loss: 0.6149 - val_acc: 0.8094\n",
      "Epoch 76/100\n",
      "9199/9199 [==============================] - 6s - loss: 0.6915 - acc: 0.8122 - val_loss: 0.6141 - val_acc: 0.8113\n",
      "Epoch 77/100\n",
      "9199/9199 [==============================] - 6s - loss: 0.6944 - acc: 0.8062 - val_loss: 0.6136 - val_acc: 0.8123\n",
      "Epoch 78/100\n",
      "9199/9199 [==============================] - 7s - loss: 0.6982 - acc: 0.8087 - val_loss: 0.6146 - val_acc: 0.8094\n",
      "Epoch 79/100\n",
      "9199/9199 [==============================] - 7s - loss: 0.6987 - acc: 0.8052 - val_loss: 0.6144 - val_acc: 0.8094\n",
      "Epoch 80/100\n",
      "9199/9199 [==============================] - 6s - loss: 0.6907 - acc: 0.8090 - val_loss: 0.6137 - val_acc: 0.8123\n",
      "Epoch 81/100\n",
      "9199/9199 [==============================] - 7s - loss: 0.6856 - acc: 0.8099 - val_loss: 0.6140 - val_acc: 0.8123\n",
      "Epoch 82/100\n",
      "9199/9199 [==============================] - 6s - loss: 0.6866 - acc: 0.8140 - val_loss: 0.6139 - val_acc: 0.8094\n",
      "Epoch 83/100\n",
      "9199/9199 [==============================] - 7s - loss: 0.6709 - acc: 0.8126 - val_loss: 0.6131 - val_acc: 0.8104\n",
      "Epoch 84/100\n",
      "9199/9199 [==============================] - 7s - loss: 0.6766 - acc: 0.8166 - val_loss: 0.6141 - val_acc: 0.8094\n",
      "Epoch 85/100\n",
      "9199/9199 [==============================] - 7s - loss: 0.6744 - acc: 0.8129 - val_loss: 0.6131 - val_acc: 0.8113\n",
      "Epoch 86/100\n",
      "9199/9199 [==============================] - 6s - loss: 0.6826 - acc: 0.8148 - val_loss: 0.6126 - val_acc: 0.8084\n",
      "Epoch 87/100\n",
      "9199/9199 [==============================] - 7s - loss: 0.6676 - acc: 0.8141 - val_loss: 0.6127 - val_acc: 0.8104\n",
      "Epoch 88/100\n",
      "9199/9199 [==============================] - 6s - loss: 0.6703 - acc: 0.8139 - val_loss: 0.6124 - val_acc: 0.8123\n",
      "Epoch 89/100\n",
      "9199/9199 [==============================] - 6s - loss: 0.6675 - acc: 0.8124 - val_loss: 0.6126 - val_acc: 0.8113\n",
      "Epoch 90/100\n",
      "9199/9199 [==============================] - 7s - loss: 0.6575 - acc: 0.8173 - val_loss: 0.6128 - val_acc: 0.8143\n",
      "Epoch 91/100\n",
      "9199/9199 [==============================] - 7s - loss: 0.6682 - acc: 0.8179 - val_loss: 0.6125 - val_acc: 0.8123\n",
      "Epoch 92/100\n",
      "9199/9199 [==============================] - 6s - loss: 0.6587 - acc: 0.8163 - val_loss: 0.6128 - val_acc: 0.8104\n",
      "Epoch 93/100\n",
      "9199/9199 [==============================] - 7s - loss: 0.6622 - acc: 0.8163 - val_loss: 0.6126 - val_acc: 0.8113\n",
      "Epoch 94/100\n",
      "9199/9199 [==============================] - 6s - loss: 0.6582 - acc: 0.8191 - val_loss: 0.6130 - val_acc: 0.8084\n",
      "Epoch 95/100\n",
      "9199/9199 [==============================] - 6s - loss: 0.6610 - acc: 0.8104 - val_loss: 0.6131 - val_acc: 0.8123\n",
      "Epoch 96/100\n",
      "9199/9199 [==============================] - 6s - loss: 0.6497 - acc: 0.8175 - val_loss: 0.6129 - val_acc: 0.8113\n",
      "Epoch 97/100\n",
      "9199/9199 [==============================] - 6s - loss: 0.6492 - acc: 0.8177 - val_loss: 0.6128 - val_acc: 0.8113\n",
      "Epoch 98/100\n",
      "9199/9199 [==============================] - 6s - loss: 0.6515 - acc: 0.8151 - val_loss: 0.6132 - val_acc: 0.8123\n",
      "Epoch 99/100\n",
      "9199/9199 [==============================] - 6s - loss: 0.6532 - acc: 0.8188 - val_loss: 0.6129 - val_acc: 0.8143\n",
      "Epoch 100/100\n",
      "9199/9199 [==============================] - 6s - loss: 0.6415 - acc: 0.8162 - val_loss: 0.6135 - val_acc: 0.8113\n"
     ]
    },
    {
     "data": {
      "text/plain": [
       "<keras.callbacks.History at 0x7f2c262f6438>"
      ]
     },
     "execution_count": 13,
     "metadata": {},
     "output_type": "execute_result"
    }
   ],
   "source": [
    "from keras.callbacks import TensorBoard\n",
    "tensorb=TensorBoard(log_dir='./logs', histogram_freq=1, batch_size=32, write_graph=True, write_grads=False, write_images=False, embeddings_freq=0, embeddings_layer_names=None, embeddings_metadata=None)\n",
    "\n",
    "model2.fit(x21,y_train,validation_data=(x22,y_test),epochs=100,callbacks=[tensorb])"
   ]
  },
  {
   "cell_type": "code",
   "execution_count": null,
   "metadata": {
    "collapsed": true
   },
   "outputs": [],
   "source": [
    "p1=model2.predict(x17)"
   ]
  },
  {
   "cell_type": "code",
   "execution_count": null,
   "metadata": {
    "collapsed": true
   },
   "outputs": [],
   "source": [
    "print(p1.shape)"
   ]
  },
  {
   "cell_type": "code",
   "execution_count": null,
   "metadata": {
    "collapsed": true
   },
   "outputs": [],
   "source": [
    "df=pd.read_csv(\"/home/saiaravinds/sample_submission.csv\")\n",
    "def test():\n",
    "    t=[] \n",
    "    for i in range(df.shape[0]):\n",
    "        #print(df.iloc[i][0])\n",
    "        imgg=image.load_img(\"/home/saiaravinds/test/\"+df.loc[i][0]+\".jpg\",target_size=(299,299))\n",
    "        x=image.img_to_array(imgg)\n",
    "        x=x/255\n",
    "        t.append(x)\n",
    "    return t\n",
    "b=test()\n",
    "b=np.asarray(b)\n",
    "print(b.shape)"
   ]
  },
  {
   "cell_type": "code",
   "execution_count": null,
   "metadata": {
    "collapsed": true
   },
   "outputs": [],
   "source": [
    "X_test=b"
   ]
  },
  {
   "cell_type": "code",
   "execution_count": null,
   "metadata": {
    "collapsed": true
   },
   "outputs": [],
   "source": [
    "model.load_weights('/home/saiaravinds/dog_testweights.bestaugmented.from_scratch.hdf5')\n"
   ]
  },
  {
   "cell_type": "code",
   "execution_count": null,
   "metadata": {
    "collapsed": true
   },
   "outputs": [],
   "source": [
    "model2.predict(x)"
   ]
  }
 ],
 "metadata": {
  "kernelspec": {
   "display_name": "Python 3",
   "language": "python",
   "name": "python3"
  },
  "language_info": {
   "codemirror_mode": {
    "name": "ipython",
    "version": 3
   },
   "file_extension": ".py",
   "mimetype": "text/x-python",
   "name": "python",
   "nbconvert_exporter": "python",
   "pygments_lexer": "ipython3",
   "version": "3.6.3"
  }
 },
 "nbformat": 4,
 "nbformat_minor": 2
}
