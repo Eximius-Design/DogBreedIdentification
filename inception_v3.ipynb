{
 "cells": [
  {
   "cell_type": "code",
   "execution_count": 1,
   "metadata": {},
   "outputs": [
    {
     "name": "stderr",
     "output_type": "stream",
     "text": [
      "Using TensorFlow backend.\n"
     ]
    }
   ],
   "source": [
    "import pandas as pd\n",
    "#from keras.preprocessing import image\n",
    "from matplotlib import pyplot\n",
    "from matplotlib.pyplot import imshow\n",
    "import split_data as sd\n",
    "import basic_model as n\n",
    "import numpy as np\n",
    "from sklearn.metrics import confusion_matrix\n",
    "#import Network as net\n",
    "import vectorised as v\n",
    "from random import randint\n",
    "import tensorflow as tf\n",
    "config = tf.ConfigProto()\n",
    "config.gpu_options.allow_growth = True\n",
    "session = tf.Session(config=config)\n",
    "from keras.backend.tensorflow_backend import set_session\n",
    "set_session(tf.Session(config=config))\n",
    "import keras\n",
    "from keras.preprocessing import image\n",
    "from keras.preprocessing.image import ImageDataGenerator\n",
    "config=tf.ConfigProto()\n",
    "config.gpu_options.allow_growth=True"
   ]
  },
  {
   "cell_type": "code",
   "execution_count": 2,
   "metadata": {},
   "outputs": [
    {
     "name": "stdout",
     "output_type": "stream",
     "text": [
      "                                 id             breed\n",
      "0  000bec180eb18c7604dcecc8fe0dba07       boston_bull\n",
      "1  001513dfcb2ffafc82cccf4d8bbaba97             dingo\n",
      "2  001cdf01b096e06d78e9e5112d419397          pekinese\n",
      "3  00214f311d5d2247d5dfe4fe24b2303d          bluetick\n",
      "4  0021f9ceb3235effd7fcde7f7538ed62  golden_retriever\n"
     ]
    }
   ],
   "source": [
    "data=pd.read_csv('/home/snehao/dog_breed/Image_Classification/labels.csv')\n",
    "print(data.head())\n",
    "targets_series = pd.Series(data['breed'])\n",
    "one_hot = pd.get_dummies(targets_series, sparse = True)\n",
    "one_hot_labels = np.asarray(one_hot)"
   ]
  },
  {
   "cell_type": "code",
   "execution_count": 3,
   "metadata": {},
   "outputs": [
    {
     "name": "stdout",
     "output_type": "stream",
     "text": [
      "(1022, 2)\n",
      "(1022, 120)\n",
      "(1023, 2)\n",
      "(1023, 120)\n"
     ]
    }
   ],
   "source": [
    "x_train,x_test,y_train,y_test=sd.split_data(data,one_hot_labels,.20)\n",
    "#y_test1=x_test['breed'].values\n",
    "#print(x_train.nlargest(5,x_train.groupby(['breed']).size()))\n",
    "x_val,x_test,y_val,y_test=sd.split_data(x_test,y_test,.50)\n",
    "#print(x_train.groupby(['breed']).size().sort_values())\n",
    "print(x_val.shape)\n",
    "print(y_val.shape)\n",
    "print(x_test.shape)\n",
    "print(y_test.shape)"
   ]
  },
  {
   "cell_type": "code",
   "execution_count": 4,
   "metadata": {},
   "outputs": [
    {
     "name": "stdout",
     "output_type": "stream",
     "text": [
      "x_shape (8177, 224, 224, 3)\n",
      "y_shape (8177, 120)\n"
     ]
    }
   ],
   "source": [
    "x=[]\n",
    "y=[]\n",
    "#for i in range(100):\n",
    "for i in range(x_train.shape[0]):\n",
    "    img = image.load_img('/home/snehao/dog_breed/train/'+x_train.iloc[i][0]+'.jpg',target_size=(224,224,3))\n",
    "    arr=image.img_to_array(img)\n",
    "    x.append(arr/255)\n",
    "    y.append(y_train[i])\n",
    "x=np.array(x)\n",
    "y=np.array(y)\n",
    "print('x_shape',x.shape)\n",
    "print('y_shape',y.shape)"
   ]
  },
  {
   "cell_type": "code",
   "execution_count": 5,
   "metadata": {},
   "outputs": [
    {
     "name": "stdout",
     "output_type": "stream",
     "text": [
      "y_shape (1022, 120)\n",
      "x_shape (1022, 224, 224, 3)\n"
     ]
    }
   ],
   "source": [
    "import cv2\n",
    "x_val_images=[]\n",
    "y_val1=[]\n",
    "#for i in range(100):\n",
    "for i in range(x_val.shape[0]): \n",
    "    \n",
    "    img = image.load_img('/home/snehao/dog_breed/train/'+x_val.iloc[i][0]+'.jpg',target_size=(224,224,3))\n",
    "    arr=image.img_to_array(img)\n",
    "    x_val_images.append(arr/255)\n",
    "    y_val1.append(y_val[i])\n",
    "x_val_images=np.array(x_val_images)\n",
    "y_val1=np.array(y_val1)\n",
    "print('y_shape',y_val1.shape)\n",
    "print('x_shape',x_val_images.shape)\n"
   ]
  },
  {
   "cell_type": "code",
   "execution_count": 6,
   "metadata": {},
   "outputs": [],
   "source": [
    "from keras.layers import Concatenate,Add,BatchNormalization,Input,Dropout,Dense,Activation,Flatten,MaxPooling2D,Conv2D,ZeroPadding2D\n",
    "from keras.models import Model,Sequential\n",
    "from keras.applications.inception_v3 import InceptionV3\n",
    "base_model = InceptionV3(input_shape=(224,224,3),weights='imagenet', include_top=False,pooling='avg')\n",
    "\n"
   ]
  },
  {
   "cell_type": "code",
   "execution_count": 46,
   "metadata": {
    "collapsed": true
   },
   "outputs": [],
   "source": [
    "callback=keras.callbacks.TensorBoard(log_dir='Graphs1', histogram_freq=0,  \n",
    "          write_graph=True, write_images=True)"
   ]
  },
  {
   "cell_type": "code",
   "execution_count": 38,
   "metadata": {},
   "outputs": [],
   "source": [
    "featuresx=base_model.predict(x)"
   ]
  },
  {
   "cell_type": "code",
   "execution_count": 8,
   "metadata": {
    "collapsed": true
   },
   "outputs": [],
   "source": [
    "features_val=base_model.predict(x_val_images)\n"
   ]
  },
  {
   "cell_type": "code",
   "execution_count": 9,
   "metadata": {},
   "outputs": [
    {
     "data": {
      "text/plain": [
       "(8177, 2048)"
      ]
     },
     "execution_count": 9,
     "metadata": {},
     "output_type": "execute_result"
    }
   ],
   "source": [
    "featuresx.shape"
   ]
  },
  {
   "cell_type": "code",
   "execution_count": 47,
   "metadata": {},
   "outputs": [
    {
     "name": "stdout",
     "output_type": "stream",
     "text": [
      "_________________________________________________________________\n",
      "Layer (type)                 Output Shape              Param #   \n",
      "=================================================================\n",
      "input_19 (InputLayer)        (None, 2048)              0         \n",
      "_________________________________________________________________\n",
      "dense_51 (Dense)             (None, 1024)              2098176   \n",
      "_________________________________________________________________\n",
      "dropout_16 (Dropout)         (None, 1024)              0         \n",
      "_________________________________________________________________\n",
      "dense_52 (Dense)             (None, 512)               524800    \n",
      "_________________________________________________________________\n",
      "dense_53 (Dense)             (None, 120)               61560     \n",
      "=================================================================\n",
      "Total params: 2,684,536\n",
      "Trainable params: 2,684,536\n",
      "Non-trainable params: 0\n",
      "_________________________________________________________________\n",
      "None\n"
     ]
    }
   ],
   "source": [
    "from keras import optimizers\n",
    "input_shape=Input((2048,)) \n",
    "x1=Dense(1024, activation='relu')(input_shape) \n",
    "x1=Dropout(0.4)(x1) \n",
    "x1=Dense(512, activation='relu')(x1) \n",
    "#x1=Dropout(0.2)(x1) \n",
    "x1=Dense(120, activation='softmax')(x1) \n",
    "model=Model(inputs=input_shape,outputs=x1) \n",
    "print(model.summary()) \n",
    "sgd=optimizers.SGD( momentum=0.0, decay=0.0, nesterov=False) \n",
    "model.compile(loss='categorical_crossentropy', optimizer=sgd, metrics=['accuracy'])\n",
    "\n"
   ]
  },
  {
   "cell_type": "code",
   "execution_count": 48,
   "metadata": {},
   "outputs": [
    {
     "name": "stdout",
     "output_type": "stream",
     "text": [
      "Train on 8177 samples, validate on 1022 samples\n",
      "Epoch 1/100\n",
      "8177/8177 [==============================] - 1s 83us/step - loss: 4.6642 - acc: 0.0488 - val_loss: 4.1443 - val_acc: 0.2583\n",
      "Epoch 2/100\n",
      "8177/8177 [==============================] - 0s 30us/step - loss: 3.8992 - acc: 0.2453 - val_loss: 3.2818 - val_acc: 0.5059\n",
      "Epoch 3/100\n",
      "8177/8177 [==============================] - 0s 29us/step - loss: 3.0125 - acc: 0.4625 - val_loss: 2.2788 - val_acc: 0.6184\n",
      "Epoch 4/100\n",
      "8177/8177 [==============================] - 0s 29us/step - loss: 2.1606 - acc: 0.5921 - val_loss: 1.5586 - val_acc: 0.6879\n",
      "Epoch 5/100\n",
      "8177/8177 [==============================] - 0s 28us/step - loss: 1.5988 - acc: 0.6666 - val_loss: 1.1780 - val_acc: 0.7231\n",
      "Epoch 6/100\n",
      "8177/8177 [==============================] - 0s 29us/step - loss: 1.2925 - acc: 0.7015 - val_loss: 1.0011 - val_acc: 0.7329\n",
      "Epoch 7/100\n",
      "8177/8177 [==============================] - 0s 29us/step - loss: 1.1100 - acc: 0.7314 - val_loss: 0.9142 - val_acc: 0.7495\n",
      "Epoch 8/100\n",
      "8177/8177 [==============================] - 0s 31us/step - loss: 1.0014 - acc: 0.7388 - val_loss: 0.8502 - val_acc: 0.7485\n",
      "Epoch 9/100\n",
      "8177/8177 [==============================] - 0s 30us/step - loss: 0.9250 - acc: 0.7561 - val_loss: 0.8106 - val_acc: 0.7671\n",
      "Epoch 10/100\n",
      "8177/8177 [==============================] - 0s 29us/step - loss: 0.8529 - acc: 0.7701 - val_loss: 0.7956 - val_acc: 0.7593\n",
      "Epoch 11/100\n",
      "8177/8177 [==============================] - 0s 29us/step - loss: 0.8145 - acc: 0.7738 - val_loss: 0.7770 - val_acc: 0.7789\n",
      "Epoch 12/100\n",
      "8177/8177 [==============================] - 0s 28us/step - loss: 0.7684 - acc: 0.7838 - val_loss: 0.7637 - val_acc: 0.7661\n",
      "Epoch 13/100\n",
      "8177/8177 [==============================] - 0s 29us/step - loss: 0.7406 - acc: 0.7860 - val_loss: 0.7509 - val_acc: 0.7769\n",
      "Epoch 14/100\n",
      "8177/8177 [==============================] - 0s 28us/step - loss: 0.7015 - acc: 0.7996 - val_loss: 0.7409 - val_acc: 0.7798\n",
      "Epoch 15/100\n",
      "8177/8177 [==============================] - 0s 28us/step - loss: 0.6903 - acc: 0.7993 - val_loss: 0.7408 - val_acc: 0.7779\n",
      "Epoch 16/100\n",
      "8177/8177 [==============================] - 0s 29us/step - loss: 0.6670 - acc: 0.8071 - val_loss: 0.7293 - val_acc: 0.7818\n",
      "Epoch 17/100\n",
      "8177/8177 [==============================] - 0s 29us/step - loss: 0.6533 - acc: 0.8085 - val_loss: 0.7237 - val_acc: 0.7750\n",
      "Epoch 18/100\n",
      "8177/8177 [==============================] - 0s 28us/step - loss: 0.6280 - acc: 0.8145 - val_loss: 0.7221 - val_acc: 0.7838\n",
      "Epoch 19/100\n",
      "8177/8177 [==============================] - 0s 30us/step - loss: 0.6215 - acc: 0.8157 - val_loss: 0.7275 - val_acc: 0.7798\n",
      "Epoch 20/100\n",
      "8177/8177 [==============================] - 0s 30us/step - loss: 0.5966 - acc: 0.8217 - val_loss: 0.7231 - val_acc: 0.7769\n",
      "Epoch 21/100\n",
      "8177/8177 [==============================] - 0s 29us/step - loss: 0.5772 - acc: 0.8273 - val_loss: 0.7250 - val_acc: 0.7769\n",
      "Epoch 22/100\n",
      "8177/8177 [==============================] - 0s 29us/step - loss: 0.5636 - acc: 0.8344 - val_loss: 0.7067 - val_acc: 0.7838\n",
      "Epoch 23/100\n",
      "8177/8177 [==============================] - 0s 29us/step - loss: 0.5503 - acc: 0.8351 - val_loss: 0.7125 - val_acc: 0.7789\n",
      "Epoch 24/100\n",
      "8177/8177 [==============================] - 0s 30us/step - loss: 0.5431 - acc: 0.8381 - val_loss: 0.7097 - val_acc: 0.7750\n",
      "Epoch 25/100\n",
      "8177/8177 [==============================] - 0s 29us/step - loss: 0.5305 - acc: 0.8376 - val_loss: 0.7134 - val_acc: 0.7818\n",
      "Epoch 26/100\n",
      "8177/8177 [==============================] - 0s 30us/step - loss: 0.5073 - acc: 0.8479 - val_loss: 0.7048 - val_acc: 0.7857\n",
      "Epoch 27/100\n",
      "8177/8177 [==============================] - 0s 29us/step - loss: 0.5092 - acc: 0.8455 - val_loss: 0.7140 - val_acc: 0.7750\n",
      "Epoch 28/100\n",
      "8177/8177 [==============================] - 0s 28us/step - loss: 0.4995 - acc: 0.8468 - val_loss: 0.7070 - val_acc: 0.7759\n",
      "Epoch 29/100\n",
      "8177/8177 [==============================] - 0s 28us/step - loss: 0.4848 - acc: 0.8556 - val_loss: 0.7079 - val_acc: 0.7877\n",
      "Epoch 30/100\n",
      "8177/8177 [==============================] - 0s 29us/step - loss: 0.4729 - acc: 0.8579 - val_loss: 0.7116 - val_acc: 0.7847\n",
      "Epoch 31/100\n",
      "8177/8177 [==============================] - 0s 29us/step - loss: 0.4578 - acc: 0.8596 - val_loss: 0.7115 - val_acc: 0.7818\n",
      "Epoch 32/100\n",
      "8177/8177 [==============================] - 0s 29us/step - loss: 0.4511 - acc: 0.8614 - val_loss: 0.7174 - val_acc: 0.7730\n",
      "Epoch 33/100\n",
      "8177/8177 [==============================] - 0s 30us/step - loss: 0.4503 - acc: 0.8617 - val_loss: 0.7046 - val_acc: 0.7779\n",
      "Epoch 34/100\n",
      "8177/8177 [==============================] - 0s 29us/step - loss: 0.4333 - acc: 0.8683 - val_loss: 0.7177 - val_acc: 0.7808\n",
      "Epoch 35/100\n",
      "8177/8177 [==============================] - 0s 28us/step - loss: 0.4301 - acc: 0.8635 - val_loss: 0.7169 - val_acc: 0.7789\n",
      "Epoch 36/100\n",
      "8177/8177 [==============================] - 0s 29us/step - loss: 0.4314 - acc: 0.8693 - val_loss: 0.7089 - val_acc: 0.7838\n",
      "Epoch 37/100\n",
      "8177/8177 [==============================] - 0s 30us/step - loss: 0.4204 - acc: 0.8698 - val_loss: 0.7123 - val_acc: 0.7789\n",
      "Epoch 38/100\n",
      "8177/8177 [==============================] - 0s 30us/step - loss: 0.4092 - acc: 0.8768 - val_loss: 0.7078 - val_acc: 0.7886\n",
      "Epoch 39/100\n",
      "8177/8177 [==============================] - 0s 30us/step - loss: 0.3964 - acc: 0.8764 - val_loss: 0.7160 - val_acc: 0.7789\n",
      "Epoch 40/100\n",
      "8177/8177 [==============================] - 0s 29us/step - loss: 0.3950 - acc: 0.8791 - val_loss: 0.7158 - val_acc: 0.7818\n",
      "Epoch 41/100\n",
      "8177/8177 [==============================] - 0s 30us/step - loss: 0.3869 - acc: 0.8768 - val_loss: 0.7146 - val_acc: 0.7808\n",
      "Epoch 42/100\n",
      "8177/8177 [==============================] - 0s 29us/step - loss: 0.3849 - acc: 0.8797 - val_loss: 0.7092 - val_acc: 0.7838\n",
      "Epoch 43/100\n",
      "8177/8177 [==============================] - 0s 29us/step - loss: 0.3684 - acc: 0.8864 - val_loss: 0.7060 - val_acc: 0.7847\n",
      "Epoch 44/100\n",
      "8177/8177 [==============================] - 0s 28us/step - loss: 0.3705 - acc: 0.8831 - val_loss: 0.7151 - val_acc: 0.7828\n",
      "Epoch 45/100\n",
      "8177/8177 [==============================] - 0s 29us/step - loss: 0.3624 - acc: 0.8860 - val_loss: 0.7181 - val_acc: 0.7847\n",
      "Epoch 46/100\n",
      "8177/8177 [==============================] - 0s 29us/step - loss: 0.3492 - acc: 0.8905 - val_loss: 0.7151 - val_acc: 0.7838\n",
      "Epoch 47/100\n",
      "8177/8177 [==============================] - 0s 28us/step - loss: 0.3523 - acc: 0.8904 - val_loss: 0.7132 - val_acc: 0.7798\n",
      "Epoch 48/100\n",
      "8177/8177 [==============================] - 0s 27us/step - loss: 0.3442 - acc: 0.8940 - val_loss: 0.7163 - val_acc: 0.7838\n",
      "Epoch 49/100\n",
      "8177/8177 [==============================] - 0s 28us/step - loss: 0.3454 - acc: 0.8956 - val_loss: 0.7157 - val_acc: 0.7867\n",
      "Epoch 50/100\n",
      "8177/8177 [==============================] - 0s 29us/step - loss: 0.3285 - acc: 0.9011 - val_loss: 0.7172 - val_acc: 0.7798\n",
      "Epoch 51/100\n",
      "8177/8177 [==============================] - 0s 28us/step - loss: 0.3335 - acc: 0.8970 - val_loss: 0.7205 - val_acc: 0.7857\n",
      "Epoch 52/100\n",
      "8177/8177 [==============================] - 0s 28us/step - loss: 0.3138 - acc: 0.9061 - val_loss: 0.7253 - val_acc: 0.7798\n",
      "Epoch 53/100\n",
      "8177/8177 [==============================] - 0s 28us/step - loss: 0.3163 - acc: 0.9045 - val_loss: 0.7224 - val_acc: 0.7838\n",
      "Epoch 54/100\n",
      "8177/8177 [==============================] - 0s 29us/step - loss: 0.3214 - acc: 0.9001 - val_loss: 0.7221 - val_acc: 0.7838\n",
      "Epoch 55/100\n",
      "8177/8177 [==============================] - 0s 29us/step - loss: 0.3094 - acc: 0.9033 - val_loss: 0.7262 - val_acc: 0.7798\n",
      "Epoch 56/100\n",
      "8177/8177 [==============================] - 0s 29us/step - loss: 0.3071 - acc: 0.9056 - val_loss: 0.7212 - val_acc: 0.7867\n",
      "Epoch 57/100\n",
      "8177/8177 [==============================] - 0s 28us/step - loss: 0.2978 - acc: 0.9085 - val_loss: 0.7254 - val_acc: 0.7789\n",
      "Epoch 58/100\n",
      "8177/8177 [==============================] - 0s 29us/step - loss: 0.2959 - acc: 0.9085 - val_loss: 0.7205 - val_acc: 0.7808\n",
      "Epoch 59/100\n",
      "8177/8177 [==============================] - 0s 28us/step - loss: 0.2872 - acc: 0.9135 - val_loss: 0.7300 - val_acc: 0.7838\n",
      "Epoch 60/100\n"
     ]
    },
    {
     "name": "stdout",
     "output_type": "stream",
     "text": [
      "8177/8177 [==============================] - 0s 27us/step - loss: 0.2863 - acc: 0.9116 - val_loss: 0.7270 - val_acc: 0.7867\n",
      "Epoch 61/100\n",
      "8177/8177 [==============================] - 0s 28us/step - loss: 0.2851 - acc: 0.9082 - val_loss: 0.7233 - val_acc: 0.7818\n",
      "Epoch 62/100\n",
      "8177/8177 [==============================] - 0s 28us/step - loss: 0.2840 - acc: 0.9116 - val_loss: 0.7274 - val_acc: 0.7857\n",
      "Epoch 63/100\n",
      "8177/8177 [==============================] - 0s 29us/step - loss: 0.2766 - acc: 0.9151 - val_loss: 0.7307 - val_acc: 0.7769\n",
      "Epoch 64/100\n",
      "8177/8177 [==============================] - 0s 28us/step - loss: 0.2796 - acc: 0.9156 - val_loss: 0.7313 - val_acc: 0.7828\n",
      "Epoch 65/100\n",
      "8177/8177 [==============================] - 0s 27us/step - loss: 0.2716 - acc: 0.9170 - val_loss: 0.7234 - val_acc: 0.7838\n",
      "Epoch 66/100\n",
      "8177/8177 [==============================] - 0s 29us/step - loss: 0.2634 - acc: 0.9208 - val_loss: 0.7286 - val_acc: 0.7789\n",
      "Epoch 67/100\n",
      "8177/8177 [==============================] - 0s 29us/step - loss: 0.2560 - acc: 0.9204 - val_loss: 0.7326 - val_acc: 0.7867\n",
      "Epoch 68/100\n",
      "8177/8177 [==============================] - 0s 28us/step - loss: 0.2573 - acc: 0.9206 - val_loss: 0.7261 - val_acc: 0.7808\n",
      "Epoch 69/100\n",
      "8177/8177 [==============================] - 0s 29us/step - loss: 0.2542 - acc: 0.9244 - val_loss: 0.7299 - val_acc: 0.7828\n",
      "Epoch 70/100\n",
      "8177/8177 [==============================] - 0s 31us/step - loss: 0.2507 - acc: 0.9253 - val_loss: 0.7373 - val_acc: 0.7779\n",
      "Epoch 71/100\n",
      "8177/8177 [==============================] - 0s 29us/step - loss: 0.2512 - acc: 0.9241 - val_loss: 0.7378 - val_acc: 0.7818\n",
      "Epoch 72/100\n",
      "8177/8177 [==============================] - 0s 29us/step - loss: 0.2370 - acc: 0.9280 - val_loss: 0.7388 - val_acc: 0.7847\n",
      "Epoch 73/100\n",
      "8177/8177 [==============================] - 0s 28us/step - loss: 0.2397 - acc: 0.9282 - val_loss: 0.7329 - val_acc: 0.7906\n",
      "Epoch 74/100\n",
      "8177/8177 [==============================] - 0s 30us/step - loss: 0.2368 - acc: 0.9277 - val_loss: 0.7353 - val_acc: 0.7847\n",
      "Epoch 75/100\n",
      "8177/8177 [==============================] - 0s 28us/step - loss: 0.2337 - acc: 0.9291 - val_loss: 0.7292 - val_acc: 0.7838\n",
      "Epoch 76/100\n",
      "8177/8177 [==============================] - 0s 29us/step - loss: 0.2293 - acc: 0.9315 - val_loss: 0.7456 - val_acc: 0.7818\n",
      "Epoch 77/100\n",
      "8177/8177 [==============================] - 0s 30us/step - loss: 0.2237 - acc: 0.9330 - val_loss: 0.7382 - val_acc: 0.7857\n",
      "Epoch 78/100\n",
      "8177/8177 [==============================] - 0s 29us/step - loss: 0.2241 - acc: 0.9347 - val_loss: 0.7398 - val_acc: 0.7779\n",
      "Epoch 79/100\n",
      "8177/8177 [==============================] - 0s 29us/step - loss: 0.2306 - acc: 0.9321 - val_loss: 0.7393 - val_acc: 0.7838\n",
      "Epoch 80/100\n",
      "8177/8177 [==============================] - 0s 29us/step - loss: 0.2141 - acc: 0.9367 - val_loss: 0.7471 - val_acc: 0.7857\n",
      "Epoch 81/100\n",
      "8177/8177 [==============================] - 0s 29us/step - loss: 0.2209 - acc: 0.9343 - val_loss: 0.7431 - val_acc: 0.7828\n",
      "Epoch 82/100\n",
      "8177/8177 [==============================] - 0s 29us/step - loss: 0.2157 - acc: 0.9379 - val_loss: 0.7329 - val_acc: 0.7808\n",
      "Epoch 83/100\n",
      "8177/8177 [==============================] - 0s 29us/step - loss: 0.2089 - acc: 0.9381 - val_loss: 0.7500 - val_acc: 0.7818\n",
      "Epoch 84/100\n",
      "8177/8177 [==============================] - 0s 29us/step - loss: 0.2056 - acc: 0.9398 - val_loss: 0.7483 - val_acc: 0.7798\n",
      "Epoch 85/100\n",
      "8177/8177 [==============================] - 0s 29us/step - loss: 0.2088 - acc: 0.9360 - val_loss: 0.7510 - val_acc: 0.7818\n",
      "Epoch 86/100\n",
      "8177/8177 [==============================] - 0s 30us/step - loss: 0.1969 - acc: 0.9423 - val_loss: 0.7520 - val_acc: 0.7681\n",
      "Epoch 87/100\n",
      "8177/8177 [==============================] - 0s 29us/step - loss: 0.2022 - acc: 0.9400 - val_loss: 0.7536 - val_acc: 0.7779\n",
      "Epoch 88/100\n",
      "8177/8177 [==============================] - 0s 28us/step - loss: 0.1934 - acc: 0.9455 - val_loss: 0.7456 - val_acc: 0.7847\n",
      "Epoch 89/100\n",
      "8177/8177 [==============================] - 0s 30us/step - loss: 0.1962 - acc: 0.9423 - val_loss: 0.7521 - val_acc: 0.7818\n",
      "Epoch 90/100\n",
      "8177/8177 [==============================] - 0s 29us/step - loss: 0.1955 - acc: 0.9457 - val_loss: 0.7600 - val_acc: 0.7789\n",
      "Epoch 91/100\n",
      "8177/8177 [==============================] - 0s 29us/step - loss: 0.1860 - acc: 0.9468 - val_loss: 0.7529 - val_acc: 0.7808\n",
      "Epoch 92/100\n",
      "8177/8177 [==============================] - 0s 30us/step - loss: 0.1908 - acc: 0.9440 - val_loss: 0.7591 - val_acc: 0.7798\n",
      "Epoch 93/100\n",
      "8177/8177 [==============================] - 0s 30us/step - loss: 0.1823 - acc: 0.9499 - val_loss: 0.7565 - val_acc: 0.7818\n",
      "Epoch 94/100\n",
      "8177/8177 [==============================] - 0s 30us/step - loss: 0.1804 - acc: 0.9466 - val_loss: 0.7589 - val_acc: 0.7798\n",
      "Epoch 95/100\n",
      "8177/8177 [==============================] - 0s 29us/step - loss: 0.1795 - acc: 0.9490 - val_loss: 0.7556 - val_acc: 0.7798\n",
      "Epoch 96/100\n",
      "8177/8177 [==============================] - 0s 28us/step - loss: 0.1787 - acc: 0.9480 - val_loss: 0.7514 - val_acc: 0.7789\n",
      "Epoch 97/100\n",
      "8177/8177 [==============================] - 0s 28us/step - loss: 0.1740 - acc: 0.9503 - val_loss: 0.7621 - val_acc: 0.7779\n",
      "Epoch 98/100\n",
      "8177/8177 [==============================] - 0s 28us/step - loss: 0.1756 - acc: 0.9503 - val_loss: 0.7577 - val_acc: 0.7808\n",
      "Epoch 99/100\n",
      "8177/8177 [==============================] - 0s 29us/step - loss: 0.1731 - acc: 0.9511 - val_loss: 0.7628 - val_acc: 0.7779\n",
      "Epoch 100/100\n",
      "8177/8177 [==============================] - 0s 29us/step - loss: 0.1690 - acc: 0.9518 - val_loss: 0.7484 - val_acc: 0.7789\n"
     ]
    },
    {
     "data": {
      "text/plain": [
       "<keras.callbacks.History at 0x7fa1d729cf60>"
      ]
     },
     "execution_count": 48,
     "metadata": {},
     "output_type": "execute_result"
    }
   ],
   "source": [
    "model.fit(featuresx,y,epochs=100,validation_data=(features_val,y_val1),batch_size=150,callbacks=[callback])"
   ]
  },
  {
   "cell_type": "code",
   "execution_count": null,
   "metadata": {
    "collapsed": true
   },
   "outputs": [],
   "source": [
    "model.save_weights('inception1.h5')\n"
   ]
  },
  {
   "cell_type": "code",
   "execution_count": null,
   "metadata": {
    "collapsed": true
   },
   "outputs": [],
   "source": [
    "predics=model.predict(x_test_images)\n",
    "s=tf.Session()\n",
    "predics=s.run(tf.argmax(predics,1))\n",
    "np.savetxt('alexnet_results2.csv',predictions,fmt='%d',delimiter=',')\n",
    "print(confusion_matrix(y_test1,predics))\n"
   ]
  }
 ],
 "metadata": {
  "kernelspec": {
   "display_name": "Python 3",
   "language": "python",
   "name": "python3"
  },
  "language_info": {
   "codemirror_mode": {
    "name": "ipython",
    "version": 3
   },
   "file_extension": ".py",
   "mimetype": "text/x-python",
   "name": "python",
   "nbconvert_exporter": "python",
   "pygments_lexer": "ipython3",
   "version": "3.6.3"
  }
 },
 "nbformat": 4,
 "nbformat_minor": 2
}
